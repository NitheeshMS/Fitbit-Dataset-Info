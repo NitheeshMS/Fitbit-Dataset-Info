{
  "nbformat": 4,
  "nbformat_minor": 0,
  "metadata": {
    "colab": {
      "provenance": [],
      "collapsed_sections": [
        "mMq3XsAL0sn6",
        "4qnw1aS_1ygN",
        "Hvvda83u2VZq",
        "diefWnQZ3-Jr",
        "Oo9xRv1xB5Ra",
        "GmMF2i61DS9F",
        "ryPRsKqNLTgg",
        "0ATYH091agQ0",
        "y_4HFDYtbbPA",
        "2U-qlKtAkeQj",
        "oYnMrmU5m2I2",
        "ihqa1i0jGWdk"
      ],
      "mount_file_id": "1Z_jXvzfdKo4rfPBjPIQnVg62bU6ZBqwV",
      "authorship_tag": "ABX9TyNDuy3Bk93GdWc9XULbb4Yn",
      "include_colab_link": true
    },
    "kernelspec": {
      "name": "python3",
      "display_name": "Python 3"
    },
    "language_info": {
      "name": "python"
    }
  },
  "cells": [
    {
      "cell_type": "markdown",
      "metadata": {
        "id": "view-in-github",
        "colab_type": "text"
      },
      "source": [
        "<a href=\"https://colab.research.google.com/github/NitheeshMS/Fitbit-Dataset-Info/blob/main/Week8_Capstone.ipynb\" target=\"_parent\"><img src=\"https://colab.research.google.com/assets/colab-badge.svg\" alt=\"Open In Colab\"/></a>"
      ]
    },
    {
      "cell_type": "code",
      "execution_count": null,
      "metadata": {
        "id": "Nw7hrj4Uxffz"
      },
      "outputs": [],
      "source": [
        "import numpy as np # data arrays\n",
        "import pandas as pd # data analysis and data manipulation\n",
        "import datetime as dt #date time\n",
        "import glob #retrieving file paths\n",
        "import os #to perform operations related to file and directory handling\n",
        "import seaborn as sns  # Importing seaborn library for statistical data visualization\n",
        "import matplotlib.pyplot as plt  # Importing matplotlib.pyplot for creating static visualizations"
      ]
    },
    {
      "cell_type": "code",
      "source": [
        "# Loading data frames using pd.read to read CSV files into a pandas DataFrame\n",
        "daily_activity = pd.read_csv('/content/drive/MyDrive/Final_week/dailyActivity_merged.csv')\n",
        "sleepday = pd.read_csv('/content/drive/MyDrive/Final_week/sleepDay_merged.csv')\n",
        "weight_log = pd.read_csv('/content/drive/MyDrive/Final_week/weightLogInfo_merged.csv')\n",
        "heart_rate = pd.read_csv('/content/drive/MyDrive/Final_week/heartrate_seconds_merged.csv')"
      ],
      "metadata": {
        "id": "CRs3SLTkxxkW"
      },
      "execution_count": null,
      "outputs": []
    },
    {
      "cell_type": "markdown",
      "source": [
        "# Check for unique values"
      ],
      "metadata": {
        "id": "xihEf2m50kzR"
      }
    },
    {
      "cell_type": "code",
      "source": [
        "# Check for unique users\n",
        "print(\"Daily Activity Dataset:\",daily_activity.Id.nunique(), \"unique users\")\n",
        "print(\"SleepDay Dataset:\",sleepday.Id.nunique(), \"unique users\")\n",
        "print(\"Weight Log Dataset:\",weight_log.Id.nunique(), \"unique users\")\n",
        "print(\"Heart Rate Dataset:\",heart_rate.Id.nunique(), \"unique users\")"
      ],
      "metadata": {
        "colab": {
          "base_uri": "https://localhost:8080/"
        },
        "id": "eA36rUrY0XBP",
        "outputId": "f5e57535-ccf6-4f98-b08e-ba9cbdd7cda2"
      },
      "execution_count": null,
      "outputs": [
        {
          "output_type": "stream",
          "name": "stdout",
          "text": [
            "Daily Activity Dataset: 33 unique users\n",
            "SleepDay Dataset: 24 unique users\n",
            "Weight Log Dataset: 8 unique users\n",
            "Heart Rate Dataset: 14 unique users\n"
          ]
        }
      ]
    },
    {
      "cell_type": "markdown",
      "source": [
        "# Check for missing values in each dataset"
      ],
      "metadata": {
        "id": "mMq3XsAL0sn6"
      }
    },
    {
      "cell_type": "code",
      "source": [
        "print(\"Daily Activity Dataset - Missing Values:\")\n",
        "print(daily_activity.isnull().sum())\n"
      ],
      "metadata": {
        "colab": {
          "base_uri": "https://localhost:8080/"
        },
        "id": "DQfFKcEw0qll",
        "outputId": "f77003d3-2b2d-4ecf-8f4f-8f4feb50364f"
      },
      "execution_count": null,
      "outputs": [
        {
          "output_type": "stream",
          "name": "stdout",
          "text": [
            "Daily Activity Dataset - Missing Values:\n",
            "Id                          0\n",
            "ActivityDate                0\n",
            "TotalSteps                  0\n",
            "TotalDistance               0\n",
            "TrackerDistance             0\n",
            "LoggedActivitiesDistance    0\n",
            "VeryActiveDistance          0\n",
            "ModeratelyActiveDistance    0\n",
            "LightActiveDistance         0\n",
            "SedentaryActiveDistance     0\n",
            "VeryActiveMinutes           0\n",
            "FairlyActiveMinutes         0\n",
            "LightlyActiveMinutes        0\n",
            "SedentaryMinutes            0\n",
            "Calories                    0\n",
            "dtype: int64\n"
          ]
        }
      ]
    },
    {
      "cell_type": "code",
      "source": [
        "print(\"\\nSleepDay Dataset - Missing Values:\")\n",
        "print(sleepday.isnull().sum())"
      ],
      "metadata": {
        "colab": {
          "base_uri": "https://localhost:8080/"
        },
        "id": "RqCAgbPB00uk",
        "outputId": "d243c5ac-1a6d-4307-abc3-9537b44093c9"
      },
      "execution_count": null,
      "outputs": [
        {
          "output_type": "stream",
          "name": "stdout",
          "text": [
            "\n",
            "SleepDay Dataset - Missing Values:\n",
            "Id                    0\n",
            "SleepDay              0\n",
            "TotalSleepRecords     0\n",
            "TotalMinutesAsleep    0\n",
            "TotalTimeInBed        0\n",
            "dtype: int64\n"
          ]
        }
      ]
    },
    {
      "cell_type": "code",
      "source": [
        "print(\"\\nHeart Rate Dataset - Missing Values:\")\n",
        "print(heart_rate.isnull().sum())"
      ],
      "metadata": {
        "colab": {
          "base_uri": "https://localhost:8080/"
        },
        "id": "5l3g0FQg06Zx",
        "outputId": "65ae9bbd-fbc1-43f0-ac4e-cf674daf70b5"
      },
      "execution_count": null,
      "outputs": [
        {
          "output_type": "stream",
          "name": "stdout",
          "text": [
            "\n",
            "Heart Rate Dataset - Missing Values:\n",
            "Id       0\n",
            "Time     0\n",
            "Value    0\n",
            "dtype: int64\n"
          ]
        }
      ]
    },
    {
      "cell_type": "code",
      "source": [
        "print(\"\\nWeight Log Dataset - Missing Values:\")\n",
        "print(weight_log.isnull().sum())"
      ],
      "metadata": {
        "colab": {
          "base_uri": "https://localhost:8080/"
        },
        "id": "QZoFUbDK08dV",
        "outputId": "3d4a8278-996c-4e40-dd48-a6ae30ba1f83"
      },
      "execution_count": null,
      "outputs": [
        {
          "output_type": "stream",
          "name": "stdout",
          "text": [
            "\n",
            "Weight Log Dataset - Missing Values:\n",
            "Id                 0\n",
            "Date               0\n",
            "WeightKg           0\n",
            "WeightPounds       0\n",
            "Fat               65\n",
            "BMI                0\n",
            "IsManualReport     0\n",
            "LogId              0\n",
            "dtype: int64\n"
          ]
        }
      ]
    },
    {
      "cell_type": "code",
      "source": [
        "# Check the number of rows in Fat column\n",
        "total_rows_fat = len(weight_log['Fat'])\n",
        "print(f\"Total number of rows in the 'Fat' column: {total_rows_fat}\")"
      ],
      "metadata": {
        "colab": {
          "base_uri": "https://localhost:8080/"
        },
        "id": "dKVh_TCl1BHg",
        "outputId": "48a67273-01a2-492b-87db-ed4be30e48b4"
      },
      "execution_count": null,
      "outputs": [
        {
          "output_type": "stream",
          "name": "stdout",
          "text": [
            "Total number of rows in the 'Fat' column: 67\n"
          ]
        }
      ]
    },
    {
      "cell_type": "markdown",
      "source": [
        "### Since the 'Fat' columns has 67 rows, and 65 of them are missing value, it will be dropped"
      ],
      "metadata": {
        "id": "1tE-aqch1ddW"
      }
    },
    {
      "cell_type": "code",
      "source": [
        "weight_log = weight_log.drop(columns=['Fat'])\n"
      ],
      "metadata": {
        "id": "nvpXguJE1bzK"
      },
      "execution_count": null,
      "outputs": []
    },
    {
      "cell_type": "code",
      "source": [
        "#dropping the columns that will not be needed\n",
        "daily_activity = daily_activity.drop(columns=['LoggedActivitiesDistance', 'TrackerDistance'])\n",
        "sleepday = sleepday.drop(columns=['TotalSleepRecords'])\n",
        "weight_log = weight_log.drop(columns=['IsManualReport', 'LogId'])"
      ],
      "metadata": {
        "id": "jK2SO9ncHFiG"
      },
      "execution_count": null,
      "outputs": []
    },
    {
      "cell_type": "markdown",
      "source": [
        "# Check the dataframe shape and Datatypes"
      ],
      "metadata": {
        "id": "4qnw1aS_1ygN"
      }
    },
    {
      "cell_type": "code",
      "source": [
        "# Check the dataframe columns\n",
        "print(\"Daily Activity:\",daily_activity.columns)\n",
        "print(\"Sleepday:\",sleepday.columns)\n",
        "print(\"Weight Log:\",weight_log.columns)\n",
        "print(\"Heart Rate:\",heart_rate.columns)"
      ],
      "metadata": {
        "colab": {
          "base_uri": "https://localhost:8080/"
        },
        "id": "BnVIPyh_17Py",
        "outputId": "377001a6-ff03-4abe-a0b0-3b8146d5cd4d"
      },
      "execution_count": null,
      "outputs": [
        {
          "output_type": "stream",
          "name": "stdout",
          "text": [
            "Daily Activity: Index(['Id', 'ActivityDate', 'TotalSteps', 'TotalDistance',\n",
            "       'VeryActiveDistance', 'ModeratelyActiveDistance', 'LightActiveDistance',\n",
            "       'SedentaryActiveDistance', 'VeryActiveMinutes', 'FairlyActiveMinutes',\n",
            "       'LightlyActiveMinutes', 'SedentaryMinutes', 'Calories'],\n",
            "      dtype='object')\n",
            "Sleepday: Index(['Id', 'SleepDay', 'TotalMinutesAsleep', 'TotalTimeInBed'], dtype='object')\n",
            "Weight Log: Index(['Id', 'Date', 'WeightKg', 'WeightPounds', 'BMI'], dtype='object')\n",
            "Heart Rate: Index(['Id', 'Time', 'Value'], dtype='object')\n"
          ]
        }
      ]
    },
    {
      "cell_type": "code",
      "source": [
        "# Check the dataframe shape\n",
        "print(\"Daily Activity:\",daily_activity.shape)\n",
        "print(\"Sleepday:\",sleepday.shape)\n",
        "print(\"Weight Log:\",weight_log.shape)\n",
        "print(\"Heart Rate:\",heart_rate.shape)"
      ],
      "metadata": {
        "colab": {
          "base_uri": "https://localhost:8080/"
        },
        "id": "wC4tftqV1-Bp",
        "outputId": "3eb23d15-2ea4-4134-92c2-4b214db90d7e"
      },
      "execution_count": null,
      "outputs": [
        {
          "output_type": "stream",
          "name": "stdout",
          "text": [
            "Daily Activity: (940, 13)\n",
            "Sleepday: (413, 4)\n",
            "Weight Log: (67, 5)\n",
            "Heart Rate: (2483658, 3)\n"
          ]
        }
      ]
    },
    {
      "cell_type": "markdown",
      "source": [
        "### Transforming heart rate data by aggregating values into minute averages."
      ],
      "metadata": {
        "id": "e-m5YXIs2ISA"
      }
    },
    {
      "cell_type": "code",
      "source": [
        "# Convert the 'Time' column to a pandas datetime object\n",
        "heart_rate['Time'] = pd.to_datetime(heart_rate['Time'])"
      ],
      "metadata": {
        "id": "urqjZDF02Bqw"
      },
      "execution_count": null,
      "outputs": []
    },
    {
      "cell_type": "markdown",
      "source": [
        "### Calculate the heart rate by minute\n",
        "->grouping the data by 'Id' and minute ,then\n",
        "\n",
        "->calculate the average heart rate for each minute"
      ],
      "metadata": {
        "id": "Hvvda83u2VZq"
      }
    },
    {
      "cell_type": "code",
      "source": [
        "MinuteAverage = heart_rate.groupby(['Id', pd.Grouper(key='Time', freq='1Min')])['Value'].mean().reset_index()\n",
        "MinuteAverage.rename(columns={'Value': 'MinuteAverage'}, inplace=True)"
      ],
      "metadata": {
        "id": "tthHctUC2O4Z"
      },
      "execution_count": null,
      "outputs": []
    },
    {
      "cell_type": "markdown",
      "source": [
        "### Calculate the heart rate by hour,\n",
        "->grouping the data by 'Id' and hour,then\n",
        "\n",
        "-> calculate the average heart rate for each hour"
      ],
      "metadata": {
        "id": "diefWnQZ3-Jr"
      }
    },
    {
      "cell_type": "code",
      "source": [
        "HourlyAverage = MinuteAverage.groupby(['Id', pd.Grouper(key='Time', freq='1H')])['MinuteAverage'].mean().reset_index()\n",
        "HourlyAverage.rename(columns={'MinuteAverage': 'HourlyAverage'}, inplace=True)"
      ],
      "metadata": {
        "id": "JDlBKEKM36VO"
      },
      "execution_count": null,
      "outputs": []
    },
    {
      "cell_type": "markdown",
      "source": [
        "### Merge the MinuteAverage and HourlyAverage DataFrames back to the original heart_rate DataFrame"
      ],
      "metadata": {
        "id": "9-QeO4mH4dFE"
      }
    },
    {
      "cell_type": "code",
      "source": [
        "heart_rate = pd.merge(heart_rate, MinuteAverage[['Id', 'Time', 'MinuteAverage']], on=['Id', 'Time'])\n",
        "heart_rate = pd.merge(heart_rate, HourlyAverage[['Id', 'Time', 'HourlyAverage']], on=['Id', 'Time'])"
      ],
      "metadata": {
        "id": "StjdwITX4VeO"
      },
      "execution_count": null,
      "outputs": []
    },
    {
      "cell_type": "code",
      "source": [
        "print(heart_rate.head())\n",
        "print(\"Heart Rate:\",heart_rate.shape)"
      ],
      "metadata": {
        "colab": {
          "base_uri": "https://localhost:8080/"
        },
        "id": "6dYd7-R-4mox",
        "outputId": "81a21035-860f-414b-80ca-5c05856b2a71"
      },
      "execution_count": null,
      "outputs": [
        {
          "output_type": "stream",
          "name": "stdout",
          "text": [
            "           Id                Time  Value  MinuteAverage  HourlyAverage\n",
            "0  2022484408 2016-04-12 08:00:00    106     107.444444      66.673115\n",
            "1  2022484408 2016-04-12 09:00:00     65      64.000000      65.033879\n",
            "2  2022484408 2016-04-12 10:00:00     84      86.555556     106.553668\n",
            "3  2022484408 2016-04-12 12:00:00     69      69.272727      65.771296\n",
            "4  2022484408 2016-04-12 13:00:00     66      66.200000      82.360444\n",
            "Heart Rate: (3332, 5)\n"
          ]
        }
      ]
    },
    {
      "cell_type": "markdown",
      "source": [
        "### Creating new columns TotalHoursAsleep and TotalTimeInBedHour, and renaming TotalTimeInBed' to 'TotalTimeInBedMin'"
      ],
      "metadata": {
        "id": "oLHlU6ET6mqL"
      }
    },
    {
      "cell_type": "code",
      "source": [
        "# Create 'TotalHoursAsleep' by converting 'TotalMinutesAsleep' to hours\n",
        "sleepday['TotalHoursAsleep'] = sleepday['TotalMinutesAsleep'] / 60"
      ],
      "metadata": {
        "id": "SUewlKsx5hBd"
      },
      "execution_count": null,
      "outputs": []
    },
    {
      "cell_type": "code",
      "source": [
        "# Create 'TotalTimeInBedHour' by converting 'TotalTimeInBed' to hours\n",
        "sleepday['TotalTimeInBedHour'] = sleepday['TotalTimeInBed'] / 60"
      ],
      "metadata": {
        "id": "xzs8C3J_6p6G"
      },
      "execution_count": null,
      "outputs": []
    },
    {
      "cell_type": "code",
      "source": [
        "# Rename 'TotalTimeInBed' to 'TotalTimeInBedMin'\n",
        "sleepday.rename(columns={'TotalTimeInBed': 'TotalTimeInBedMin'}, inplace=True)\n",
        "sleepday.columns\n"
      ],
      "metadata": {
        "colab": {
          "base_uri": "https://localhost:8080/"
        },
        "id": "KYCnoHCK6siz",
        "outputId": "7535c39f-8b18-4b9c-ff66-f77d9a4c17d4"
      },
      "execution_count": null,
      "outputs": [
        {
          "output_type": "execute_result",
          "data": {
            "text/plain": [
              "Index(['Id', 'SleepDay', 'TotalMinutesAsleep', 'TotalTimeInBedMin',\n",
              "       'TotalHoursAsleep', 'TotalTimeInBedHour'],\n",
              "      dtype='object')"
            ]
          },
          "metadata": {},
          "execution_count": 77
        }
      ]
    },
    {
      "cell_type": "markdown",
      "source": [
        "### Creating new columns in the daily_activity DataFrame"
      ],
      "metadata": {
        "id": "KGldaeZN7Cao"
      }
    },
    {
      "cell_type": "code",
      "source": [
        "# For 'TotalActiveMinute' column, sum all the active minutes ('VeryActiveMinutes', 'FairlyActiveMinutes', and 'LightlyActiveMinutes')\n",
        "daily_activity[\"TotalActiveMinutes\"] = daily_activity[\"VeryActiveMinutes\"] + daily_activity[\"FairlyActiveMinutes\"] + daily_activity[\"LightlyActiveMinutes\"]\n",
        "# For the 'TotalMinute', sum the \"TotalActiveMinute' and the''SedentaryMinute''\n",
        "daily_activity[\"TotalMinutes\"] = daily_activity[\"TotalActiveMinutes\"] + daily_activity[\"SedentaryMinutes\"]\n"
      ],
      "metadata": {
        "id": "3gyyIyBW6ytc"
      },
      "execution_count": null,
      "outputs": []
    },
    {
      "cell_type": "code",
      "source": [
        "daily_activity[\"TotalActiveHours\"] = round(daily_activity[\"TotalActiveMinutes\"] / 60)"
      ],
      "metadata": {
        "id": "5qtPsBNC7fLu"
      },
      "execution_count": null,
      "outputs": []
    },
    {
      "cell_type": "markdown",
      "source": [
        "### Check Data type"
      ],
      "metadata": {
        "id": "_uXzQsl97ui8"
      }
    },
    {
      "cell_type": "code",
      "source": [
        "print(\"Daily Activity data type is\", daily_activity[\"ActivityDate\"].dtypes, \"data type\")\n",
        "print(\"Sleepday data type is\", sleepday[\"SleepDay\"].dtypes, \"data type\")\n",
        "print(\"Weight Log data type is\", weight_log[\"Date\"].dtypes, \"data type\")\n",
        "print(\"Heart Rate data type is\", heart_rate[\"Time\"].dtypes, \"data type\")"
      ],
      "metadata": {
        "colab": {
          "base_uri": "https://localhost:8080/"
        },
        "id": "KqCroH0F-r9L",
        "outputId": "c959ced7-4c81-4f42-bf55-cc3c06c612e4"
      },
      "execution_count": null,
      "outputs": [
        {
          "output_type": "stream",
          "name": "stdout",
          "text": [
            "Daily Activity data type is object data type\n",
            "Sleepday data type is object data type\n",
            "Weight Log data type is object data type\n",
            "Heart Rate data type is datetime64[ns] data type\n"
          ]
        }
      ]
    },
    {
      "cell_type": "markdown",
      "source": [
        "### Transform Date to DateTime data type"
      ],
      "metadata": {
        "id": "NI1q1d0V_CE4"
      }
    },
    {
      "cell_type": "code",
      "source": [
        "daily_activity[\"ActivityDate\"] = pd.to_datetime(daily_activity[\"ActivityDate\"])\n",
        "sleepday['SleepDay'] = pd.to_datetime(sleepday['SleepDay'])\n",
        "weight_log['Date'] = pd.to_datetime(weight_log['Date'])\n",
        "heart_rate['Time'] = pd.to_datetime(heart_rate['Time'])"
      ],
      "metadata": {
        "id": "9D-brKw2-6t1"
      },
      "execution_count": null,
      "outputs": []
    },
    {
      "cell_type": "code",
      "source": [
        "print(\"Daily Activity data type is\", daily_activity[\"ActivityDate\"].dtypes, \"data type\")\n",
        "print(\"Sleepday data type is\", sleepday[\"SleepDay\"].dtypes, \"data type\")\n",
        "print(\"Weight Log data type is\", weight_log[\"Date\"].dtypes, \"data type\")\n",
        "print(\"Heart Rate data type is\", heart_rate[\"Time\"].dtypes, \"data type\")"
      ],
      "metadata": {
        "colab": {
          "base_uri": "https://localhost:8080/"
        },
        "id": "rlo8qJ9H_GEY",
        "outputId": "3d58ed58-2c48-4d10-b12d-60b55c355b37"
      },
      "execution_count": null,
      "outputs": [
        {
          "output_type": "stream",
          "name": "stdout",
          "text": [
            "Daily Activity data type is datetime64[ns] data type\n",
            "Sleepday data type is datetime64[ns] data type\n",
            "Weight Log data type is datetime64[ns] data type\n",
            "Heart Rate data type is datetime64[ns] data type\n"
          ]
        }
      ]
    },
    {
      "cell_type": "code",
      "source": [
        "# Check the dataframe shape\n",
        "print(\"Daily Activity:\",daily_activity.shape)\n",
        "print(\"Sleepday:\",sleepday.shape)\n",
        "print(\"Weight Log:\",weight_log.shape)\n",
        "print(\"Heart Rate:\",heart_rate.shape)"
      ],
      "metadata": {
        "colab": {
          "base_uri": "https://localhost:8080/"
        },
        "id": "qDhbLEjV_I2_",
        "outputId": "e2b27c72-bc23-4f1a-a361-d5f2dd245ef6"
      },
      "execution_count": null,
      "outputs": [
        {
          "output_type": "stream",
          "name": "stdout",
          "text": [
            "Daily Activity: (940, 16)\n",
            "Sleepday: (413, 6)\n",
            "Weight Log: (67, 5)\n",
            "Heart Rate: (3332, 5)\n"
          ]
        }
      ]
    },
    {
      "cell_type": "markdown",
      "source": [
        "### Check for dupicate values"
      ],
      "metadata": {
        "id": "yi9u-wg5_Md9"
      }
    },
    {
      "cell_type": "code",
      "source": [
        "print(daily_activity['ActivityDate'].duplicated().any())\n",
        "print(sleepday['SleepDay'].duplicated().any())\n",
        "print(weight_log['Date'].duplicated().any())\n",
        "print(heart_rate['Time'].duplicated().any())"
      ],
      "metadata": {
        "colab": {
          "base_uri": "https://localhost:8080/"
        },
        "id": "eQnPOFOA_LfU",
        "outputId": "ba095bb5-d7b1-4292-82cf-8809c68d393c"
      },
      "execution_count": null,
      "outputs": [
        {
          "output_type": "stream",
          "name": "stdout",
          "text": [
            "True\n",
            "True\n",
            "True\n",
            "True\n"
          ]
        }
      ]
    },
    {
      "cell_type": "code",
      "source": [
        "# Removing duplicates\n",
        "# 1. daily_activity:\n",
        "daily_activity.drop_duplicates(inplace=True)"
      ],
      "metadata": {
        "id": "SOeJV2-2_R4o"
      },
      "execution_count": null,
      "outputs": []
    },
    {
      "cell_type": "code",
      "source": [
        "# 2. sleep_day:\n",
        "sleepday.drop_duplicates(inplace=True)"
      ],
      "metadata": {
        "id": "IjeD07yl_VVp"
      },
      "execution_count": null,
      "outputs": []
    },
    {
      "cell_type": "code",
      "source": [
        "# 3. weight_log:\n",
        "weight_log.drop_duplicates(inplace=True)"
      ],
      "metadata": {
        "id": "Vdvw03kZ_Xj_"
      },
      "execution_count": null,
      "outputs": []
    },
    {
      "cell_type": "code",
      "source": [
        "# 4. heart_rate:\n",
        "heart_rate.drop_duplicates(inplace=True)"
      ],
      "metadata": {
        "id": "I5DtO2rd_Z_y"
      },
      "execution_count": null,
      "outputs": []
    },
    {
      "cell_type": "code",
      "source": [
        "# Checking missing values\n",
        "print(daily_activity['ActivityDate'].isnull().any())\n",
        "print(sleepday['SleepDay'].isnull().any())\n",
        "print(weight_log['Date'].isnull().any())\n",
        "print(heart_rate['Time'].isnull().any())"
      ],
      "metadata": {
        "colab": {
          "base_uri": "https://localhost:8080/"
        },
        "id": "7V22F9OD_b7z",
        "outputId": "b2df7098-78cd-44b8-89b5-757bef43b5ed"
      },
      "execution_count": null,
      "outputs": [
        {
          "output_type": "stream",
          "name": "stdout",
          "text": [
            "False\n",
            "False\n",
            "False\n",
            "False\n"
          ]
        }
      ]
    },
    {
      "cell_type": "markdown",
      "source": [
        "### Renaming Columns for Simplified Merge"
      ],
      "metadata": {
        "id": "wv2__4UPAQLA"
      }
    },
    {
      "cell_type": "code",
      "source": [
        "# Replace date/time column names with 'ActivityDate' in the daily_activity dataframe\n",
        "daily_activity = daily_activity.rename(columns={'ActivityDate': 'ActivityDate'})"
      ],
      "metadata": {
        "id": "78suI-XbAaHw"
      },
      "execution_count": null,
      "outputs": []
    },
    {
      "cell_type": "code",
      "source": [
        "# Replace date/time column names with 'ActivityDate' in the sleepday dataframe\n",
        "sleepday = sleepday.rename(columns={'SleepDay': 'ActivityDate'})"
      ],
      "metadata": {
        "id": "QDCWgKMsAdof"
      },
      "execution_count": null,
      "outputs": []
    },
    {
      "cell_type": "code",
      "source": [
        "# Replace date/time column names with 'ActivityDate' in the weight_log dataframe\n",
        "weight_log = weight_log.rename(columns={'Date': 'ActivityDate'})"
      ],
      "metadata": {
        "id": "ovJnVtgEAhlO"
      },
      "execution_count": null,
      "outputs": []
    },
    {
      "cell_type": "code",
      "source": [
        "# Replace date/time column names with 'ActivityDate' in the heart_rate dataframe\n",
        "heart_rate = heart_rate.rename(columns={'Time': 'ActivityDate'})"
      ],
      "metadata": {
        "id": "8nAUVenvAmwC"
      },
      "execution_count": null,
      "outputs": []
    },
    {
      "cell_type": "code",
      "source": [
        "# Check the dataframe columns\n",
        "print(\"Daily Activity:\",daily_activity.columns)\n",
        "print(\"Sleepday:\",sleepday.columns)\n",
        "print(\"Weight Log:\",weight_log.columns)\n",
        "print(\"Heart Rate:\",heart_rate.columns)"
      ],
      "metadata": {
        "colab": {
          "base_uri": "https://localhost:8080/"
        },
        "id": "pFdgA1nVAomQ",
        "outputId": "8481ba65-2500-4a1f-88c3-77d9fbe18d4b"
      },
      "execution_count": null,
      "outputs": [
        {
          "output_type": "stream",
          "name": "stdout",
          "text": [
            "Daily Activity: Index(['Id', 'ActivityDate', 'TotalSteps', 'TotalDistance',\n",
            "       'VeryActiveDistance', 'ModeratelyActiveDistance', 'LightActiveDistance',\n",
            "       'SedentaryActiveDistance', 'VeryActiveMinutes', 'FairlyActiveMinutes',\n",
            "       'LightlyActiveMinutes', 'SedentaryMinutes', 'Calories',\n",
            "       'TotalActiveMinutes', 'TotalMinutes', 'TotalActiveHours'],\n",
            "      dtype='object')\n",
            "Sleepday: Index(['Id', 'ActivityDate', 'TotalMinutesAsleep', 'TotalTimeInBedMin',\n",
            "       'TotalHoursAsleep', 'TotalTimeInBedHour'],\n",
            "      dtype='object')\n",
            "Weight Log: Index(['Id', 'ActivityDate', 'WeightKg', 'WeightPounds', 'BMI'], dtype='object')\n",
            "Heart Rate: Index(['Id', 'ActivityDate', 'Value', 'MinuteAverage', 'HourlyAverage'], dtype='object')\n"
          ]
        }
      ]
    },
    {
      "cell_type": "markdown",
      "source": [
        "# Concatenate the DataFrames"
      ],
      "metadata": {
        "id": "Oo9xRv1xB5Ra"
      }
    },
    {
      "cell_type": "code",
      "source": [
        "# Step 1: Concatenate the DataFrames vertically to combine all the data\n",
        "combined_df = pd.concat([daily_activity, sleepday, weight_log, heart_rate], ignore_index=True)"
      ],
      "metadata": {
        "id": "YE0UV40WB1pN"
      },
      "execution_count": null,
      "outputs": []
    },
    {
      "cell_type": "code",
      "source": [
        "# Step 2: Sort the combined DataFrame by \"ActivityDate\"\n",
        "combined_df.sort_values(by='ActivityDate', inplace=True)"
      ],
      "metadata": {
        "id": "oQOkNw43B9PI"
      },
      "execution_count": null,
      "outputs": []
    },
    {
      "cell_type": "code",
      "source": [
        "# Step 3: Merge the data using forward fill (ffill) to fill NaN values in subsequent columns\n",
        "combined_df.ffill(inplace=True)"
      ],
      "metadata": {
        "id": "bzEdQ4IjCAAn"
      },
      "execution_count": null,
      "outputs": []
    },
    {
      "cell_type": "code",
      "source": [
        "print(combined_df)"
      ],
      "metadata": {
        "colab": {
          "base_uri": "https://localhost:8080/"
        },
        "id": "mPzBnD6MCBrz",
        "outputId": "6249f98f-f296-4a18-9fff-566ef4f717ba"
      },
      "execution_count": null,
      "outputs": [
        {
          "output_type": "stream",
          "name": "stdout",
          "text": [
            "              Id        ActivityDate  TotalSteps  TotalDistance  \\\n",
            "0     1503960366 2016-04-12 00:00:00     13162.0           8.50   \n",
            "597   6117666160 2016-04-12 00:00:00         0.0           0.00   \n",
            "2709  5553957443 2016-04-12 00:00:00         0.0           0.00   \n",
            "567   5577150313 2016-04-12 00:00:00      8135.0           6.08   \n",
            "536   5553957443 2016-04-12 00:00:00     11596.0           7.57   \n",
            "...          ...                 ...         ...            ...   \n",
            "2416  4388161847 2016-05-12 15:00:00      2752.0           2.23   \n",
            "2707  4558609924 2016-05-12 15:00:00      2752.0           2.23   \n",
            "2708  4558609924 2016-05-12 16:00:00      2752.0           2.23   \n",
            "1354  2873212765 2016-05-12 23:59:59      2752.0           2.23   \n",
            "1392  6962181067 2016-05-12 23:59:59      2752.0           2.23   \n",
            "\n",
            "      VeryActiveDistance  ModeratelyActiveDistance  LightActiveDistance  \\\n",
            "0                   1.88                      0.55                 6.06   \n",
            "597                 0.00                      0.00                 0.00   \n",
            "2709                0.00                      0.00                 0.00   \n",
            "567                 3.60                      0.38                 2.10   \n",
            "536                 1.37                      0.79                 5.41   \n",
            "...                  ...                       ...                  ...   \n",
            "2416                0.00                      0.00                 2.23   \n",
            "2707                0.00                      0.00                 2.23   \n",
            "2708                0.00                      0.00                 2.23   \n",
            "1354                0.00                      0.00                 2.23   \n",
            "1392                0.00                      0.00                 2.23   \n",
            "\n",
            "      SedentaryActiveDistance  VeryActiveMinutes  FairlyActiveMinutes  ...  \\\n",
            "0                         0.0               25.0                 13.0  ...   \n",
            "597                       0.0                0.0                  0.0  ...   \n",
            "2709                      0.0                0.0                  0.0  ...   \n",
            "567                       0.0               86.0                 16.0  ...   \n",
            "536                       0.0               19.0                 13.0  ...   \n",
            "...                       ...                ...                  ...  ...   \n",
            "2416                      0.0                0.0                  0.0  ...   \n",
            "2707                      0.0                0.0                  0.0  ...   \n",
            "2708                      0.0                0.0                  0.0  ...   \n",
            "1354                      0.0                0.0                  0.0  ...   \n",
            "1392                      0.0                0.0                  0.0  ...   \n",
            "\n",
            "      TotalMinutesAsleep  TotalTimeInBedMin  TotalHoursAsleep  \\\n",
            "0                    NaN                NaN               NaN   \n",
            "597                  NaN                NaN               NaN   \n",
            "2709                 NaN                NaN               NaN   \n",
            "567                  NaN                NaN               NaN   \n",
            "536                  NaN                NaN               NaN   \n",
            "...                  ...                ...               ...   \n",
            "2416               404.0              442.0          6.733333   \n",
            "2707               404.0              442.0          6.733333   \n",
            "2708               404.0              442.0          6.733333   \n",
            "1354               404.0              442.0          6.733333   \n",
            "1392               404.0              442.0          6.733333   \n",
            "\n",
            "      TotalTimeInBedHour   WeightKg  WeightPounds        BMI  Value  \\\n",
            "0                    NaN        NaN           NaN        NaN    NaN   \n",
            "597                  NaN        NaN           NaN        NaN    NaN   \n",
            "2709                 NaN        NaN           NaN        NaN   61.0   \n",
            "567                  NaN        NaN           NaN        NaN   61.0   \n",
            "536                  NaN        NaN           NaN        NaN   61.0   \n",
            "...                  ...        ...           ...        ...    ...   \n",
            "2416            7.366667  84.000000    185.188300  25.139999   54.0   \n",
            "2707            7.366667  84.000000    185.188300  25.139999   84.0   \n",
            "2708            7.366667  84.000000    185.188300  25.139999   78.0   \n",
            "1354            7.366667  57.299999    126.324875  21.690001   78.0   \n",
            "1392            7.366667  61.900002    136.466144  24.170000   78.0   \n",
            "\n",
            "      MinuteAverage  HourlyAverage  \n",
            "0               NaN            NaN  \n",
            "597             NaN            NaN  \n",
            "2709      59.333333      57.585172  \n",
            "567       59.333333      57.585172  \n",
            "536       59.333333      57.585172  \n",
            "...             ...            ...  \n",
            "2416      54.833333      56.147449  \n",
            "2707      78.400000      75.909722  \n",
            "2708      77.833333      75.197939  \n",
            "1354      77.833333      75.197939  \n",
            "1392      77.833333      75.197939  \n",
            "\n",
            "[4749 rows x 26 columns]\n"
          ]
        }
      ]
    },
    {
      "cell_type": "code",
      "source": [
        "# Checking duplicates\n",
        "print(combined_df.duplicated().any())"
      ],
      "metadata": {
        "colab": {
          "base_uri": "https://localhost:8080/"
        },
        "id": "4YXXdEgqCEHd",
        "outputId": "ffe6740b-3ab0-40b1-eb8b-33b7e7cd7d7d"
      },
      "execution_count": null,
      "outputs": [
        {
          "output_type": "stream",
          "name": "stdout",
          "text": [
            "False\n"
          ]
        }
      ]
    },
    {
      "cell_type": "code",
      "source": [
        "combined_df.head()"
      ],
      "metadata": {
        "colab": {
          "base_uri": "https://localhost:8080/",
          "height": 255
        },
        "id": "9LH2-e4eD0Fr",
        "outputId": "b898a869-795c-4d94-c46d-e47f234deede"
      },
      "execution_count": null,
      "outputs": [
        {
          "output_type": "execute_result",
          "data": {
            "text/plain": [
              "              Id ActivityDate  TotalSteps  TotalDistance  VeryActiveDistance  \\\n",
              "0     1503960366   2016-04-12     13162.0           8.50                1.88   \n",
              "597   6117666160   2016-04-12         0.0           0.00                0.00   \n",
              "2709  5553957443   2016-04-12         0.0           0.00                0.00   \n",
              "567   5577150313   2016-04-12      8135.0           6.08                3.60   \n",
              "536   5553957443   2016-04-12     11596.0           7.57                1.37   \n",
              "\n",
              "      ModeratelyActiveDistance  LightActiveDistance  SedentaryActiveDistance  \\\n",
              "0                         0.55                 6.06                      0.0   \n",
              "597                       0.00                 0.00                      0.0   \n",
              "2709                      0.00                 0.00                      0.0   \n",
              "567                       0.38                 2.10                      0.0   \n",
              "536                       0.79                 5.41                      0.0   \n",
              "\n",
              "      VeryActiveMinutes  FairlyActiveMinutes  ...  TotalMinutesAsleep  \\\n",
              "0                  25.0                 13.0  ...                 NaN   \n",
              "597                 0.0                  0.0  ...                 NaN   \n",
              "2709                0.0                  0.0  ...                 NaN   \n",
              "567                86.0                 16.0  ...                 NaN   \n",
              "536                19.0                 13.0  ...                 NaN   \n",
              "\n",
              "      TotalTimeInBedMin  TotalHoursAsleep  TotalTimeInBedHour  WeightKg  \\\n",
              "0                   NaN               NaN                 NaN       NaN   \n",
              "597                 NaN               NaN                 NaN       NaN   \n",
              "2709                NaN               NaN                 NaN       NaN   \n",
              "567                 NaN               NaN                 NaN       NaN   \n",
              "536                 NaN               NaN                 NaN       NaN   \n",
              "\n",
              "      WeightPounds  BMI  Value  MinuteAverage  HourlyAverage  \n",
              "0              NaN  NaN    NaN            NaN            NaN  \n",
              "597            NaN  NaN    NaN            NaN            NaN  \n",
              "2709           NaN  NaN   61.0      59.333333      57.585172  \n",
              "567            NaN  NaN   61.0      59.333333      57.585172  \n",
              "536            NaN  NaN   61.0      59.333333      57.585172  \n",
              "\n",
              "[5 rows x 26 columns]"
            ],
            "text/html": [
              "\n",
              "  <div id=\"df-59c8f05f-1467-4f40-bb46-06688cdc1388\" class=\"colab-df-container\">\n",
              "    <div>\n",
              "<style scoped>\n",
              "    .dataframe tbody tr th:only-of-type {\n",
              "        vertical-align: middle;\n",
              "    }\n",
              "\n",
              "    .dataframe tbody tr th {\n",
              "        vertical-align: top;\n",
              "    }\n",
              "\n",
              "    .dataframe thead th {\n",
              "        text-align: right;\n",
              "    }\n",
              "</style>\n",
              "<table border=\"1\" class=\"dataframe\">\n",
              "  <thead>\n",
              "    <tr style=\"text-align: right;\">\n",
              "      <th></th>\n",
              "      <th>Id</th>\n",
              "      <th>ActivityDate</th>\n",
              "      <th>TotalSteps</th>\n",
              "      <th>TotalDistance</th>\n",
              "      <th>VeryActiveDistance</th>\n",
              "      <th>ModeratelyActiveDistance</th>\n",
              "      <th>LightActiveDistance</th>\n",
              "      <th>SedentaryActiveDistance</th>\n",
              "      <th>VeryActiveMinutes</th>\n",
              "      <th>FairlyActiveMinutes</th>\n",
              "      <th>...</th>\n",
              "      <th>TotalMinutesAsleep</th>\n",
              "      <th>TotalTimeInBedMin</th>\n",
              "      <th>TotalHoursAsleep</th>\n",
              "      <th>TotalTimeInBedHour</th>\n",
              "      <th>WeightKg</th>\n",
              "      <th>WeightPounds</th>\n",
              "      <th>BMI</th>\n",
              "      <th>Value</th>\n",
              "      <th>MinuteAverage</th>\n",
              "      <th>HourlyAverage</th>\n",
              "    </tr>\n",
              "  </thead>\n",
              "  <tbody>\n",
              "    <tr>\n",
              "      <th>0</th>\n",
              "      <td>1503960366</td>\n",
              "      <td>2016-04-12</td>\n",
              "      <td>13162.0</td>\n",
              "      <td>8.50</td>\n",
              "      <td>1.88</td>\n",
              "      <td>0.55</td>\n",
              "      <td>6.06</td>\n",
              "      <td>0.0</td>\n",
              "      <td>25.0</td>\n",
              "      <td>13.0</td>\n",
              "      <td>...</td>\n",
              "      <td>NaN</td>\n",
              "      <td>NaN</td>\n",
              "      <td>NaN</td>\n",
              "      <td>NaN</td>\n",
              "      <td>NaN</td>\n",
              "      <td>NaN</td>\n",
              "      <td>NaN</td>\n",
              "      <td>NaN</td>\n",
              "      <td>NaN</td>\n",
              "      <td>NaN</td>\n",
              "    </tr>\n",
              "    <tr>\n",
              "      <th>597</th>\n",
              "      <td>6117666160</td>\n",
              "      <td>2016-04-12</td>\n",
              "      <td>0.0</td>\n",
              "      <td>0.00</td>\n",
              "      <td>0.00</td>\n",
              "      <td>0.00</td>\n",
              "      <td>0.00</td>\n",
              "      <td>0.0</td>\n",
              "      <td>0.0</td>\n",
              "      <td>0.0</td>\n",
              "      <td>...</td>\n",
              "      <td>NaN</td>\n",
              "      <td>NaN</td>\n",
              "      <td>NaN</td>\n",
              "      <td>NaN</td>\n",
              "      <td>NaN</td>\n",
              "      <td>NaN</td>\n",
              "      <td>NaN</td>\n",
              "      <td>NaN</td>\n",
              "      <td>NaN</td>\n",
              "      <td>NaN</td>\n",
              "    </tr>\n",
              "    <tr>\n",
              "      <th>2709</th>\n",
              "      <td>5553957443</td>\n",
              "      <td>2016-04-12</td>\n",
              "      <td>0.0</td>\n",
              "      <td>0.00</td>\n",
              "      <td>0.00</td>\n",
              "      <td>0.00</td>\n",
              "      <td>0.00</td>\n",
              "      <td>0.0</td>\n",
              "      <td>0.0</td>\n",
              "      <td>0.0</td>\n",
              "      <td>...</td>\n",
              "      <td>NaN</td>\n",
              "      <td>NaN</td>\n",
              "      <td>NaN</td>\n",
              "      <td>NaN</td>\n",
              "      <td>NaN</td>\n",
              "      <td>NaN</td>\n",
              "      <td>NaN</td>\n",
              "      <td>61.0</td>\n",
              "      <td>59.333333</td>\n",
              "      <td>57.585172</td>\n",
              "    </tr>\n",
              "    <tr>\n",
              "      <th>567</th>\n",
              "      <td>5577150313</td>\n",
              "      <td>2016-04-12</td>\n",
              "      <td>8135.0</td>\n",
              "      <td>6.08</td>\n",
              "      <td>3.60</td>\n",
              "      <td>0.38</td>\n",
              "      <td>2.10</td>\n",
              "      <td>0.0</td>\n",
              "      <td>86.0</td>\n",
              "      <td>16.0</td>\n",
              "      <td>...</td>\n",
              "      <td>NaN</td>\n",
              "      <td>NaN</td>\n",
              "      <td>NaN</td>\n",
              "      <td>NaN</td>\n",
              "      <td>NaN</td>\n",
              "      <td>NaN</td>\n",
              "      <td>NaN</td>\n",
              "      <td>61.0</td>\n",
              "      <td>59.333333</td>\n",
              "      <td>57.585172</td>\n",
              "    </tr>\n",
              "    <tr>\n",
              "      <th>536</th>\n",
              "      <td>5553957443</td>\n",
              "      <td>2016-04-12</td>\n",
              "      <td>11596.0</td>\n",
              "      <td>7.57</td>\n",
              "      <td>1.37</td>\n",
              "      <td>0.79</td>\n",
              "      <td>5.41</td>\n",
              "      <td>0.0</td>\n",
              "      <td>19.0</td>\n",
              "      <td>13.0</td>\n",
              "      <td>...</td>\n",
              "      <td>NaN</td>\n",
              "      <td>NaN</td>\n",
              "      <td>NaN</td>\n",
              "      <td>NaN</td>\n",
              "      <td>NaN</td>\n",
              "      <td>NaN</td>\n",
              "      <td>NaN</td>\n",
              "      <td>61.0</td>\n",
              "      <td>59.333333</td>\n",
              "      <td>57.585172</td>\n",
              "    </tr>\n",
              "  </tbody>\n",
              "</table>\n",
              "<p>5 rows × 26 columns</p>\n",
              "</div>\n",
              "    <div class=\"colab-df-buttons\">\n",
              "\n",
              "  <div class=\"colab-df-container\">\n",
              "    <button class=\"colab-df-convert\" onclick=\"convertToInteractive('df-59c8f05f-1467-4f40-bb46-06688cdc1388')\"\n",
              "            title=\"Convert this dataframe to an interactive table.\"\n",
              "            style=\"display:none;\">\n",
              "\n",
              "  <svg xmlns=\"http://www.w3.org/2000/svg\" height=\"24px\" viewBox=\"0 -960 960 960\">\n",
              "    <path d=\"M120-120v-720h720v720H120Zm60-500h600v-160H180v160Zm220 220h160v-160H400v160Zm0 220h160v-160H400v160ZM180-400h160v-160H180v160Zm440 0h160v-160H620v160ZM180-180h160v-160H180v160Zm440 0h160v-160H620v160Z\"/>\n",
              "  </svg>\n",
              "    </button>\n",
              "\n",
              "  <style>\n",
              "    .colab-df-container {\n",
              "      display:flex;\n",
              "      gap: 12px;\n",
              "    }\n",
              "\n",
              "    .colab-df-convert {\n",
              "      background-color: #E8F0FE;\n",
              "      border: none;\n",
              "      border-radius: 50%;\n",
              "      cursor: pointer;\n",
              "      display: none;\n",
              "      fill: #1967D2;\n",
              "      height: 32px;\n",
              "      padding: 0 0 0 0;\n",
              "      width: 32px;\n",
              "    }\n",
              "\n",
              "    .colab-df-convert:hover {\n",
              "      background-color: #E2EBFA;\n",
              "      box-shadow: 0px 1px 2px rgba(60, 64, 67, 0.3), 0px 1px 3px 1px rgba(60, 64, 67, 0.15);\n",
              "      fill: #174EA6;\n",
              "    }\n",
              "\n",
              "    .colab-df-buttons div {\n",
              "      margin-bottom: 4px;\n",
              "    }\n",
              "\n",
              "    [theme=dark] .colab-df-convert {\n",
              "      background-color: #3B4455;\n",
              "      fill: #D2E3FC;\n",
              "    }\n",
              "\n",
              "    [theme=dark] .colab-df-convert:hover {\n",
              "      background-color: #434B5C;\n",
              "      box-shadow: 0px 1px 3px 1px rgba(0, 0, 0, 0.15);\n",
              "      filter: drop-shadow(0px 1px 2px rgba(0, 0, 0, 0.3));\n",
              "      fill: #FFFFFF;\n",
              "    }\n",
              "  </style>\n",
              "\n",
              "    <script>\n",
              "      const buttonEl =\n",
              "        document.querySelector('#df-59c8f05f-1467-4f40-bb46-06688cdc1388 button.colab-df-convert');\n",
              "      buttonEl.style.display =\n",
              "        google.colab.kernel.accessAllowed ? 'block' : 'none';\n",
              "\n",
              "      async function convertToInteractive(key) {\n",
              "        const element = document.querySelector('#df-59c8f05f-1467-4f40-bb46-06688cdc1388');\n",
              "        const dataTable =\n",
              "          await google.colab.kernel.invokeFunction('convertToInteractive',\n",
              "                                                    [key], {});\n",
              "        if (!dataTable) return;\n",
              "\n",
              "        const docLinkHtml = 'Like what you see? Visit the ' +\n",
              "          '<a target=\"_blank\" href=https://colab.research.google.com/notebooks/data_table.ipynb>data table notebook</a>'\n",
              "          + ' to learn more about interactive tables.';\n",
              "        element.innerHTML = '';\n",
              "        dataTable['output_type'] = 'display_data';\n",
              "        await google.colab.output.renderOutput(dataTable, element);\n",
              "        const docLink = document.createElement('div');\n",
              "        docLink.innerHTML = docLinkHtml;\n",
              "        element.appendChild(docLink);\n",
              "      }\n",
              "    </script>\n",
              "  </div>\n",
              "\n",
              "\n",
              "<div id=\"df-43e72611-17b7-4626-ad54-07e3555683bd\">\n",
              "  <button class=\"colab-df-quickchart\" onclick=\"quickchart('df-43e72611-17b7-4626-ad54-07e3555683bd')\"\n",
              "            title=\"Suggest charts\"\n",
              "            style=\"display:none;\">\n",
              "\n",
              "<svg xmlns=\"http://www.w3.org/2000/svg\" height=\"24px\"viewBox=\"0 0 24 24\"\n",
              "     width=\"24px\">\n",
              "    <g>\n",
              "        <path d=\"M19 3H5c-1.1 0-2 .9-2 2v14c0 1.1.9 2 2 2h14c1.1 0 2-.9 2-2V5c0-1.1-.9-2-2-2zM9 17H7v-7h2v7zm4 0h-2V7h2v10zm4 0h-2v-4h2v4z\"/>\n",
              "    </g>\n",
              "</svg>\n",
              "  </button>\n",
              "\n",
              "<style>\n",
              "  .colab-df-quickchart {\n",
              "      --bg-color: #E8F0FE;\n",
              "      --fill-color: #1967D2;\n",
              "      --hover-bg-color: #E2EBFA;\n",
              "      --hover-fill-color: #174EA6;\n",
              "      --disabled-fill-color: #AAA;\n",
              "      --disabled-bg-color: #DDD;\n",
              "  }\n",
              "\n",
              "  [theme=dark] .colab-df-quickchart {\n",
              "      --bg-color: #3B4455;\n",
              "      --fill-color: #D2E3FC;\n",
              "      --hover-bg-color: #434B5C;\n",
              "      --hover-fill-color: #FFFFFF;\n",
              "      --disabled-bg-color: #3B4455;\n",
              "      --disabled-fill-color: #666;\n",
              "  }\n",
              "\n",
              "  .colab-df-quickchart {\n",
              "    background-color: var(--bg-color);\n",
              "    border: none;\n",
              "    border-radius: 50%;\n",
              "    cursor: pointer;\n",
              "    display: none;\n",
              "    fill: var(--fill-color);\n",
              "    height: 32px;\n",
              "    padding: 0;\n",
              "    width: 32px;\n",
              "  }\n",
              "\n",
              "  .colab-df-quickchart:hover {\n",
              "    background-color: var(--hover-bg-color);\n",
              "    box-shadow: 0 1px 2px rgba(60, 64, 67, 0.3), 0 1px 3px 1px rgba(60, 64, 67, 0.15);\n",
              "    fill: var(--button-hover-fill-color);\n",
              "  }\n",
              "\n",
              "  .colab-df-quickchart-complete:disabled,\n",
              "  .colab-df-quickchart-complete:disabled:hover {\n",
              "    background-color: var(--disabled-bg-color);\n",
              "    fill: var(--disabled-fill-color);\n",
              "    box-shadow: none;\n",
              "  }\n",
              "\n",
              "  .colab-df-spinner {\n",
              "    border: 2px solid var(--fill-color);\n",
              "    border-color: transparent;\n",
              "    border-bottom-color: var(--fill-color);\n",
              "    animation:\n",
              "      spin 1s steps(1) infinite;\n",
              "  }\n",
              "\n",
              "  @keyframes spin {\n",
              "    0% {\n",
              "      border-color: transparent;\n",
              "      border-bottom-color: var(--fill-color);\n",
              "      border-left-color: var(--fill-color);\n",
              "    }\n",
              "    20% {\n",
              "      border-color: transparent;\n",
              "      border-left-color: var(--fill-color);\n",
              "      border-top-color: var(--fill-color);\n",
              "    }\n",
              "    30% {\n",
              "      border-color: transparent;\n",
              "      border-left-color: var(--fill-color);\n",
              "      border-top-color: var(--fill-color);\n",
              "      border-right-color: var(--fill-color);\n",
              "    }\n",
              "    40% {\n",
              "      border-color: transparent;\n",
              "      border-right-color: var(--fill-color);\n",
              "      border-top-color: var(--fill-color);\n",
              "    }\n",
              "    60% {\n",
              "      border-color: transparent;\n",
              "      border-right-color: var(--fill-color);\n",
              "    }\n",
              "    80% {\n",
              "      border-color: transparent;\n",
              "      border-right-color: var(--fill-color);\n",
              "      border-bottom-color: var(--fill-color);\n",
              "    }\n",
              "    90% {\n",
              "      border-color: transparent;\n",
              "      border-bottom-color: var(--fill-color);\n",
              "    }\n",
              "  }\n",
              "</style>\n",
              "\n",
              "  <script>\n",
              "    async function quickchart(key) {\n",
              "      const quickchartButtonEl =\n",
              "        document.querySelector('#' + key + ' button');\n",
              "      quickchartButtonEl.disabled = true;  // To prevent multiple clicks.\n",
              "      quickchartButtonEl.classList.add('colab-df-spinner');\n",
              "      try {\n",
              "        const charts = await google.colab.kernel.invokeFunction(\n",
              "            'suggestCharts', [key], {});\n",
              "      } catch (error) {\n",
              "        console.error('Error during call to suggestCharts:', error);\n",
              "      }\n",
              "      quickchartButtonEl.classList.remove('colab-df-spinner');\n",
              "      quickchartButtonEl.classList.add('colab-df-quickchart-complete');\n",
              "    }\n",
              "    (() => {\n",
              "      let quickchartButtonEl =\n",
              "        document.querySelector('#df-43e72611-17b7-4626-ad54-07e3555683bd button');\n",
              "      quickchartButtonEl.style.display =\n",
              "        google.colab.kernel.accessAllowed ? 'block' : 'none';\n",
              "    })();\n",
              "  </script>\n",
              "</div>\n",
              "\n",
              "    </div>\n",
              "  </div>\n"
            ]
          },
          "metadata": {},
          "execution_count": 101
        }
      ]
    },
    {
      "cell_type": "code",
      "source": [
        "# Checking missing values\n",
        "print(combined_df.isnull().any())"
      ],
      "metadata": {
        "colab": {
          "base_uri": "https://localhost:8080/"
        },
        "id": "YN-KwLdRCKhA",
        "outputId": "7c51b577-5bad-4608-e520-74b2d715aad3"
      },
      "execution_count": null,
      "outputs": [
        {
          "output_type": "stream",
          "name": "stdout",
          "text": [
            "Id                          False\n",
            "ActivityDate                False\n",
            "TotalSteps                  False\n",
            "TotalDistance               False\n",
            "VeryActiveDistance          False\n",
            "ModeratelyActiveDistance    False\n",
            "LightActiveDistance         False\n",
            "SedentaryActiveDistance     False\n",
            "VeryActiveMinutes           False\n",
            "FairlyActiveMinutes         False\n",
            "LightlyActiveMinutes        False\n",
            "SedentaryMinutes            False\n",
            "Calories                    False\n",
            "TotalActiveMinutes          False\n",
            "TotalMinutes                False\n",
            "TotalActiveHours            False\n",
            "TotalMinutesAsleep           True\n",
            "TotalTimeInBedMin            True\n",
            "TotalHoursAsleep             True\n",
            "TotalTimeInBedHour           True\n",
            "WeightKg                     True\n",
            "WeightPounds                 True\n",
            "BMI                          True\n",
            "Value                        True\n",
            "MinuteAverage                True\n",
            "HourlyAverage                True\n",
            "dtype: bool\n"
          ]
        }
      ]
    },
    {
      "cell_type": "code",
      "source": [],
      "metadata": {
        "id": "Pch-9YVcErUW"
      },
      "execution_count": null,
      "outputs": []
    },
    {
      "cell_type": "markdown",
      "source": [
        "# Handle missing values and duplicates"
      ],
      "metadata": {
        "id": "GmMF2i61DS9F"
      }
    },
    {
      "cell_type": "code",
      "source": [
        "# Replace missing values in numeric columns with their mean\n",
        "numeric_cols = ['TotalMinutesAsleep', 'TotalTimeInBedMin', 'TotalHoursAsleep', 'TotalTimeInBedHour', 'WeightKg', 'WeightPounds', 'BMI', 'MinuteAverage', 'HourlyAverage']\n",
        "combined_df[numeric_cols] = combined_df[numeric_cols].fillna(combined_df[numeric_cols].mean())"
      ],
      "metadata": {
        "id": "0cafzHM0CZOF"
      },
      "execution_count": null,
      "outputs": []
    },
    {
      "cell_type": "code",
      "source": [
        "# Reset the index after dropping rows\n",
        "combined_df.reset_index(drop=True, inplace=True)"
      ],
      "metadata": {
        "id": "ktpLRFG9DWAj"
      },
      "execution_count": null,
      "outputs": []
    },
    {
      "cell_type": "code",
      "source": [
        "# Check if any missing values remain\n",
        "print(combined_df.isnull().sum())"
      ],
      "metadata": {
        "colab": {
          "base_uri": "https://localhost:8080/"
        },
        "id": "1LnHVZBHK0ZR",
        "outputId": "f99767e4-9f2f-4488-90fe-8f7dd56035b1"
      },
      "execution_count": null,
      "outputs": [
        {
          "output_type": "stream",
          "name": "stdout",
          "text": [
            "Id                          0\n",
            "ActivityDate                0\n",
            "TotalSteps                  0\n",
            "TotalDistance               0\n",
            "VeryActiveDistance          0\n",
            "ModeratelyActiveDistance    0\n",
            "LightActiveDistance         0\n",
            "SedentaryActiveDistance     0\n",
            "VeryActiveMinutes           0\n",
            "FairlyActiveMinutes         0\n",
            "LightlyActiveMinutes        0\n",
            "SedentaryMinutes            0\n",
            "Calories                    0\n",
            "TotalActiveMinutes          0\n",
            "TotalMinutes                0\n",
            "TotalActiveHours            0\n",
            "TotalMinutesAsleep          0\n",
            "TotalTimeInBedMin           0\n",
            "TotalHoursAsleep            0\n",
            "TotalTimeInBedHour          0\n",
            "WeightKg                    0\n",
            "WeightPounds                0\n",
            "BMI                         0\n",
            "Value                       2\n",
            "MinuteAverage               0\n",
            "HourlyAverage               0\n",
            "dtype: int64\n"
          ]
        }
      ]
    },
    {
      "cell_type": "code",
      "source": [
        "#Removing duplicates\n",
        "combined_df.drop_duplicates(inplace=True)"
      ],
      "metadata": {
        "id": "48rwoDqAK2n-"
      },
      "execution_count": null,
      "outputs": []
    },
    {
      "cell_type": "code",
      "source": [
        "print(combined_df.head())"
      ],
      "metadata": {
        "colab": {
          "base_uri": "https://localhost:8080/"
        },
        "id": "LX33aa9xK8S2",
        "outputId": "63ac6bd1-ca84-45ec-a047-e478200b55b9"
      },
      "execution_count": null,
      "outputs": [
        {
          "output_type": "stream",
          "name": "stdout",
          "text": [
            "           Id ActivityDate  TotalSteps  TotalDistance  VeryActiveDistance  \\\n",
            "0  1503960366   2016-04-12     13162.0           8.50                1.88   \n",
            "1  6117666160   2016-04-12         0.0           0.00                0.00   \n",
            "2  5553957443   2016-04-12         0.0           0.00                0.00   \n",
            "3  5577150313   2016-04-12      8135.0           6.08                3.60   \n",
            "4  5553957443   2016-04-12     11596.0           7.57                1.37   \n",
            "\n",
            "   ModeratelyActiveDistance  LightActiveDistance  SedentaryActiveDistance  \\\n",
            "0                      0.55                 6.06                      0.0   \n",
            "1                      0.00                 0.00                      0.0   \n",
            "2                      0.00                 0.00                      0.0   \n",
            "3                      0.38                 2.10                      0.0   \n",
            "4                      0.79                 5.41                      0.0   \n",
            "\n",
            "   VeryActiveMinutes  FairlyActiveMinutes  ...  TotalMinutesAsleep  \\\n",
            "0               25.0                 13.0  ...          431.484233   \n",
            "1                0.0                  0.0  ...          431.484233   \n",
            "2                0.0                  0.0  ...          431.484233   \n",
            "3               86.0                 16.0  ...          431.484233   \n",
            "4               19.0                 13.0  ...          431.484233   \n",
            "\n",
            "   TotalTimeInBedMin  TotalHoursAsleep  TotalTimeInBedHour   WeightKg  \\\n",
            "0          464.01672          7.191404            7.733612  73.685395   \n",
            "1          464.01672          7.191404            7.733612  73.685395   \n",
            "2          464.01672          7.191404            7.733612  73.685395   \n",
            "3          464.01672          7.191404            7.733612  73.685395   \n",
            "4          464.01672          7.191404            7.733612  73.685395   \n",
            "\n",
            "   WeightPounds        BMI  Value  MinuteAverage  HourlyAverage  \n",
            "0    162.448488  25.156889    NaN      71.581029      71.407206  \n",
            "1    162.448488  25.156889    NaN      71.581029      71.407206  \n",
            "2    162.448488  25.156889   61.0      59.333333      57.585172  \n",
            "3    162.448488  25.156889   61.0      59.333333      57.585172  \n",
            "4    162.448488  25.156889   61.0      59.333333      57.585172  \n",
            "\n",
            "[5 rows x 26 columns]\n"
          ]
        }
      ]
    },
    {
      "cell_type": "markdown",
      "source": [
        "# Creating week helps in visualization"
      ],
      "metadata": {
        "id": "ryPRsKqNLTgg"
      }
    },
    {
      "cell_type": "code",
      "source": [
        "# Create the \"WeekDay\" column based on the day of the week (Monday: 0, Sunday: 6)\n",
        "combined_df.loc[:, \"WeekDay\"] = combined_df[\"ActivityDate\"].dt.weekday"
      ],
      "metadata": {
        "id": "kU94aAWtK_Vh"
      },
      "execution_count": null,
      "outputs": []
    },
    {
      "cell_type": "code",
      "source": [
        " #Create a new list called new_cols with the desired column order for the combined_df DataFrame\n",
        "new_cols = [\"Id\", \"ActivityDate\", \"WeekDay\",'TotalSteps', 'TotalDistance', 'TotalActiveMinutes', 'TotalMinutes',\n",
        "            'TotalActiveHours', 'LightlyActiveMinutes', 'FairlyActiveMinutes',\n",
        "            'VeryActiveMinutes', 'LightActiveDistance', 'ModeratelyActiveDistance',\n",
        "            'VeryActiveDistance', 'Calories', 'TotalHoursAsleep',\n",
        "            'WeightKg', 'BMI', 'MinuteAverage', 'HourlyAverage']"
      ],
      "metadata": {
        "id": "Umy_OwCVLcOG"
      },
      "execution_count": null,
      "outputs": []
    },
    {
      "cell_type": "code",
      "source": [
        "# Reorder the columns of the merged_data DataFrame based on the new_cols list\n",
        "combined_df = combined_df[new_cols]\n"
      ],
      "metadata": {
        "id": "q_y294qcLgCV"
      },
      "execution_count": null,
      "outputs": []
    },
    {
      "cell_type": "code",
      "source": [
        "combined_df.head()"
      ],
      "metadata": {
        "colab": {
          "base_uri": "https://localhost:8080/",
          "height": 226
        },
        "id": "RN33Z8_jLnPt",
        "outputId": "457c8aec-e3b3-46ae-95b2-37e3440d33b4"
      },
      "execution_count": null,
      "outputs": [
        {
          "output_type": "execute_result",
          "data": {
            "text/plain": [
              "           Id ActivityDate  WeekDay  TotalSteps  TotalDistance  \\\n",
              "0  1503960366   2016-04-12        1     13162.0           8.50   \n",
              "1  6117666160   2016-04-12        1         0.0           0.00   \n",
              "2  5553957443   2016-04-12        1         0.0           0.00   \n",
              "3  5577150313   2016-04-12        1      8135.0           6.08   \n",
              "4  5553957443   2016-04-12        1     11596.0           7.57   \n",
              "\n",
              "   TotalActiveMinutes  TotalMinutes  TotalActiveHours  LightlyActiveMinutes  \\\n",
              "0               366.0        1094.0               6.0                 328.0   \n",
              "1                 0.0        1440.0               0.0                   0.0   \n",
              "2                 0.0        1440.0               0.0                   0.0   \n",
              "3               242.0         970.0               4.0                 140.0   \n",
              "4               309.0        1076.0               5.0                 277.0   \n",
              "\n",
              "   FairlyActiveMinutes  VeryActiveMinutes  LightActiveDistance  \\\n",
              "0                 13.0               25.0                 6.06   \n",
              "1                  0.0                0.0                 0.00   \n",
              "2                  0.0                0.0                 0.00   \n",
              "3                 16.0               86.0                 2.10   \n",
              "4                 13.0               19.0                 5.41   \n",
              "\n",
              "   ModeratelyActiveDistance  VeryActiveDistance  Calories  TotalHoursAsleep  \\\n",
              "0                      0.55                1.88    1985.0          7.191404   \n",
              "1                      0.00                0.00    1496.0          7.191404   \n",
              "2                      0.00                0.00    1496.0          7.191404   \n",
              "3                      0.38                3.60    3405.0          7.191404   \n",
              "4                      0.79                1.37    2026.0          7.191404   \n",
              "\n",
              "    WeightKg        BMI  MinuteAverage  HourlyAverage  \n",
              "0  73.685395  25.156889      71.581029      71.407206  \n",
              "1  73.685395  25.156889      71.581029      71.407206  \n",
              "2  73.685395  25.156889      59.333333      57.585172  \n",
              "3  73.685395  25.156889      59.333333      57.585172  \n",
              "4  73.685395  25.156889      59.333333      57.585172  "
            ],
            "text/html": [
              "\n",
              "  <div id=\"df-f1812c12-9d8d-411c-98ac-52d8c8882913\" class=\"colab-df-container\">\n",
              "    <div>\n",
              "<style scoped>\n",
              "    .dataframe tbody tr th:only-of-type {\n",
              "        vertical-align: middle;\n",
              "    }\n",
              "\n",
              "    .dataframe tbody tr th {\n",
              "        vertical-align: top;\n",
              "    }\n",
              "\n",
              "    .dataframe thead th {\n",
              "        text-align: right;\n",
              "    }\n",
              "</style>\n",
              "<table border=\"1\" class=\"dataframe\">\n",
              "  <thead>\n",
              "    <tr style=\"text-align: right;\">\n",
              "      <th></th>\n",
              "      <th>Id</th>\n",
              "      <th>ActivityDate</th>\n",
              "      <th>WeekDay</th>\n",
              "      <th>TotalSteps</th>\n",
              "      <th>TotalDistance</th>\n",
              "      <th>TotalActiveMinutes</th>\n",
              "      <th>TotalMinutes</th>\n",
              "      <th>TotalActiveHours</th>\n",
              "      <th>LightlyActiveMinutes</th>\n",
              "      <th>FairlyActiveMinutes</th>\n",
              "      <th>VeryActiveMinutes</th>\n",
              "      <th>LightActiveDistance</th>\n",
              "      <th>ModeratelyActiveDistance</th>\n",
              "      <th>VeryActiveDistance</th>\n",
              "      <th>Calories</th>\n",
              "      <th>TotalHoursAsleep</th>\n",
              "      <th>WeightKg</th>\n",
              "      <th>BMI</th>\n",
              "      <th>MinuteAverage</th>\n",
              "      <th>HourlyAverage</th>\n",
              "    </tr>\n",
              "  </thead>\n",
              "  <tbody>\n",
              "    <tr>\n",
              "      <th>0</th>\n",
              "      <td>1503960366</td>\n",
              "      <td>2016-04-12</td>\n",
              "      <td>1</td>\n",
              "      <td>13162.0</td>\n",
              "      <td>8.50</td>\n",
              "      <td>366.0</td>\n",
              "      <td>1094.0</td>\n",
              "      <td>6.0</td>\n",
              "      <td>328.0</td>\n",
              "      <td>13.0</td>\n",
              "      <td>25.0</td>\n",
              "      <td>6.06</td>\n",
              "      <td>0.55</td>\n",
              "      <td>1.88</td>\n",
              "      <td>1985.0</td>\n",
              "      <td>7.191404</td>\n",
              "      <td>73.685395</td>\n",
              "      <td>25.156889</td>\n",
              "      <td>71.581029</td>\n",
              "      <td>71.407206</td>\n",
              "    </tr>\n",
              "    <tr>\n",
              "      <th>1</th>\n",
              "      <td>6117666160</td>\n",
              "      <td>2016-04-12</td>\n",
              "      <td>1</td>\n",
              "      <td>0.0</td>\n",
              "      <td>0.00</td>\n",
              "      <td>0.0</td>\n",
              "      <td>1440.0</td>\n",
              "      <td>0.0</td>\n",
              "      <td>0.0</td>\n",
              "      <td>0.0</td>\n",
              "      <td>0.0</td>\n",
              "      <td>0.00</td>\n",
              "      <td>0.00</td>\n",
              "      <td>0.00</td>\n",
              "      <td>1496.0</td>\n",
              "      <td>7.191404</td>\n",
              "      <td>73.685395</td>\n",
              "      <td>25.156889</td>\n",
              "      <td>71.581029</td>\n",
              "      <td>71.407206</td>\n",
              "    </tr>\n",
              "    <tr>\n",
              "      <th>2</th>\n",
              "      <td>5553957443</td>\n",
              "      <td>2016-04-12</td>\n",
              "      <td>1</td>\n",
              "      <td>0.0</td>\n",
              "      <td>0.00</td>\n",
              "      <td>0.0</td>\n",
              "      <td>1440.0</td>\n",
              "      <td>0.0</td>\n",
              "      <td>0.0</td>\n",
              "      <td>0.0</td>\n",
              "      <td>0.0</td>\n",
              "      <td>0.00</td>\n",
              "      <td>0.00</td>\n",
              "      <td>0.00</td>\n",
              "      <td>1496.0</td>\n",
              "      <td>7.191404</td>\n",
              "      <td>73.685395</td>\n",
              "      <td>25.156889</td>\n",
              "      <td>59.333333</td>\n",
              "      <td>57.585172</td>\n",
              "    </tr>\n",
              "    <tr>\n",
              "      <th>3</th>\n",
              "      <td>5577150313</td>\n",
              "      <td>2016-04-12</td>\n",
              "      <td>1</td>\n",
              "      <td>8135.0</td>\n",
              "      <td>6.08</td>\n",
              "      <td>242.0</td>\n",
              "      <td>970.0</td>\n",
              "      <td>4.0</td>\n",
              "      <td>140.0</td>\n",
              "      <td>16.0</td>\n",
              "      <td>86.0</td>\n",
              "      <td>2.10</td>\n",
              "      <td>0.38</td>\n",
              "      <td>3.60</td>\n",
              "      <td>3405.0</td>\n",
              "      <td>7.191404</td>\n",
              "      <td>73.685395</td>\n",
              "      <td>25.156889</td>\n",
              "      <td>59.333333</td>\n",
              "      <td>57.585172</td>\n",
              "    </tr>\n",
              "    <tr>\n",
              "      <th>4</th>\n",
              "      <td>5553957443</td>\n",
              "      <td>2016-04-12</td>\n",
              "      <td>1</td>\n",
              "      <td>11596.0</td>\n",
              "      <td>7.57</td>\n",
              "      <td>309.0</td>\n",
              "      <td>1076.0</td>\n",
              "      <td>5.0</td>\n",
              "      <td>277.0</td>\n",
              "      <td>13.0</td>\n",
              "      <td>19.0</td>\n",
              "      <td>5.41</td>\n",
              "      <td>0.79</td>\n",
              "      <td>1.37</td>\n",
              "      <td>2026.0</td>\n",
              "      <td>7.191404</td>\n",
              "      <td>73.685395</td>\n",
              "      <td>25.156889</td>\n",
              "      <td>59.333333</td>\n",
              "      <td>57.585172</td>\n",
              "    </tr>\n",
              "  </tbody>\n",
              "</table>\n",
              "</div>\n",
              "    <div class=\"colab-df-buttons\">\n",
              "\n",
              "  <div class=\"colab-df-container\">\n",
              "    <button class=\"colab-df-convert\" onclick=\"convertToInteractive('df-f1812c12-9d8d-411c-98ac-52d8c8882913')\"\n",
              "            title=\"Convert this dataframe to an interactive table.\"\n",
              "            style=\"display:none;\">\n",
              "\n",
              "  <svg xmlns=\"http://www.w3.org/2000/svg\" height=\"24px\" viewBox=\"0 -960 960 960\">\n",
              "    <path d=\"M120-120v-720h720v720H120Zm60-500h600v-160H180v160Zm220 220h160v-160H400v160Zm0 220h160v-160H400v160ZM180-400h160v-160H180v160Zm440 0h160v-160H620v160ZM180-180h160v-160H180v160Zm440 0h160v-160H620v160Z\"/>\n",
              "  </svg>\n",
              "    </button>\n",
              "\n",
              "  <style>\n",
              "    .colab-df-container {\n",
              "      display:flex;\n",
              "      gap: 12px;\n",
              "    }\n",
              "\n",
              "    .colab-df-convert {\n",
              "      background-color: #E8F0FE;\n",
              "      border: none;\n",
              "      border-radius: 50%;\n",
              "      cursor: pointer;\n",
              "      display: none;\n",
              "      fill: #1967D2;\n",
              "      height: 32px;\n",
              "      padding: 0 0 0 0;\n",
              "      width: 32px;\n",
              "    }\n",
              "\n",
              "    .colab-df-convert:hover {\n",
              "      background-color: #E2EBFA;\n",
              "      box-shadow: 0px 1px 2px rgba(60, 64, 67, 0.3), 0px 1px 3px 1px rgba(60, 64, 67, 0.15);\n",
              "      fill: #174EA6;\n",
              "    }\n",
              "\n",
              "    .colab-df-buttons div {\n",
              "      margin-bottom: 4px;\n",
              "    }\n",
              "\n",
              "    [theme=dark] .colab-df-convert {\n",
              "      background-color: #3B4455;\n",
              "      fill: #D2E3FC;\n",
              "    }\n",
              "\n",
              "    [theme=dark] .colab-df-convert:hover {\n",
              "      background-color: #434B5C;\n",
              "      box-shadow: 0px 1px 3px 1px rgba(0, 0, 0, 0.15);\n",
              "      filter: drop-shadow(0px 1px 2px rgba(0, 0, 0, 0.3));\n",
              "      fill: #FFFFFF;\n",
              "    }\n",
              "  </style>\n",
              "\n",
              "    <script>\n",
              "      const buttonEl =\n",
              "        document.querySelector('#df-f1812c12-9d8d-411c-98ac-52d8c8882913 button.colab-df-convert');\n",
              "      buttonEl.style.display =\n",
              "        google.colab.kernel.accessAllowed ? 'block' : 'none';\n",
              "\n",
              "      async function convertToInteractive(key) {\n",
              "        const element = document.querySelector('#df-f1812c12-9d8d-411c-98ac-52d8c8882913');\n",
              "        const dataTable =\n",
              "          await google.colab.kernel.invokeFunction('convertToInteractive',\n",
              "                                                    [key], {});\n",
              "        if (!dataTable) return;\n",
              "\n",
              "        const docLinkHtml = 'Like what you see? Visit the ' +\n",
              "          '<a target=\"_blank\" href=https://colab.research.google.com/notebooks/data_table.ipynb>data table notebook</a>'\n",
              "          + ' to learn more about interactive tables.';\n",
              "        element.innerHTML = '';\n",
              "        dataTable['output_type'] = 'display_data';\n",
              "        await google.colab.output.renderOutput(dataTable, element);\n",
              "        const docLink = document.createElement('div');\n",
              "        docLink.innerHTML = docLinkHtml;\n",
              "        element.appendChild(docLink);\n",
              "      }\n",
              "    </script>\n",
              "  </div>\n",
              "\n",
              "\n",
              "<div id=\"df-f82b66e7-6ae8-40f3-a088-7463d71564a8\">\n",
              "  <button class=\"colab-df-quickchart\" onclick=\"quickchart('df-f82b66e7-6ae8-40f3-a088-7463d71564a8')\"\n",
              "            title=\"Suggest charts\"\n",
              "            style=\"display:none;\">\n",
              "\n",
              "<svg xmlns=\"http://www.w3.org/2000/svg\" height=\"24px\"viewBox=\"0 0 24 24\"\n",
              "     width=\"24px\">\n",
              "    <g>\n",
              "        <path d=\"M19 3H5c-1.1 0-2 .9-2 2v14c0 1.1.9 2 2 2h14c1.1 0 2-.9 2-2V5c0-1.1-.9-2-2-2zM9 17H7v-7h2v7zm4 0h-2V7h2v10zm4 0h-2v-4h2v4z\"/>\n",
              "    </g>\n",
              "</svg>\n",
              "  </button>\n",
              "\n",
              "<style>\n",
              "  .colab-df-quickchart {\n",
              "      --bg-color: #E8F0FE;\n",
              "      --fill-color: #1967D2;\n",
              "      --hover-bg-color: #E2EBFA;\n",
              "      --hover-fill-color: #174EA6;\n",
              "      --disabled-fill-color: #AAA;\n",
              "      --disabled-bg-color: #DDD;\n",
              "  }\n",
              "\n",
              "  [theme=dark] .colab-df-quickchart {\n",
              "      --bg-color: #3B4455;\n",
              "      --fill-color: #D2E3FC;\n",
              "      --hover-bg-color: #434B5C;\n",
              "      --hover-fill-color: #FFFFFF;\n",
              "      --disabled-bg-color: #3B4455;\n",
              "      --disabled-fill-color: #666;\n",
              "  }\n",
              "\n",
              "  .colab-df-quickchart {\n",
              "    background-color: var(--bg-color);\n",
              "    border: none;\n",
              "    border-radius: 50%;\n",
              "    cursor: pointer;\n",
              "    display: none;\n",
              "    fill: var(--fill-color);\n",
              "    height: 32px;\n",
              "    padding: 0;\n",
              "    width: 32px;\n",
              "  }\n",
              "\n",
              "  .colab-df-quickchart:hover {\n",
              "    background-color: var(--hover-bg-color);\n",
              "    box-shadow: 0 1px 2px rgba(60, 64, 67, 0.3), 0 1px 3px 1px rgba(60, 64, 67, 0.15);\n",
              "    fill: var(--button-hover-fill-color);\n",
              "  }\n",
              "\n",
              "  .colab-df-quickchart-complete:disabled,\n",
              "  .colab-df-quickchart-complete:disabled:hover {\n",
              "    background-color: var(--disabled-bg-color);\n",
              "    fill: var(--disabled-fill-color);\n",
              "    box-shadow: none;\n",
              "  }\n",
              "\n",
              "  .colab-df-spinner {\n",
              "    border: 2px solid var(--fill-color);\n",
              "    border-color: transparent;\n",
              "    border-bottom-color: var(--fill-color);\n",
              "    animation:\n",
              "      spin 1s steps(1) infinite;\n",
              "  }\n",
              "\n",
              "  @keyframes spin {\n",
              "    0% {\n",
              "      border-color: transparent;\n",
              "      border-bottom-color: var(--fill-color);\n",
              "      border-left-color: var(--fill-color);\n",
              "    }\n",
              "    20% {\n",
              "      border-color: transparent;\n",
              "      border-left-color: var(--fill-color);\n",
              "      border-top-color: var(--fill-color);\n",
              "    }\n",
              "    30% {\n",
              "      border-color: transparent;\n",
              "      border-left-color: var(--fill-color);\n",
              "      border-top-color: var(--fill-color);\n",
              "      border-right-color: var(--fill-color);\n",
              "    }\n",
              "    40% {\n",
              "      border-color: transparent;\n",
              "      border-right-color: var(--fill-color);\n",
              "      border-top-color: var(--fill-color);\n",
              "    }\n",
              "    60% {\n",
              "      border-color: transparent;\n",
              "      border-right-color: var(--fill-color);\n",
              "    }\n",
              "    80% {\n",
              "      border-color: transparent;\n",
              "      border-right-color: var(--fill-color);\n",
              "      border-bottom-color: var(--fill-color);\n",
              "    }\n",
              "    90% {\n",
              "      border-color: transparent;\n",
              "      border-bottom-color: var(--fill-color);\n",
              "    }\n",
              "  }\n",
              "</style>\n",
              "\n",
              "  <script>\n",
              "    async function quickchart(key) {\n",
              "      const quickchartButtonEl =\n",
              "        document.querySelector('#' + key + ' button');\n",
              "      quickchartButtonEl.disabled = true;  // To prevent multiple clicks.\n",
              "      quickchartButtonEl.classList.add('colab-df-spinner');\n",
              "      try {\n",
              "        const charts = await google.colab.kernel.invokeFunction(\n",
              "            'suggestCharts', [key], {});\n",
              "      } catch (error) {\n",
              "        console.error('Error during call to suggestCharts:', error);\n",
              "      }\n",
              "      quickchartButtonEl.classList.remove('colab-df-spinner');\n",
              "      quickchartButtonEl.classList.add('colab-df-quickchart-complete');\n",
              "    }\n",
              "    (() => {\n",
              "      let quickchartButtonEl =\n",
              "        document.querySelector('#df-f82b66e7-6ae8-40f3-a088-7463d71564a8 button');\n",
              "      quickchartButtonEl.style.display =\n",
              "        google.colab.kernel.accessAllowed ? 'block' : 'none';\n",
              "    })();\n",
              "  </script>\n",
              "</div>\n",
              "\n",
              "    </div>\n",
              "  </div>\n"
            ]
          },
          "metadata": {},
          "execution_count": 114
        }
      ]
    },
    {
      "cell_type": "markdown",
      "source": [
        "# Visualization"
      ],
      "metadata": {
        "id": "0ATYH091agQ0"
      }
    },
    {
      "cell_type": "markdown",
      "source": [
        "### How active are the users along the week?"
      ],
      "metadata": {
        "id": "y_4HFDYtbbPA"
      }
    },
    {
      "cell_type": "code",
      "source": [
        "# Create the \"WeekDay\" column based on the day of the week names\n",
        "daily_activity['WeekDay'] = daily_activity['ActivityDate'].dt.day_name()"
      ],
      "metadata": {
        "id": "j18vbTruaubT"
      },
      "execution_count": null,
      "outputs": []
    },
    {
      "cell_type": "code",
      "source": [
        "# Check which day people do more exercise\n",
        "weekday_counts = daily_activity['WeekDay'].value_counts()"
      ],
      "metadata": {
        "id": "mVJyYq5kbiFH"
      },
      "execution_count": null,
      "outputs": []
    },
    {
      "cell_type": "code",
      "source": [
        "# Print the count of exercises for each day\n",
        "print(\"Exercise counts for each day:\")\n",
        "print(weekday_counts)"
      ],
      "metadata": {
        "colab": {
          "base_uri": "https://localhost:8080/"
        },
        "id": "GyPX2jMjbk5h",
        "outputId": "f855d639-40aa-4aac-a7b1-3699ab2bad0f"
      },
      "execution_count": null,
      "outputs": [
        {
          "output_type": "stream",
          "name": "stdout",
          "text": [
            "Exercise counts for each day:\n",
            "Tuesday      152\n",
            "Wednesday    150\n",
            "Thursday     147\n",
            "Friday       126\n",
            "Saturday     124\n",
            "Sunday       121\n",
            "Monday       120\n",
            "Name: WeekDay, dtype: int64\n"
          ]
        }
      ]
    },
    {
      "cell_type": "code",
      "source": [
        "weekday_counts = {\n",
        "    'Sunday': 121,\n",
        "    'Monday': 120,\n",
        "    'Tuesday': 152,\n",
        "    'Wednesday': 150,\n",
        "    'Thursday': 147,\n",
        "    'Friday': 126,\n",
        "    'Saturday': 124,\n",
        "\n",
        "}"
      ],
      "metadata": {
        "id": "govhoDSxcXNp"
      },
      "execution_count": null,
      "outputs": []
    },
    {
      "cell_type": "code",
      "source": [
        "# Define the order of weekdays based on the provided counts\n",
        "weekday_order = list(weekday_counts.keys())"
      ],
      "metadata": {
        "id": "7DdhWUhYdUbf"
      },
      "execution_count": null,
      "outputs": []
    },
    {
      "cell_type": "code",
      "source": [
        "# Set the figure size\n",
        "plt.figure(figsize=(10, 6))\n",
        "\n",
        "# Use a color\n",
        "colors = sns.color_palette(\"Paired\")\n",
        "\n",
        "# Create a bar plot with different colors\n",
        "bars = plt.bar(weekday_counts.keys(), weekday_counts.values(), color=colors)\n",
        "\n",
        "# Add labels and title\n",
        "plt.xlabel('Day of the Week')\n",
        "plt.ylabel('Exercise Counts')\n",
        "plt.title('Exercise Counts for Each Day')\n",
        "\n",
        "# Add numbers on each bar with adjusted positioning\n",
        "for bar, count in zip(bars, weekday_counts.values()):\n",
        "    plt.text(bar.get_x() + bar.get_width() / 2, bar.get_height(), str(count),\n",
        "             ha='center', va='bottom')\n",
        "\n",
        "# Show the plot\n",
        "plt.show()"
      ],
      "metadata": {
        "colab": {
          "base_uri": "https://localhost:8080/",
          "height": 564
        },
        "id": "u-b6bOkmeC6x",
        "outputId": "4714c4c2-2351-4b80-cffc-539e8409456e"
      },
      "execution_count": null,
      "outputs": [
        {
          "output_type": "display_data",
          "data": {
            "text/plain": [
              "<Figure size 1000x600 with 1 Axes>"
            ],
            "image/png": "[encoded data removed]"
          },
          "metadata": {}
        }
      ]
    },
    {
      "cell_type": "markdown",
      "source": [
        "### Average Activity Level for Each Day of the Week"
      ],
      "metadata": {
        "id": "3IZe7cy9em0w"
      }
    },
    {
      "cell_type": "code",
      "source": [
        "active_minutes_columns = ['LightlyActiveMinutes', 'FairlyActiveMinutes', 'VeryActiveMinutes']\n",
        "active_minutes_avg = daily_activity.groupby('WeekDay')[active_minutes_columns].mean().reindex(weekday_order)"
      ],
      "metadata": {
        "id": "Pmg6baYneqxj"
      },
      "execution_count": null,
      "outputs": []
    },
    {
      "cell_type": "code",
      "source": [
        "# Set up the figure with larger size\n",
        "plt.figure(figsize=(18, 12))\n",
        "\n",
        "# Grouped bar plot with stacked bars for average active minutes\n",
        "active_minutes_avg.plot(kind='bar', stacked=True, color=['skyblue', 'lightgreen', 'salmon'])\n",
        "\n",
        "# Adding numbers to each bar for average active minutes\n",
        "for i, day in enumerate(weekday_order):\n",
        "    total_height = 0\n",
        "    for col in active_minutes_columns:\n",
        "        value = active_minutes_avg.loc[day, col]\n",
        "        plt.text(i, total_height + value / 2, f'{value:.2f}', ha='center', va='center', color='black')\n",
        "        total_height += value\n",
        "\n",
        "# Adding legend for average active minutes\n",
        "plt.legend([\"Light Active Minutes\", \"Fairly Active Minutes\", \"Very Active Minutes\"], bbox_to_anchor=(1.05, 1), loc='upper left', borderaxespad=0., ncol=1)\n",
        "\n",
        "# Adding labels and title for average active minutes\n",
        "plt.xlabel('Day of the Week')\n",
        "plt.ylabel('Average Activity Intensity (min)')\n",
        "plt.title('Average Activity Level for Each Day of the Week')\n",
        "\n",
        "# Show the plot\n",
        "plt.show()"
      ],
      "metadata": {
        "colab": {
          "base_uri": "https://localhost:8080/",
          "height": 555
        },
        "id": "7-mV7mI5etyQ",
        "outputId": "067d6ccc-6411-464e-a3ad-ff50a3e45123"
      },
      "execution_count": null,
      "outputs": [
        {
          "output_type": "display_data",
          "data": {
            "text/plain": [
              "<Figure size 1800x1200 with 0 Axes>"
            ]
          },
          "metadata": {}
        },
        {
          "output_type": "display_data",
          "data": {
            "text/plain": [
              "<Figure size 640x480 with 1 Axes>"
            ],
            "image/png": "[encoded data removed]"
          },
          "metadata": {}
        }
      ]
    },
    {
      "cell_type": "markdown",
      "source": [
        "### Average Activity Distance for Each Day of the Week"
      ],
      "metadata": {
        "id": "Z4JOBtfMg76b"
      }
    },
    {
      "cell_type": "code",
      "source": [
        "active_distance_columns = ['LightActiveDistance', 'ModeratelyActiveDistance', 'VeryActiveDistance']\n",
        "active_distance_avg = daily_activity.groupby('WeekDay')[active_distance_columns].mean().reindex(weekday_order)"
      ],
      "metadata": {
        "id": "FUuAYnkwfVpn"
      },
      "execution_count": null,
      "outputs": []
    },
    {
      "cell_type": "code",
      "source": [
        "# Set up the figure with a larger size\n",
        "plt.figure(figsize=(18, 12))\n",
        "\n",
        "# Grouped bar plot with stacked bars for average activity distance\n",
        "active_distance_avg.plot(kind='bar', stacked=True, color=['skyblue', 'lightgreen', 'salmon'])\n",
        "\n",
        "# Adding numbers to each bar for average activity distance\n",
        "for i, day in enumerate(weekday_order):\n",
        "    total_height = 0\n",
        "    for col in active_distance_columns:\n",
        "        value = active_distance_avg.loc[day, col]\n",
        "        plt.text(i, total_height + value / 2, f'{value:.2f}', ha='center', va='center', color='black')\n",
        "        total_height += value\n",
        "\n",
        "# Adding legend for average activity distance\n",
        "plt.legend([\"Light Active Distance\", \"Moderately Active Distance\", \"Very Active Distance\"], bbox_to_anchor=(1.05, 1), loc='upper left', borderaxespad=0., ncol=1)\n",
        "\n",
        "# Adding labels and title for average activity distance\n",
        "plt.xlabel('Day of the Week')\n",
        "plt.ylabel('Average Active Distance (km)')\n",
        "plt.title('Average Active Distance for Each Day of the Week')\n",
        "\n",
        "# Show the plot\n",
        "plt.show()"
      ],
      "metadata": {
        "colab": {
          "base_uri": "https://localhost:8080/",
          "height": 555
        },
        "id": "f4q943mshfuN",
        "outputId": "f3d26124-b196-4e71-f59c-ff04d3b0e348"
      },
      "execution_count": null,
      "outputs": [
        {
          "output_type": "display_data",
          "data": {
            "text/plain": [
              "<Figure size 1800x1200 with 0 Axes>"
            ]
          },
          "metadata": {}
        },
        {
          "output_type": "display_data",
          "data": {
            "text/plain": [
              "<Figure size 640x480 with 1 Axes>"
            ],
            "image/png": "[encoded data removed]"
          },
          "metadata": {}
        }
      ]
    },
    {
      "cell_type": "code",
      "source": [
        "# Checking the columns of combined_df\n",
        "combined_df.columns"
      ],
      "metadata": {
        "colab": {
          "base_uri": "https://localhost:8080/"
        },
        "id": "MoByi12sh4nC",
        "outputId": "15cef370-4f74-4c61-9201-989f70c5d0fc"
      },
      "execution_count": null,
      "outputs": [
        {
          "output_type": "execute_result",
          "data": {
            "text/plain": [
              "Index(['Id', 'ActivityDate', 'WeekDay', 'TotalSteps', 'TotalDistance',\n",
              "       'TotalActiveMinutes', 'TotalMinutes', 'TotalActiveHours',\n",
              "       'LightlyActiveMinutes', 'FairlyActiveMinutes', 'VeryActiveMinutes',\n",
              "       'LightActiveDistance', 'ModeratelyActiveDistance', 'VeryActiveDistance',\n",
              "       'Calories', 'TotalHoursAsleep', 'WeightKg', 'BMI', 'MinuteAverage',\n",
              "       'HourlyAverage'],\n",
              "      dtype='object')"
            ]
          },
          "metadata": {},
          "execution_count": 145
        }
      ]
    },
    {
      "cell_type": "code",
      "source": [
        "combined_df.describe()"
      ],
      "metadata": {
        "colab": {
          "base_uri": "https://localhost:8080/",
          "height": 320
        },
        "id": "-W0luqKUh7UN",
        "outputId": "4df1cab1-e269-4b08-f518-012d9291ad2f"
      },
      "execution_count": null,
      "outputs": [
        {
          "output_type": "execute_result",
          "data": {
            "text/plain": [
              "                 Id      WeekDay    TotalSteps  TotalDistance  \\\n",
              "count  4.749000e+03  4749.000000   4749.000000    4749.000000   \n",
              "mean   5.296912e+09     2.913245   9076.636766       6.724007   \n",
              "std    1.985409e+09     1.919299   5806.376876       4.829708   \n",
              "min    1.503960e+09     0.000000      0.000000       0.000000   \n",
              "25%    4.388162e+09     1.000000   5153.000000       3.370000   \n",
              "50%    5.553957e+09     3.000000   8163.000000       6.140000   \n",
              "75%    6.962181e+09     5.000000  12332.000000       9.080000   \n",
              "max    8.877689e+09     6.000000  36019.000000      28.030001   \n",
              "\n",
              "       TotalActiveMinutes  TotalMinutes  TotalActiveHours  \\\n",
              "count         4749.000000   4749.000000       4749.000000   \n",
              "mean           253.183196   1222.990524          4.162139   \n",
              "std            111.457691    256.804825          1.921652   \n",
              "min              0.000000      2.000000          0.000000   \n",
              "25%            211.000000   1000.000000          4.000000   \n",
              "50%            262.000000   1440.000000          4.000000   \n",
              "75%            343.000000   1440.000000          6.000000   \n",
              "max            552.000000   1440.000000          9.000000   \n",
              "\n",
              "       LightlyActiveMinutes  FairlyActiveMinutes  VeryActiveMinutes  \\\n",
              "count           4749.000000          4749.000000        4749.000000   \n",
              "mean             210.791535            14.067593          28.324068   \n",
              "std               96.845315            21.071884          41.550196   \n",
              "min                0.000000             0.000000           0.000000   \n",
              "25%              147.000000             0.000000           0.000000   \n",
              "50%              232.000000             7.000000           5.000000   \n",
              "75%              273.000000            20.000000          35.000000   \n",
              "max              518.000000           143.000000         210.000000   \n",
              "\n",
              "       LightActiveDistance  ModeratelyActiveDistance  VeryActiveDistance  \\\n",
              "count          4749.000000               4749.000000         4749.000000   \n",
              "mean              3.822798                  0.600606            2.272285   \n",
              "std               1.968262                  0.970964            3.885306   \n",
              "min               0.000000                  0.000000            0.000000   \n",
              "25%               2.430000                  0.000000            0.000000   \n",
              "50%               3.740000                  0.250000            0.330000   \n",
              "75%               5.390000                  0.800000            2.630000   \n",
              "max              10.710000                  6.480000           21.920000   \n",
              "\n",
              "          Calories  TotalHoursAsleep     WeightKg          BMI  MinuteAverage  \\\n",
              "count  4749.000000       4749.000000  4749.000000  4749.000000    4749.000000   \n",
              "mean   2472.375237          7.191404    73.685395    25.156889      71.581029   \n",
              "std     804.620383          1.872496    12.018063     2.004821      15.987991   \n",
              "min       0.000000          0.966667    52.599998    21.450001      36.800000   \n",
              "25%    1906.000000          6.166667    61.500000    24.000000      60.000000   \n",
              "50%    2336.000000          7.316667    72.300003    25.410000      68.200000   \n",
              "75%    3101.000000          8.200000    85.099998    25.590000      80.500000   \n",
              "max    4900.000000         13.266667   133.500000    47.540001     191.000000   \n",
              "\n",
              "       HourlyAverage  \n",
              "count    4749.000000  \n",
              "mean       71.407206  \n",
              "std        13.943718  \n",
              "min        43.294008  \n",
              "25%        60.984048  \n",
              "50%        69.140317  \n",
              "75%        79.734112  \n",
              "max       156.267686  "
            ],
            "text/html": [
              "\n",
              "  <div id=\"df-50e50f6d-2e1a-4673-8989-523edf31cd7c\" class=\"colab-df-container\">\n",
              "    <div>\n",
              "<style scoped>\n",
              "    .dataframe tbody tr th:only-of-type {\n",
              "        vertical-align: middle;\n",
              "    }\n",
              "\n",
              "    .dataframe tbody tr th {\n",
              "        vertical-align: top;\n",
              "    }\n",
              "\n",
              "    .dataframe thead th {\n",
              "        text-align: right;\n",
              "    }\n",
              "</style>\n",
              "<table border=\"1\" class=\"dataframe\">\n",
              "  <thead>\n",
              "    <tr style=\"text-align: right;\">\n",
              "      <th></th>\n",
              "      <th>Id</th>\n",
              "      <th>WeekDay</th>\n",
              "      <th>TotalSteps</th>\n",
              "      <th>TotalDistance</th>\n",
              "      <th>TotalActiveMinutes</th>\n",
              "      <th>TotalMinutes</th>\n",
              "      <th>TotalActiveHours</th>\n",
              "      <th>LightlyActiveMinutes</th>\n",
              "      <th>FairlyActiveMinutes</th>\n",
              "      <th>VeryActiveMinutes</th>\n",
              "      <th>LightActiveDistance</th>\n",
              "      <th>ModeratelyActiveDistance</th>\n",
              "      <th>VeryActiveDistance</th>\n",
              "      <th>Calories</th>\n",
              "      <th>TotalHoursAsleep</th>\n",
              "      <th>WeightKg</th>\n",
              "      <th>BMI</th>\n",
              "      <th>MinuteAverage</th>\n",
              "      <th>HourlyAverage</th>\n",
              "    </tr>\n",
              "  </thead>\n",
              "  <tbody>\n",
              "    <tr>\n",
              "      <th>count</th>\n",
              "      <td>4.749000e+03</td>\n",
              "      <td>4749.000000</td>\n",
              "      <td>4749.000000</td>\n",
              "      <td>4749.000000</td>\n",
              "      <td>4749.000000</td>\n",
              "      <td>4749.000000</td>\n",
              "      <td>4749.000000</td>\n",
              "      <td>4749.000000</td>\n",
              "      <td>4749.000000</td>\n",
              "      <td>4749.000000</td>\n",
              "      <td>4749.000000</td>\n",
              "      <td>4749.000000</td>\n",
              "      <td>4749.000000</td>\n",
              "      <td>4749.000000</td>\n",
              "      <td>4749.000000</td>\n",
              "      <td>4749.000000</td>\n",
              "      <td>4749.000000</td>\n",
              "      <td>4749.000000</td>\n",
              "      <td>4749.000000</td>\n",
              "    </tr>\n",
              "    <tr>\n",
              "      <th>mean</th>\n",
              "      <td>5.296912e+09</td>\n",
              "      <td>2.913245</td>\n",
              "      <td>9076.636766</td>\n",
              "      <td>6.724007</td>\n",
              "      <td>253.183196</td>\n",
              "      <td>1222.990524</td>\n",
              "      <td>4.162139</td>\n",
              "      <td>210.791535</td>\n",
              "      <td>14.067593</td>\n",
              "      <td>28.324068</td>\n",
              "      <td>3.822798</td>\n",
              "      <td>0.600606</td>\n",
              "      <td>2.272285</td>\n",
              "      <td>2472.375237</td>\n",
              "      <td>7.191404</td>\n",
              "      <td>73.685395</td>\n",
              "      <td>25.156889</td>\n",
              "      <td>71.581029</td>\n",
              "      <td>71.407206</td>\n",
              "    </tr>\n",
              "    <tr>\n",
              "      <th>std</th>\n",
              "      <td>1.985409e+09</td>\n",
              "      <td>1.919299</td>\n",
              "      <td>5806.376876</td>\n",
              "      <td>4.829708</td>\n",
              "      <td>111.457691</td>\n",
              "      <td>256.804825</td>\n",
              "      <td>1.921652</td>\n",
              "      <td>96.845315</td>\n",
              "      <td>21.071884</td>\n",
              "      <td>41.550196</td>\n",
              "      <td>1.968262</td>\n",
              "      <td>0.970964</td>\n",
              "      <td>3.885306</td>\n",
              "      <td>804.620383</td>\n",
              "      <td>1.872496</td>\n",
              "      <td>12.018063</td>\n",
              "      <td>2.004821</td>\n",
              "      <td>15.987991</td>\n",
              "      <td>13.943718</td>\n",
              "    </tr>\n",
              "    <tr>\n",
              "      <th>min</th>\n",
              "      <td>1.503960e+09</td>\n",
              "      <td>0.000000</td>\n",
              "      <td>0.000000</td>\n",
              "      <td>0.000000</td>\n",
              "      <td>0.000000</td>\n",
              "      <td>2.000000</td>\n",
              "      <td>0.000000</td>\n",
              "      <td>0.000000</td>\n",
              "      <td>0.000000</td>\n",
              "      <td>0.000000</td>\n",
              "      <td>0.000000</td>\n",
              "      <td>0.000000</td>\n",
              "      <td>0.000000</td>\n",
              "      <td>0.000000</td>\n",
              "      <td>0.966667</td>\n",
              "      <td>52.599998</td>\n",
              "      <td>21.450001</td>\n",
              "      <td>36.800000</td>\n",
              "      <td>43.294008</td>\n",
              "    </tr>\n",
              "    <tr>\n",
              "      <th>25%</th>\n",
              "      <td>4.388162e+09</td>\n",
              "      <td>1.000000</td>\n",
              "      <td>5153.000000</td>\n",
              "      <td>3.370000</td>\n",
              "      <td>211.000000</td>\n",
              "      <td>1000.000000</td>\n",
              "      <td>4.000000</td>\n",
              "      <td>147.000000</td>\n",
              "      <td>0.000000</td>\n",
              "      <td>0.000000</td>\n",
              "      <td>2.430000</td>\n",
              "      <td>0.000000</td>\n",
              "      <td>0.000000</td>\n",
              "      <td>1906.000000</td>\n",
              "      <td>6.166667</td>\n",
              "      <td>61.500000</td>\n",
              "      <td>24.000000</td>\n",
              "      <td>60.000000</td>\n",
              "      <td>60.984048</td>\n",
              "    </tr>\n",
              "    <tr>\n",
              "      <th>50%</th>\n",
              "      <td>5.553957e+09</td>\n",
              "      <td>3.000000</td>\n",
              "      <td>8163.000000</td>\n",
              "      <td>6.140000</td>\n",
              "      <td>262.000000</td>\n",
              "      <td>1440.000000</td>\n",
              "      <td>4.000000</td>\n",
              "      <td>232.000000</td>\n",
              "      <td>7.000000</td>\n",
              "      <td>5.000000</td>\n",
              "      <td>3.740000</td>\n",
              "      <td>0.250000</td>\n",
              "      <td>0.330000</td>\n",
              "      <td>2336.000000</td>\n",
              "      <td>7.316667</td>\n",
              "      <td>72.300003</td>\n",
              "      <td>25.410000</td>\n",
              "      <td>68.200000</td>\n",
              "      <td>69.140317</td>\n",
              "    </tr>\n",
              "    <tr>\n",
              "      <th>75%</th>\n",
              "      <td>6.962181e+09</td>\n",
              "      <td>5.000000</td>\n",
              "      <td>12332.000000</td>\n",
              "      <td>9.080000</td>\n",
              "      <td>343.000000</td>\n",
              "      <td>1440.000000</td>\n",
              "      <td>6.000000</td>\n",
              "      <td>273.000000</td>\n",
              "      <td>20.000000</td>\n",
              "      <td>35.000000</td>\n",
              "      <td>5.390000</td>\n",
              "      <td>0.800000</td>\n",
              "      <td>2.630000</td>\n",
              "      <td>3101.000000</td>\n",
              "      <td>8.200000</td>\n",
              "      <td>85.099998</td>\n",
              "      <td>25.590000</td>\n",
              "      <td>80.500000</td>\n",
              "      <td>79.734112</td>\n",
              "    </tr>\n",
              "    <tr>\n",
              "      <th>max</th>\n",
              "      <td>8.877689e+09</td>\n",
              "      <td>6.000000</td>\n",
              "      <td>36019.000000</td>\n",
              "      <td>28.030001</td>\n",
              "      <td>552.000000</td>\n",
              "      <td>1440.000000</td>\n",
              "      <td>9.000000</td>\n",
              "      <td>518.000000</td>\n",
              "      <td>143.000000</td>\n",
              "      <td>210.000000</td>\n",
              "      <td>10.710000</td>\n",
              "      <td>6.480000</td>\n",
              "      <td>21.920000</td>\n",
              "      <td>4900.000000</td>\n",
              "      <td>13.266667</td>\n",
              "      <td>133.500000</td>\n",
              "      <td>47.540001</td>\n",
              "      <td>191.000000</td>\n",
              "      <td>156.267686</td>\n",
              "    </tr>\n",
              "  </tbody>\n",
              "</table>\n",
              "</div>\n",
              "    <div class=\"colab-df-buttons\">\n",
              "\n",
              "  <div class=\"colab-df-container\">\n",
              "    <button class=\"colab-df-convert\" onclick=\"convertToInteractive('df-50e50f6d-2e1a-4673-8989-523edf31cd7c')\"\n",
              "            title=\"Convert this dataframe to an interactive table.\"\n",
              "            style=\"display:none;\">\n",
              "\n",
              "  <svg xmlns=\"http://www.w3.org/2000/svg\" height=\"24px\" viewBox=\"0 -960 960 960\">\n",
              "    <path d=\"M120-120v-720h720v720H120Zm60-500h600v-160H180v160Zm220 220h160v-160H400v160Zm0 220h160v-160H400v160ZM180-400h160v-160H180v160Zm440 0h160v-160H620v160ZM180-180h160v-160H180v160Zm440 0h160v-160H620v160Z\"/>\n",
              "  </svg>\n",
              "    </button>\n",
              "\n",
              "  <style>\n",
              "    .colab-df-container {\n",
              "      display:flex;\n",
              "      gap: 12px;\n",
              "    }\n",
              "\n",
              "    .colab-df-convert {\n",
              "      background-color: #E8F0FE;\n",
              "      border: none;\n",
              "      border-radius: 50%;\n",
              "      cursor: pointer;\n",
              "      display: none;\n",
              "      fill: #1967D2;\n",
              "      height: 32px;\n",
              "      padding: 0 0 0 0;\n",
              "      width: 32px;\n",
              "    }\n",
              "\n",
              "    .colab-df-convert:hover {\n",
              "      background-color: #E2EBFA;\n",
              "      box-shadow: 0px 1px 2px rgba(60, 64, 67, 0.3), 0px 1px 3px 1px rgba(60, 64, 67, 0.15);\n",
              "      fill: #174EA6;\n",
              "    }\n",
              "\n",
              "    .colab-df-buttons div {\n",
              "      margin-bottom: 4px;\n",
              "    }\n",
              "\n",
              "    [theme=dark] .colab-df-convert {\n",
              "      background-color: #3B4455;\n",
              "      fill: #D2E3FC;\n",
              "    }\n",
              "\n",
              "    [theme=dark] .colab-df-convert:hover {\n",
              "      background-color: #434B5C;\n",
              "      box-shadow: 0px 1px 3px 1px rgba(0, 0, 0, 0.15);\n",
              "      filter: drop-shadow(0px 1px 2px rgba(0, 0, 0, 0.3));\n",
              "      fill: #FFFFFF;\n",
              "    }\n",
              "  </style>\n",
              "\n",
              "    <script>\n",
              "      const buttonEl =\n",
              "        document.querySelector('#df-50e50f6d-2e1a-4673-8989-523edf31cd7c button.colab-df-convert');\n",
              "      buttonEl.style.display =\n",
              "        google.colab.kernel.accessAllowed ? 'block' : 'none';\n",
              "\n",
              "      async function convertToInteractive(key) {\n",
              "        const element = document.querySelector('#df-50e50f6d-2e1a-4673-8989-523edf31cd7c');\n",
              "        const dataTable =\n",
              "          await google.colab.kernel.invokeFunction('convertToInteractive',\n",
              "                                                    [key], {});\n",
              "        if (!dataTable) return;\n",
              "\n",
              "        const docLinkHtml = 'Like what you see? Visit the ' +\n",
              "          '<a target=\"_blank\" href=https://colab.research.google.com/notebooks/data_table.ipynb>data table notebook</a>'\n",
              "          + ' to learn more about interactive tables.';\n",
              "        element.innerHTML = '';\n",
              "        dataTable['output_type'] = 'display_data';\n",
              "        await google.colab.output.renderOutput(dataTable, element);\n",
              "        const docLink = document.createElement('div');\n",
              "        docLink.innerHTML = docLinkHtml;\n",
              "        element.appendChild(docLink);\n",
              "      }\n",
              "    </script>\n",
              "  </div>\n",
              "\n",
              "\n",
              "<div id=\"df-6788ced2-41b2-4226-844d-afd0b4e38c3c\">\n",
              "  <button class=\"colab-df-quickchart\" onclick=\"quickchart('df-6788ced2-41b2-4226-844d-afd0b4e38c3c')\"\n",
              "            title=\"Suggest charts\"\n",
              "            style=\"display:none;\">\n",
              "\n",
              "<svg xmlns=\"http://www.w3.org/2000/svg\" height=\"24px\"viewBox=\"0 0 24 24\"\n",
              "     width=\"24px\">\n",
              "    <g>\n",
              "        <path d=\"M19 3H5c-1.1 0-2 .9-2 2v14c0 1.1.9 2 2 2h14c1.1 0 2-.9 2-2V5c0-1.1-.9-2-2-2zM9 17H7v-7h2v7zm4 0h-2V7h2v10zm4 0h-2v-4h2v4z\"/>\n",
              "    </g>\n",
              "</svg>\n",
              "  </button>\n",
              "\n",
              "<style>\n",
              "  .colab-df-quickchart {\n",
              "      --bg-color: #E8F0FE;\n",
              "      --fill-color: #1967D2;\n",
              "      --hover-bg-color: #E2EBFA;\n",
              "      --hover-fill-color: #174EA6;\n",
              "      --disabled-fill-color: #AAA;\n",
              "      --disabled-bg-color: #DDD;\n",
              "  }\n",
              "\n",
              "  [theme=dark] .colab-df-quickchart {\n",
              "      --bg-color: #3B4455;\n",
              "      --fill-color: #D2E3FC;\n",
              "      --hover-bg-color: #434B5C;\n",
              "      --hover-fill-color: #FFFFFF;\n",
              "      --disabled-bg-color: #3B4455;\n",
              "      --disabled-fill-color: #666;\n",
              "  }\n",
              "\n",
              "  .colab-df-quickchart {\n",
              "    background-color: var(--bg-color);\n",
              "    border: none;\n",
              "    border-radius: 50%;\n",
              "    cursor: pointer;\n",
              "    display: none;\n",
              "    fill: var(--fill-color);\n",
              "    height: 32px;\n",
              "    padding: 0;\n",
              "    width: 32px;\n",
              "  }\n",
              "\n",
              "  .colab-df-quickchart:hover {\n",
              "    background-color: var(--hover-bg-color);\n",
              "    box-shadow: 0 1px 2px rgba(60, 64, 67, 0.3), 0 1px 3px 1px rgba(60, 64, 67, 0.15);\n",
              "    fill: var(--button-hover-fill-color);\n",
              "  }\n",
              "\n",
              "  .colab-df-quickchart-complete:disabled,\n",
              "  .colab-df-quickchart-complete:disabled:hover {\n",
              "    background-color: var(--disabled-bg-color);\n",
              "    fill: var(--disabled-fill-color);\n",
              "    box-shadow: none;\n",
              "  }\n",
              "\n",
              "  .colab-df-spinner {\n",
              "    border: 2px solid var(--fill-color);\n",
              "    border-color: transparent;\n",
              "    border-bottom-color: var(--fill-color);\n",
              "    animation:\n",
              "      spin 1s steps(1) infinite;\n",
              "  }\n",
              "\n",
              "  @keyframes spin {\n",
              "    0% {\n",
              "      border-color: transparent;\n",
              "      border-bottom-color: var(--fill-color);\n",
              "      border-left-color: var(--fill-color);\n",
              "    }\n",
              "    20% {\n",
              "      border-color: transparent;\n",
              "      border-left-color: var(--fill-color);\n",
              "      border-top-color: var(--fill-color);\n",
              "    }\n",
              "    30% {\n",
              "      border-color: transparent;\n",
              "      border-left-color: var(--fill-color);\n",
              "      border-top-color: var(--fill-color);\n",
              "      border-right-color: var(--fill-color);\n",
              "    }\n",
              "    40% {\n",
              "      border-color: transparent;\n",
              "      border-right-color: var(--fill-color);\n",
              "      border-top-color: var(--fill-color);\n",
              "    }\n",
              "    60% {\n",
              "      border-color: transparent;\n",
              "      border-right-color: var(--fill-color);\n",
              "    }\n",
              "    80% {\n",
              "      border-color: transparent;\n",
              "      border-right-color: var(--fill-color);\n",
              "      border-bottom-color: var(--fill-color);\n",
              "    }\n",
              "    90% {\n",
              "      border-color: transparent;\n",
              "      border-bottom-color: var(--fill-color);\n",
              "    }\n",
              "  }\n",
              "</style>\n",
              "\n",
              "  <script>\n",
              "    async function quickchart(key) {\n",
              "      const quickchartButtonEl =\n",
              "        document.querySelector('#' + key + ' button');\n",
              "      quickchartButtonEl.disabled = true;  // To prevent multiple clicks.\n",
              "      quickchartButtonEl.classList.add('colab-df-spinner');\n",
              "      try {\n",
              "        const charts = await google.colab.kernel.invokeFunction(\n",
              "            'suggestCharts', [key], {});\n",
              "      } catch (error) {\n",
              "        console.error('Error during call to suggestCharts:', error);\n",
              "      }\n",
              "      quickchartButtonEl.classList.remove('colab-df-spinner');\n",
              "      quickchartButtonEl.classList.add('colab-df-quickchart-complete');\n",
              "    }\n",
              "    (() => {\n",
              "      let quickchartButtonEl =\n",
              "        document.querySelector('#df-6788ced2-41b2-4226-844d-afd0b4e38c3c button');\n",
              "      quickchartButtonEl.style.display =\n",
              "        google.colab.kernel.accessAllowed ? 'block' : 'none';\n",
              "    })();\n",
              "  </script>\n",
              "</div>\n",
              "\n",
              "    </div>\n",
              "  </div>\n"
            ]
          },
          "metadata": {},
          "execution_count": 146
        }
      ]
    },
    {
      "cell_type": "markdown",
      "source": [
        "### Checking if users meet WHO guidelines"
      ],
      "metadata": {
        "id": "Ptyr2ZRLiHXH"
      }
    },
    {
      "cell_type": "code",
      "source": [
        "# Aggregate data at the user level\n",
        "user_aggregated_df = daily_activity.groupby('Id').agg({\n",
        "    'LightlyActiveMinutes': 'sum',\n",
        "    'FairlyActiveMinutes': 'sum',\n",
        "    'VeryActiveMinutes': 'sum',\n",
        "    'SedentaryMinutes': 'sum'\n",
        "}).reset_index()"
      ],
      "metadata": {
        "id": "RWmCwq-kh88E"
      },
      "execution_count": null,
      "outputs": []
    },
    {
      "cell_type": "code",
      "source": [
        "# Create a new column indicating whether the user meets the aerobic activity guidelines\n",
        "user_aggregated_df['Meets_Aerobic_Guidelines'] = (\n",
        "    (user_aggregated_df['LightlyActiveMinutes'] >= 150) |\n",
        "    ((user_aggregated_df['FairlyActiveMinutes'] + user_aggregated_df['VeryActiveMinutes']) >= 75) |\n",
        "    (((user_aggregated_df['LightlyActiveMinutes'] + user_aggregated_df['FairlyActiveMinutes'] + user_aggregated_df['VeryActiveMinutes']) >= 150) &\n",
        "     ((user_aggregated_df['FairlyActiveMinutes'] + user_aggregated_df['VeryActiveMinutes']) <= 300))\n",
        ")"
      ],
      "metadata": {
        "id": "NrjpKOUPiKXh"
      },
      "execution_count": null,
      "outputs": []
    },
    {
      "cell_type": "code",
      "source": [
        "# Create a new column indicating whether the user meets the muscle-strengthening guidelines\n",
        "user_aggregated_df['Meets_Muscle_Strengthening_Guidelines'] = (\n",
        "    user_aggregated_df['FairlyActiveMinutes'] >= 2\n",
        ")"
      ],
      "metadata": {
        "id": "NDgpCUk_iMVX"
      },
      "execution_count": null,
      "outputs": []
    },
    {
      "cell_type": "code",
      "source": [
        "# Create a new column indicating whether the user meets the sedentary behavior guidelines\n",
        "user_aggregated_df['Meets_Sedentary_Behavior_Guidelines'] = (\n",
        "    user_aggregated_df['SedentaryMinutes'] <= 720  # WHO suggests limiting sedentary time, using 720 (12 hours)\n",
        ")"
      ],
      "metadata": {
        "id": "Ai7PmF7aiOUi"
      },
      "execution_count": null,
      "outputs": []
    },
    {
      "cell_type": "code",
      "source": [
        "# Print the count of users meeting each guideline\n",
        "print(f\"Number of users meeting aerobic activity guidelines: {user_aggregated_df['Meets_Aerobic_Guidelines'].sum()}\")\n",
        "print(f\"Number of users meeting muscle-strengthening guidelines: {user_aggregated_df['Meets_Muscle_Strengthening_Guidelines'].sum()}\")\n",
        "print(f\"Number of users meeting sedentary behavior guidelines: {user_aggregated_df['Meets_Sedentary_Behavior_Guidelines'].sum()}\")\n"
      ],
      "metadata": {
        "colab": {
          "base_uri": "https://localhost:8080/"
        },
        "id": "hr3PskrKiPtS",
        "outputId": "99e353d7-5207-4baf-e18e-c0c1f882a50a"
      },
      "execution_count": null,
      "outputs": [
        {
          "output_type": "stream",
          "name": "stdout",
          "text": [
            "Number of users meeting aerobic activity guidelines: 33\n",
            "Number of users meeting muscle-strengthening guidelines: 33\n",
            "Number of users meeting sedentary behavior guidelines: 0\n"
          ]
        }
      ]
    },
    {
      "cell_type": "code",
      "source": [
        "# Group by 'Id' and create a new column indicating sleep duration categories\n",
        "sleepday['SleepDurationCategory'] = pd.cut(\n",
        "    sleepday.groupby('Id')['TotalHoursAsleep'].transform('mean'),\n",
        "    bins=[0, 7, 9, float('inf')],\n",
        "    labels=['Less than 7 hours', '7-9 hours', 'More than 9 hours']\n",
        ")"
      ],
      "metadata": {
        "id": "8krJQzzNiT0P"
      },
      "execution_count": null,
      "outputs": []
    },
    {
      "cell_type": "code",
      "source": [
        "# Count the number of unique users in each sleep duration category\n",
        "unique_sleep_duration_counts = sleepday.groupby('SleepDurationCategory')['Id'].nunique()\n"
      ],
      "metadata": {
        "id": "uaL-oAmEiZIT"
      },
      "execution_count": null,
      "outputs": []
    },
    {
      "cell_type": "code",
      "source": [
        "# Display the counts\n",
        "print(unique_sleep_duration_counts)\n"
      ],
      "metadata": {
        "colab": {
          "base_uri": "https://localhost:8080/"
        },
        "id": "rFCaGPW5iap5",
        "outputId": "d17d347c-2e76-4dc8-9324-81130313fde1"
      },
      "execution_count": null,
      "outputs": [
        {
          "output_type": "stream",
          "name": "stdout",
          "text": [
            "SleepDurationCategory\n",
            "Less than 7 hours    13\n",
            "7-9 hours            10\n",
            "More than 9 hours     1\n",
            "Name: Id, dtype: int64\n"
          ]
        }
      ]
    },
    {
      "cell_type": "code",
      "source": [
        "id_column_name = 'Id'\n",
        "bmi_column_name = 'BMI'\n",
        "classification_column_name = 'BMI_Classification'\n",
        "# Create a new column 'BMI_Classification' to store the classification for each user\n",
        "weight_log['BMI_Classification'] = pd.cut(\n",
        "    weight_log[bmi_column_name],\n",
        "    bins=[0, 18.5, 24.9, 29.9, 34.9, 39.9, float('inf')],\n",
        "    labels=['Underweight', 'Normal weight', 'Pre-obesity', 'Obesity class I', 'Obesity class II', 'Obesity class III']\n",
        ")"
      ],
      "metadata": {
        "id": "gWet6GINicc2"
      },
      "execution_count": null,
      "outputs": []
    },
    {
      "cell_type": "code",
      "source": [
        "# Drop duplicate rows based on 'Id' to keep only unique users\n",
        "unique_users_df = weight_log.drop_duplicates(subset=['Id'])\n"
      ],
      "metadata": {
        "id": "aOlPd4VsihWW"
      },
      "execution_count": null,
      "outputs": []
    },
    {
      "cell_type": "code",
      "source": [
        "# Group by 'BMI_Classification' and count the occurrences for each classification\n",
        "bmi_counts = unique_users_df['BMI_Classification'].value_counts()"
      ],
      "metadata": {
        "id": "iwPcCmU9ijmW"
      },
      "execution_count": null,
      "outputs": []
    },
    {
      "cell_type": "code",
      "source": [
        "# Display the counts for each BMI classification\n",
        "print(bmi_counts)\n"
      ],
      "metadata": {
        "colab": {
          "base_uri": "https://localhost:8080/"
        },
        "id": "iw4ph3OVilXQ",
        "outputId": "d6e7cc71-88c8-4981-ecc9-743667d6fd6e"
      },
      "execution_count": null,
      "outputs": [
        {
          "output_type": "stream",
          "name": "stdout",
          "text": [
            "Pre-obesity          4\n",
            "Normal weight        3\n",
            "Obesity class III    1\n",
            "Underweight          0\n",
            "Obesity class I      0\n",
            "Obesity class II     0\n",
            "Name: BMI_Classification, dtype: int64\n"
          ]
        }
      ]
    },
    {
      "cell_type": "code",
      "source": [
        "# Get the 14 unique users from the heart_rate dataset\n",
        "unique_users = heart_rate['Id'].unique()[:14]"
      ],
      "metadata": {
        "id": "pukduLgOim6y"
      },
      "execution_count": null,
      "outputs": []
    },
    {
      "cell_type": "code",
      "source": [
        "unique_users"
      ],
      "metadata": {
        "colab": {
          "base_uri": "https://localhost:8080/"
        },
        "id": "eqRyccWtixBA",
        "outputId": "1e7c7414-fe41-494a-8b16-e529ac30c98f"
      },
      "execution_count": null,
      "outputs": [
        {
          "output_type": "execute_result",
          "data": {
            "text/plain": [
              "array([2022484408, 2026352035, 2347167796, 4020332650, 4388161847,\n",
              "       4558609924, 5553957443, 5577150313, 6117666160, 6775888955,\n",
              "       6962181067, 7007744171, 8792009665, 8877689391])"
            ]
          },
          "metadata": {},
          "execution_count": 162
        }
      ]
    },
    {
      "cell_type": "code",
      "source": [
        "# Filter heart_rate data for these users\n",
        "filtered_heart_rate = heart_rate[heart_rate['Id'].isin(unique_users)]"
      ],
      "metadata": {
        "id": "zSWYorvYi1e5"
      },
      "execution_count": null,
      "outputs": []
    },
    {
      "cell_type": "code",
      "source": [
        "filtered_heart_rate"
      ],
      "metadata": {
        "colab": {
          "base_uri": "https://localhost:8080/",
          "height": 423
        },
        "id": "JLdXcn5Ii13m",
        "outputId": "710bb017-ba65-4d8c-e587-fa9251e93a51"
      },
      "execution_count": null,
      "outputs": [
        {
          "output_type": "execute_result",
          "data": {
            "text/plain": [
              "              Id        ActivityDate  Value  MinuteAverage  HourlyAverage\n",
              "0     2022484408 2016-04-12 08:00:00    106     107.444444      66.673115\n",
              "1     2022484408 2016-04-12 09:00:00     65      64.000000      65.033879\n",
              "2     2022484408 2016-04-12 10:00:00     84      86.555556     106.553668\n",
              "3     2022484408 2016-04-12 12:00:00     69      69.272727      65.771296\n",
              "4     2022484408 2016-04-12 13:00:00     66      66.200000      82.360444\n",
              "...          ...                 ...    ...            ...            ...\n",
              "3327  8877689391 2016-05-10 15:00:00     61      61.400000      62.163757\n",
              "3328  8877689391 2016-05-10 18:00:00     71      72.333333      72.005210\n",
              "3329  8877689391 2016-05-11 09:00:00     78      70.700000      67.127965\n",
              "3330  8877689391 2016-05-11 10:00:00     60      60.428571      64.713975\n",
              "3331  8877689391 2016-05-12 07:00:00     86      87.181818      74.321489\n",
              "\n",
              "[3332 rows x 5 columns]"
            ],
            "text/html": [
              "\n",
              "  <div id=\"df-941ad5c2-215b-4039-bec1-be0dfa943d62\" class=\"colab-df-container\">\n",
              "    <div>\n",
              "<style scoped>\n",
              "    .dataframe tbody tr th:only-of-type {\n",
              "        vertical-align: middle;\n",
              "    }\n",
              "\n",
              "    .dataframe tbody tr th {\n",
              "        vertical-align: top;\n",
              "    }\n",
              "\n",
              "    .dataframe thead th {\n",
              "        text-align: right;\n",
              "    }\n",
              "</style>\n",
              "<table border=\"1\" class=\"dataframe\">\n",
              "  <thead>\n",
              "    <tr style=\"text-align: right;\">\n",
              "      <th></th>\n",
              "      <th>Id</th>\n",
              "      <th>ActivityDate</th>\n",
              "      <th>Value</th>\n",
              "      <th>MinuteAverage</th>\n",
              "      <th>HourlyAverage</th>\n",
              "    </tr>\n",
              "  </thead>\n",
              "  <tbody>\n",
              "    <tr>\n",
              "      <th>0</th>\n",
              "      <td>2022484408</td>\n",
              "      <td>2016-04-12 08:00:00</td>\n",
              "      <td>106</td>\n",
              "      <td>107.444444</td>\n",
              "      <td>66.673115</td>\n",
              "    </tr>\n",
              "    <tr>\n",
              "      <th>1</th>\n",
              "      <td>2022484408</td>\n",
              "      <td>2016-04-12 09:00:00</td>\n",
              "      <td>65</td>\n",
              "      <td>64.000000</td>\n",
              "      <td>65.033879</td>\n",
              "    </tr>\n",
              "    <tr>\n",
              "      <th>2</th>\n",
              "      <td>2022484408</td>\n",
              "      <td>2016-04-12 10:00:00</td>\n",
              "      <td>84</td>\n",
              "      <td>86.555556</td>\n",
              "      <td>106.553668</td>\n",
              "    </tr>\n",
              "    <tr>\n",
              "      <th>3</th>\n",
              "      <td>2022484408</td>\n",
              "      <td>2016-04-12 12:00:00</td>\n",
              "      <td>69</td>\n",
              "      <td>69.272727</td>\n",
              "      <td>65.771296</td>\n",
              "    </tr>\n",
              "    <tr>\n",
              "      <th>4</th>\n",
              "      <td>2022484408</td>\n",
              "      <td>2016-04-12 13:00:00</td>\n",
              "      <td>66</td>\n",
              "      <td>66.200000</td>\n",
              "      <td>82.360444</td>\n",
              "    </tr>\n",
              "    <tr>\n",
              "      <th>...</th>\n",
              "      <td>...</td>\n",
              "      <td>...</td>\n",
              "      <td>...</td>\n",
              "      <td>...</td>\n",
              "      <td>...</td>\n",
              "    </tr>\n",
              "    <tr>\n",
              "      <th>3327</th>\n",
              "      <td>8877689391</td>\n",
              "      <td>2016-05-10 15:00:00</td>\n",
              "      <td>61</td>\n",
              "      <td>61.400000</td>\n",
              "      <td>62.163757</td>\n",
              "    </tr>\n",
              "    <tr>\n",
              "      <th>3328</th>\n",
              "      <td>8877689391</td>\n",
              "      <td>2016-05-10 18:00:00</td>\n",
              "      <td>71</td>\n",
              "      <td>72.333333</td>\n",
              "      <td>72.005210</td>\n",
              "    </tr>\n",
              "    <tr>\n",
              "      <th>3329</th>\n",
              "      <td>8877689391</td>\n",
              "      <td>2016-05-11 09:00:00</td>\n",
              "      <td>78</td>\n",
              "      <td>70.700000</td>\n",
              "      <td>67.127965</td>\n",
              "    </tr>\n",
              "    <tr>\n",
              "      <th>3330</th>\n",
              "      <td>8877689391</td>\n",
              "      <td>2016-05-11 10:00:00</td>\n",
              "      <td>60</td>\n",
              "      <td>60.428571</td>\n",
              "      <td>64.713975</td>\n",
              "    </tr>\n",
              "    <tr>\n",
              "      <th>3331</th>\n",
              "      <td>8877689391</td>\n",
              "      <td>2016-05-12 07:00:00</td>\n",
              "      <td>86</td>\n",
              "      <td>87.181818</td>\n",
              "      <td>74.321489</td>\n",
              "    </tr>\n",
              "  </tbody>\n",
              "</table>\n",
              "<p>3332 rows × 5 columns</p>\n",
              "</div>\n",
              "    <div class=\"colab-df-buttons\">\n",
              "\n",
              "  <div class=\"colab-df-container\">\n",
              "    <button class=\"colab-df-convert\" onclick=\"convertToInteractive('df-941ad5c2-215b-4039-bec1-be0dfa943d62')\"\n",
              "            title=\"Convert this dataframe to an interactive table.\"\n",
              "            style=\"display:none;\">\n",
              "\n",
              "  <svg xmlns=\"http://www.w3.org/2000/svg\" height=\"24px\" viewBox=\"0 -960 960 960\">\n",
              "    <path d=\"M120-120v-720h720v720H120Zm60-500h600v-160H180v160Zm220 220h160v-160H400v160Zm0 220h160v-160H400v160ZM180-400h160v-160H180v160Zm440 0h160v-160H620v160ZM180-180h160v-160H180v160Zm440 0h160v-160H620v160Z\"/>\n",
              "  </svg>\n",
              "    </button>\n",
              "\n",
              "  <style>\n",
              "    .colab-df-container {\n",
              "      display:flex;\n",
              "      gap: 12px;\n",
              "    }\n",
              "\n",
              "    .colab-df-convert {\n",
              "      background-color: #E8F0FE;\n",
              "      border: none;\n",
              "      border-radius: 50%;\n",
              "      cursor: pointer;\n",
              "      display: none;\n",
              "      fill: #1967D2;\n",
              "      height: 32px;\n",
              "      padding: 0 0 0 0;\n",
              "      width: 32px;\n",
              "    }\n",
              "\n",
              "    .colab-df-convert:hover {\n",
              "      background-color: #E2EBFA;\n",
              "      box-shadow: 0px 1px 2px rgba(60, 64, 67, 0.3), 0px 1px 3px 1px rgba(60, 64, 67, 0.15);\n",
              "      fill: #174EA6;\n",
              "    }\n",
              "\n",
              "    .colab-df-buttons div {\n",
              "      margin-bottom: 4px;\n",
              "    }\n",
              "\n",
              "    [theme=dark] .colab-df-convert {\n",
              "      background-color: #3B4455;\n",
              "      fill: #D2E3FC;\n",
              "    }\n",
              "\n",
              "    [theme=dark] .colab-df-convert:hover {\n",
              "      background-color: #434B5C;\n",
              "      box-shadow: 0px 1px 3px 1px rgba(0, 0, 0, 0.15);\n",
              "      filter: drop-shadow(0px 1px 2px rgba(0, 0, 0, 0.3));\n",
              "      fill: #FFFFFF;\n",
              "    }\n",
              "  </style>\n",
              "\n",
              "    <script>\n",
              "      const buttonEl =\n",
              "        document.querySelector('#df-941ad5c2-215b-4039-bec1-be0dfa943d62 button.colab-df-convert');\n",
              "      buttonEl.style.display =\n",
              "        google.colab.kernel.accessAllowed ? 'block' : 'none';\n",
              "\n",
              "      async function convertToInteractive(key) {\n",
              "        const element = document.querySelector('#df-941ad5c2-215b-4039-bec1-be0dfa943d62');\n",
              "        const dataTable =\n",
              "          await google.colab.kernel.invokeFunction('convertToInteractive',\n",
              "                                                    [key], {});\n",
              "        if (!dataTable) return;\n",
              "\n",
              "        const docLinkHtml = 'Like what you see? Visit the ' +\n",
              "          '<a target=\"_blank\" href=https://colab.research.google.com/notebooks/data_table.ipynb>data table notebook</a>'\n",
              "          + ' to learn more about interactive tables.';\n",
              "        element.innerHTML = '';\n",
              "        dataTable['output_type'] = 'display_data';\n",
              "        await google.colab.output.renderOutput(dataTable, element);\n",
              "        const docLink = document.createElement('div');\n",
              "        docLink.innerHTML = docLinkHtml;\n",
              "        element.appendChild(docLink);\n",
              "      }\n",
              "    </script>\n",
              "  </div>\n",
              "\n",
              "\n",
              "<div id=\"df-4db8589c-26f9-47b1-9e41-970571a0ef3d\">\n",
              "  <button class=\"colab-df-quickchart\" onclick=\"quickchart('df-4db8589c-26f9-47b1-9e41-970571a0ef3d')\"\n",
              "            title=\"Suggest charts\"\n",
              "            style=\"display:none;\">\n",
              "\n",
              "<svg xmlns=\"http://www.w3.org/2000/svg\" height=\"24px\"viewBox=\"0 0 24 24\"\n",
              "     width=\"24px\">\n",
              "    <g>\n",
              "        <path d=\"M19 3H5c-1.1 0-2 .9-2 2v14c0 1.1.9 2 2 2h14c1.1 0 2-.9 2-2V5c0-1.1-.9-2-2-2zM9 17H7v-7h2v7zm4 0h-2V7h2v10zm4 0h-2v-4h2v4z\"/>\n",
              "    </g>\n",
              "</svg>\n",
              "  </button>\n",
              "\n",
              "<style>\n",
              "  .colab-df-quickchart {\n",
              "      --bg-color: #E8F0FE;\n",
              "      --fill-color: #1967D2;\n",
              "      --hover-bg-color: #E2EBFA;\n",
              "      --hover-fill-color: #174EA6;\n",
              "      --disabled-fill-color: #AAA;\n",
              "      --disabled-bg-color: #DDD;\n",
              "  }\n",
              "\n",
              "  [theme=dark] .colab-df-quickchart {\n",
              "      --bg-color: #3B4455;\n",
              "      --fill-color: #D2E3FC;\n",
              "      --hover-bg-color: #434B5C;\n",
              "      --hover-fill-color: #FFFFFF;\n",
              "      --disabled-bg-color: #3B4455;\n",
              "      --disabled-fill-color: #666;\n",
              "  }\n",
              "\n",
              "  .colab-df-quickchart {\n",
              "    background-color: var(--bg-color);\n",
              "    border: none;\n",
              "    border-radius: 50%;\n",
              "    cursor: pointer;\n",
              "    display: none;\n",
              "    fill: var(--fill-color);\n",
              "    height: 32px;\n",
              "    padding: 0;\n",
              "    width: 32px;\n",
              "  }\n",
              "\n",
              "  .colab-df-quickchart:hover {\n",
              "    background-color: var(--hover-bg-color);\n",
              "    box-shadow: 0 1px 2px rgba(60, 64, 67, 0.3), 0 1px 3px 1px rgba(60, 64, 67, 0.15);\n",
              "    fill: var(--button-hover-fill-color);\n",
              "  }\n",
              "\n",
              "  .colab-df-quickchart-complete:disabled,\n",
              "  .colab-df-quickchart-complete:disabled:hover {\n",
              "    background-color: var(--disabled-bg-color);\n",
              "    fill: var(--disabled-fill-color);\n",
              "    box-shadow: none;\n",
              "  }\n",
              "\n",
              "  .colab-df-spinner {\n",
              "    border: 2px solid var(--fill-color);\n",
              "    border-color: transparent;\n",
              "    border-bottom-color: var(--fill-color);\n",
              "    animation:\n",
              "      spin 1s steps(1) infinite;\n",
              "  }\n",
              "\n",
              "  @keyframes spin {\n",
              "    0% {\n",
              "      border-color: transparent;\n",
              "      border-bottom-color: var(--fill-color);\n",
              "      border-left-color: var(--fill-color);\n",
              "    }\n",
              "    20% {\n",
              "      border-color: transparent;\n",
              "      border-left-color: var(--fill-color);\n",
              "      border-top-color: var(--fill-color);\n",
              "    }\n",
              "    30% {\n",
              "      border-color: transparent;\n",
              "      border-left-color: var(--fill-color);\n",
              "      border-top-color: var(--fill-color);\n",
              "      border-right-color: var(--fill-color);\n",
              "    }\n",
              "    40% {\n",
              "      border-color: transparent;\n",
              "      border-right-color: var(--fill-color);\n",
              "      border-top-color: var(--fill-color);\n",
              "    }\n",
              "    60% {\n",
              "      border-color: transparent;\n",
              "      border-right-color: var(--fill-color);\n",
              "    }\n",
              "    80% {\n",
              "      border-color: transparent;\n",
              "      border-right-color: var(--fill-color);\n",
              "      border-bottom-color: var(--fill-color);\n",
              "    }\n",
              "    90% {\n",
              "      border-color: transparent;\n",
              "      border-bottom-color: var(--fill-color);\n",
              "    }\n",
              "  }\n",
              "</style>\n",
              "\n",
              "  <script>\n",
              "    async function quickchart(key) {\n",
              "      const quickchartButtonEl =\n",
              "        document.querySelector('#' + key + ' button');\n",
              "      quickchartButtonEl.disabled = true;  // To prevent multiple clicks.\n",
              "      quickchartButtonEl.classList.add('colab-df-spinner');\n",
              "      try {\n",
              "        const charts = await google.colab.kernel.invokeFunction(\n",
              "            'suggestCharts', [key], {});\n",
              "      } catch (error) {\n",
              "        console.error('Error during call to suggestCharts:', error);\n",
              "      }\n",
              "      quickchartButtonEl.classList.remove('colab-df-spinner');\n",
              "      quickchartButtonEl.classList.add('colab-df-quickchart-complete');\n",
              "    }\n",
              "    (() => {\n",
              "      let quickchartButtonEl =\n",
              "        document.querySelector('#df-4db8589c-26f9-47b1-9e41-970571a0ef3d button');\n",
              "      quickchartButtonEl.style.display =\n",
              "        google.colab.kernel.accessAllowed ? 'block' : 'none';\n",
              "    })();\n",
              "  </script>\n",
              "</div>\n",
              "\n",
              "  <div id=\"id_5587eeec-1ff2-4af4-af84-eac83be802e1\">\n",
              "    <style>\n",
              "      .colab-df-generate {\n",
              "        background-color: #E8F0FE;\n",
              "        border: none;\n",
              "        border-radius: 50%;\n",
              "        cursor: pointer;\n",
              "        display: none;\n",
              "        fill: #1967D2;\n",
              "        height: 32px;\n",
              "        padding: 0 0 0 0;\n",
              "        width: 32px;\n",
              "      }\n",
              "\n",
              "      .colab-df-generate:hover {\n",
              "        background-color: #E2EBFA;\n",
              "        box-shadow: 0px 1px 2px rgba(60, 64, 67, 0.3), 0px 1px 3px 1px rgba(60, 64, 67, 0.15);\n",
              "        fill: #174EA6;\n",
              "      }\n",
              "\n",
              "      [theme=dark] .colab-df-generate {\n",
              "        background-color: #3B4455;\n",
              "        fill: #D2E3FC;\n",
              "      }\n",
              "\n",
              "      [theme=dark] .colab-df-generate:hover {\n",
              "        background-color: #434B5C;\n",
              "        box-shadow: 0px 1px 3px 1px rgba(0, 0, 0, 0.15);\n",
              "        filter: drop-shadow(0px 1px 2px rgba(0, 0, 0, 0.3));\n",
              "        fill: #FFFFFF;\n",
              "      }\n",
              "    </style>\n",
              "    <button class=\"colab-df-generate\" onclick=\"generateWithVariable('filtered_heart_rate')\"\n",
              "            title=\"Generate code using this dataframe.\"\n",
              "            style=\"display:none;\">\n",
              "\n",
              "  <svg xmlns=\"http://www.w3.org/2000/svg\" height=\"24px\"viewBox=\"0 0 24 24\"\n",
              "       width=\"24px\">\n",
              "    <path d=\"M7,19H8.4L18.45,9,17,7.55,7,17.6ZM5,21V16.75L18.45,3.32a2,2,0,0,1,2.83,0l1.4,1.43a1.91,1.91,0,0,1,.58,1.4,1.91,1.91,0,0,1-.58,1.4L9.25,21ZM18.45,9,17,7.55Zm-12,3A5.31,5.31,0,0,0,4.9,8.1,5.31,5.31,0,0,0,1,6.5,5.31,5.31,0,0,0,4.9,4.9,5.31,5.31,0,0,0,6.5,1,5.31,5.31,0,0,0,8.1,4.9,5.31,5.31,0,0,0,12,6.5,5.46,5.46,0,0,0,6.5,12Z\"/>\n",
              "  </svg>\n",
              "    </button>\n",
              "    <script>\n",
              "      (() => {\n",
              "      const buttonEl =\n",
              "        document.querySelector('#id_5587eeec-1ff2-4af4-af84-eac83be802e1 button.colab-df-generate');\n",
              "      buttonEl.style.display =\n",
              "        google.colab.kernel.accessAllowed ? 'block' : 'none';\n",
              "\n",
              "      buttonEl.onclick = () => {\n",
              "        google.colab.notebook.generateWithVariable('filtered_heart_rate');\n",
              "      }\n",
              "      })();\n",
              "    </script>\n",
              "  </div>\n",
              "\n",
              "    </div>\n",
              "  </div>\n"
            ]
          },
          "metadata": {},
          "execution_count": 163
        }
      ]
    },
    {
      "cell_type": "code",
      "source": [
        "# Calculate the average heart rate for each user\n",
        "average_heart_rate = filtered_heart_rate.groupby(['Id'])['MinuteAverage'].mean().reset_index()"
      ],
      "metadata": {
        "id": "yr3MwL45i4uZ"
      },
      "execution_count": null,
      "outputs": []
    },
    {
      "cell_type": "code",
      "source": [
        "average_heart_rate"
      ],
      "metadata": {
        "colab": {
          "base_uri": "https://localhost:8080/",
          "height": 488
        },
        "id": "MmCWG5goi7Z4",
        "outputId": "91512b8a-dc6a-4c4c-9fe8-e13a1cb8f166"
      },
      "execution_count": null,
      "outputs": [
        {
          "output_type": "execute_result",
          "data": {
            "text/plain": [
              "            Id  MinuteAverage\n",
              "0   2022484408      78.201528\n",
              "1   2026352035      85.758333\n",
              "2   2347167796      75.085574\n",
              "3   4020332650      82.142038\n",
              "4   4388161847      64.144212\n",
              "5   4558609924      80.246019\n",
              "6   5553957443      65.534189\n",
              "7   5577150313      67.204726\n",
              "8   6117666160      82.253785\n",
              "9   6775888955      91.802349\n",
              "10  6962181067      75.437038\n",
              "11  7007744171      89.529480\n",
              "12  8792009665      70.632078\n",
              "13  8877689391      82.344156"
            ],
            "text/html": [
              "\n",
              "  <div id=\"df-e95a09f4-ff69-44ad-b9f6-0af96426ab31\" class=\"colab-df-container\">\n",
              "    <div>\n",
              "<style scoped>\n",
              "    .dataframe tbody tr th:only-of-type {\n",
              "        vertical-align: middle;\n",
              "    }\n",
              "\n",
              "    .dataframe tbody tr th {\n",
              "        vertical-align: top;\n",
              "    }\n",
              "\n",
              "    .dataframe thead th {\n",
              "        text-align: right;\n",
              "    }\n",
              "</style>\n",
              "<table border=\"1\" class=\"dataframe\">\n",
              "  <thead>\n",
              "    <tr style=\"text-align: right;\">\n",
              "      <th></th>\n",
              "      <th>Id</th>\n",
              "      <th>MinuteAverage</th>\n",
              "    </tr>\n",
              "  </thead>\n",
              "  <tbody>\n",
              "    <tr>\n",
              "      <th>0</th>\n",
              "      <td>2022484408</td>\n",
              "      <td>78.201528</td>\n",
              "    </tr>\n",
              "    <tr>\n",
              "      <th>1</th>\n",
              "      <td>2026352035</td>\n",
              "      <td>85.758333</td>\n",
              "    </tr>\n",
              "    <tr>\n",
              "      <th>2</th>\n",
              "      <td>2347167796</td>\n",
              "      <td>75.085574</td>\n",
              "    </tr>\n",
              "    <tr>\n",
              "      <th>3</th>\n",
              "      <td>4020332650</td>\n",
              "      <td>82.142038</td>\n",
              "    </tr>\n",
              "    <tr>\n",
              "      <th>4</th>\n",
              "      <td>4388161847</td>\n",
              "      <td>64.144212</td>\n",
              "    </tr>\n",
              "    <tr>\n",
              "      <th>5</th>\n",
              "      <td>4558609924</td>\n",
              "      <td>80.246019</td>\n",
              "    </tr>\n",
              "    <tr>\n",
              "      <th>6</th>\n",
              "      <td>5553957443</td>\n",
              "      <td>65.534189</td>\n",
              "    </tr>\n",
              "    <tr>\n",
              "      <th>7</th>\n",
              "      <td>5577150313</td>\n",
              "      <td>67.204726</td>\n",
              "    </tr>\n",
              "    <tr>\n",
              "      <th>8</th>\n",
              "      <td>6117666160</td>\n",
              "      <td>82.253785</td>\n",
              "    </tr>\n",
              "    <tr>\n",
              "      <th>9</th>\n",
              "      <td>6775888955</td>\n",
              "      <td>91.802349</td>\n",
              "    </tr>\n",
              "    <tr>\n",
              "      <th>10</th>\n",
              "      <td>6962181067</td>\n",
              "      <td>75.437038</td>\n",
              "    </tr>\n",
              "    <tr>\n",
              "      <th>11</th>\n",
              "      <td>7007744171</td>\n",
              "      <td>89.529480</td>\n",
              "    </tr>\n",
              "    <tr>\n",
              "      <th>12</th>\n",
              "      <td>8792009665</td>\n",
              "      <td>70.632078</td>\n",
              "    </tr>\n",
              "    <tr>\n",
              "      <th>13</th>\n",
              "      <td>8877689391</td>\n",
              "      <td>82.344156</td>\n",
              "    </tr>\n",
              "  </tbody>\n",
              "</table>\n",
              "</div>\n",
              "    <div class=\"colab-df-buttons\">\n",
              "\n",
              "  <div class=\"colab-df-container\">\n",
              "    <button class=\"colab-df-convert\" onclick=\"convertToInteractive('df-e95a09f4-ff69-44ad-b9f6-0af96426ab31')\"\n",
              "            title=\"Convert this dataframe to an interactive table.\"\n",
              "            style=\"display:none;\">\n",
              "\n",
              "  <svg xmlns=\"http://www.w3.org/2000/svg\" height=\"24px\" viewBox=\"0 -960 960 960\">\n",
              "    <path d=\"M120-120v-720h720v720H120Zm60-500h600v-160H180v160Zm220 220h160v-160H400v160Zm0 220h160v-160H400v160ZM180-400h160v-160H180v160Zm440 0h160v-160H620v160ZM180-180h160v-160H180v160Zm440 0h160v-160H620v160Z\"/>\n",
              "  </svg>\n",
              "    </button>\n",
              "\n",
              "  <style>\n",
              "    .colab-df-container {\n",
              "      display:flex;\n",
              "      gap: 12px;\n",
              "    }\n",
              "\n",
              "    .colab-df-convert {\n",
              "      background-color: #E8F0FE;\n",
              "      border: none;\n",
              "      border-radius: 50%;\n",
              "      cursor: pointer;\n",
              "      display: none;\n",
              "      fill: #1967D2;\n",
              "      height: 32px;\n",
              "      padding: 0 0 0 0;\n",
              "      width: 32px;\n",
              "    }\n",
              "\n",
              "    .colab-df-convert:hover {\n",
              "      background-color: #E2EBFA;\n",
              "      box-shadow: 0px 1px 2px rgba(60, 64, 67, 0.3), 0px 1px 3px 1px rgba(60, 64, 67, 0.15);\n",
              "      fill: #174EA6;\n",
              "    }\n",
              "\n",
              "    .colab-df-buttons div {\n",
              "      margin-bottom: 4px;\n",
              "    }\n",
              "\n",
              "    [theme=dark] .colab-df-convert {\n",
              "      background-color: #3B4455;\n",
              "      fill: #D2E3FC;\n",
              "    }\n",
              "\n",
              "    [theme=dark] .colab-df-convert:hover {\n",
              "      background-color: #434B5C;\n",
              "      box-shadow: 0px 1px 3px 1px rgba(0, 0, 0, 0.15);\n",
              "      filter: drop-shadow(0px 1px 2px rgba(0, 0, 0, 0.3));\n",
              "      fill: #FFFFFF;\n",
              "    }\n",
              "  </style>\n",
              "\n",
              "    <script>\n",
              "      const buttonEl =\n",
              "        document.querySelector('#df-e95a09f4-ff69-44ad-b9f6-0af96426ab31 button.colab-df-convert');\n",
              "      buttonEl.style.display =\n",
              "        google.colab.kernel.accessAllowed ? 'block' : 'none';\n",
              "\n",
              "      async function convertToInteractive(key) {\n",
              "        const element = document.querySelector('#df-e95a09f4-ff69-44ad-b9f6-0af96426ab31');\n",
              "        const dataTable =\n",
              "          await google.colab.kernel.invokeFunction('convertToInteractive',\n",
              "                                                    [key], {});\n",
              "        if (!dataTable) return;\n",
              "\n",
              "        const docLinkHtml = 'Like what you see? Visit the ' +\n",
              "          '<a target=\"_blank\" href=https://colab.research.google.com/notebooks/data_table.ipynb>data table notebook</a>'\n",
              "          + ' to learn more about interactive tables.';\n",
              "        element.innerHTML = '';\n",
              "        dataTable['output_type'] = 'display_data';\n",
              "        await google.colab.output.renderOutput(dataTable, element);\n",
              "        const docLink = document.createElement('div');\n",
              "        docLink.innerHTML = docLinkHtml;\n",
              "        element.appendChild(docLink);\n",
              "      }\n",
              "    </script>\n",
              "  </div>\n",
              "\n",
              "\n",
              "<div id=\"df-95b97059-8edc-41ab-9787-5d7dd4a3882f\">\n",
              "  <button class=\"colab-df-quickchart\" onclick=\"quickchart('df-95b97059-8edc-41ab-9787-5d7dd4a3882f')\"\n",
              "            title=\"Suggest charts\"\n",
              "            style=\"display:none;\">\n",
              "\n",
              "<svg xmlns=\"http://www.w3.org/2000/svg\" height=\"24px\"viewBox=\"0 0 24 24\"\n",
              "     width=\"24px\">\n",
              "    <g>\n",
              "        <path d=\"M19 3H5c-1.1 0-2 .9-2 2v14c0 1.1.9 2 2 2h14c1.1 0 2-.9 2-2V5c0-1.1-.9-2-2-2zM9 17H7v-7h2v7zm4 0h-2V7h2v10zm4 0h-2v-4h2v4z\"/>\n",
              "    </g>\n",
              "</svg>\n",
              "  </button>\n",
              "\n",
              "<style>\n",
              "  .colab-df-quickchart {\n",
              "      --bg-color: #E8F0FE;\n",
              "      --fill-color: #1967D2;\n",
              "      --hover-bg-color: #E2EBFA;\n",
              "      --hover-fill-color: #174EA6;\n",
              "      --disabled-fill-color: #AAA;\n",
              "      --disabled-bg-color: #DDD;\n",
              "  }\n",
              "\n",
              "  [theme=dark] .colab-df-quickchart {\n",
              "      --bg-color: #3B4455;\n",
              "      --fill-color: #D2E3FC;\n",
              "      --hover-bg-color: #434B5C;\n",
              "      --hover-fill-color: #FFFFFF;\n",
              "      --disabled-bg-color: #3B4455;\n",
              "      --disabled-fill-color: #666;\n",
              "  }\n",
              "\n",
              "  .colab-df-quickchart {\n",
              "    background-color: var(--bg-color);\n",
              "    border: none;\n",
              "    border-radius: 50%;\n",
              "    cursor: pointer;\n",
              "    display: none;\n",
              "    fill: var(--fill-color);\n",
              "    height: 32px;\n",
              "    padding: 0;\n",
              "    width: 32px;\n",
              "  }\n",
              "\n",
              "  .colab-df-quickchart:hover {\n",
              "    background-color: var(--hover-bg-color);\n",
              "    box-shadow: 0 1px 2px rgba(60, 64, 67, 0.3), 0 1px 3px 1px rgba(60, 64, 67, 0.15);\n",
              "    fill: var(--button-hover-fill-color);\n",
              "  }\n",
              "\n",
              "  .colab-df-quickchart-complete:disabled,\n",
              "  .colab-df-quickchart-complete:disabled:hover {\n",
              "    background-color: var(--disabled-bg-color);\n",
              "    fill: var(--disabled-fill-color);\n",
              "    box-shadow: none;\n",
              "  }\n",
              "\n",
              "  .colab-df-spinner {\n",
              "    border: 2px solid var(--fill-color);\n",
              "    border-color: transparent;\n",
              "    border-bottom-color: var(--fill-color);\n",
              "    animation:\n",
              "      spin 1s steps(1) infinite;\n",
              "  }\n",
              "\n",
              "  @keyframes spin {\n",
              "    0% {\n",
              "      border-color: transparent;\n",
              "      border-bottom-color: var(--fill-color);\n",
              "      border-left-color: var(--fill-color);\n",
              "    }\n",
              "    20% {\n",
              "      border-color: transparent;\n",
              "      border-left-color: var(--fill-color);\n",
              "      border-top-color: var(--fill-color);\n",
              "    }\n",
              "    30% {\n",
              "      border-color: transparent;\n",
              "      border-left-color: var(--fill-color);\n",
              "      border-top-color: var(--fill-color);\n",
              "      border-right-color: var(--fill-color);\n",
              "    }\n",
              "    40% {\n",
              "      border-color: transparent;\n",
              "      border-right-color: var(--fill-color);\n",
              "      border-top-color: var(--fill-color);\n",
              "    }\n",
              "    60% {\n",
              "      border-color: transparent;\n",
              "      border-right-color: var(--fill-color);\n",
              "    }\n",
              "    80% {\n",
              "      border-color: transparent;\n",
              "      border-right-color: var(--fill-color);\n",
              "      border-bottom-color: var(--fill-color);\n",
              "    }\n",
              "    90% {\n",
              "      border-color: transparent;\n",
              "      border-bottom-color: var(--fill-color);\n",
              "    }\n",
              "  }\n",
              "</style>\n",
              "\n",
              "  <script>\n",
              "    async function quickchart(key) {\n",
              "      const quickchartButtonEl =\n",
              "        document.querySelector('#' + key + ' button');\n",
              "      quickchartButtonEl.disabled = true;  // To prevent multiple clicks.\n",
              "      quickchartButtonEl.classList.add('colab-df-spinner');\n",
              "      try {\n",
              "        const charts = await google.colab.kernel.invokeFunction(\n",
              "            'suggestCharts', [key], {});\n",
              "      } catch (error) {\n",
              "        console.error('Error during call to suggestCharts:', error);\n",
              "      }\n",
              "      quickchartButtonEl.classList.remove('colab-df-spinner');\n",
              "      quickchartButtonEl.classList.add('colab-df-quickchart-complete');\n",
              "    }\n",
              "    (() => {\n",
              "      let quickchartButtonEl =\n",
              "        document.querySelector('#df-95b97059-8edc-41ab-9787-5d7dd4a3882f button');\n",
              "      quickchartButtonEl.style.display =\n",
              "        google.colab.kernel.accessAllowed ? 'block' : 'none';\n",
              "    })();\n",
              "  </script>\n",
              "</div>\n",
              "\n",
              "  <div id=\"id_1f314d6e-69c4-4420-a2dc-eb04eebcc3cc\">\n",
              "    <style>\n",
              "      .colab-df-generate {\n",
              "        background-color: #E8F0FE;\n",
              "        border: none;\n",
              "        border-radius: 50%;\n",
              "        cursor: pointer;\n",
              "        display: none;\n",
              "        fill: #1967D2;\n",
              "        height: 32px;\n",
              "        padding: 0 0 0 0;\n",
              "        width: 32px;\n",
              "      }\n",
              "\n",
              "      .colab-df-generate:hover {\n",
              "        background-color: #E2EBFA;\n",
              "        box-shadow: 0px 1px 2px rgba(60, 64, 67, 0.3), 0px 1px 3px 1px rgba(60, 64, 67, 0.15);\n",
              "        fill: #174EA6;\n",
              "      }\n",
              "\n",
              "      [theme=dark] .colab-df-generate {\n",
              "        background-color: #3B4455;\n",
              "        fill: #D2E3FC;\n",
              "      }\n",
              "\n",
              "      [theme=dark] .colab-df-generate:hover {\n",
              "        background-color: #434B5C;\n",
              "        box-shadow: 0px 1px 3px 1px rgba(0, 0, 0, 0.15);\n",
              "        filter: drop-shadow(0px 1px 2px rgba(0, 0, 0, 0.3));\n",
              "        fill: #FFFFFF;\n",
              "      }\n",
              "    </style>\n",
              "    <button class=\"colab-df-generate\" onclick=\"generateWithVariable('average_heart_rate')\"\n",
              "            title=\"Generate code using this dataframe.\"\n",
              "            style=\"display:none;\">\n",
              "\n",
              "  <svg xmlns=\"http://www.w3.org/2000/svg\" height=\"24px\"viewBox=\"0 0 24 24\"\n",
              "       width=\"24px\">\n",
              "    <path d=\"M7,19H8.4L18.45,9,17,7.55,7,17.6ZM5,21V16.75L18.45,3.32a2,2,0,0,1,2.83,0l1.4,1.43a1.91,1.91,0,0,1,.58,1.4,1.91,1.91,0,0,1-.58,1.4L9.25,21ZM18.45,9,17,7.55Zm-12,3A5.31,5.31,0,0,0,4.9,8.1,5.31,5.31,0,0,0,1,6.5,5.31,5.31,0,0,0,4.9,4.9,5.31,5.31,0,0,0,6.5,1,5.31,5.31,0,0,0,8.1,4.9,5.31,5.31,0,0,0,12,6.5,5.46,5.46,0,0,0,6.5,12Z\"/>\n",
              "  </svg>\n",
              "    </button>\n",
              "    <script>\n",
              "      (() => {\n",
              "      const buttonEl =\n",
              "        document.querySelector('#id_1f314d6e-69c4-4420-a2dc-eb04eebcc3cc button.colab-df-generate');\n",
              "      buttonEl.style.display =\n",
              "        google.colab.kernel.accessAllowed ? 'block' : 'none';\n",
              "\n",
              "      buttonEl.onclick = () => {\n",
              "        google.colab.notebook.generateWithVariable('average_heart_rate');\n",
              "      }\n",
              "      })();\n",
              "    </script>\n",
              "  </div>\n",
              "\n",
              "    </div>\n",
              "  </div>\n"
            ]
          },
          "metadata": {},
          "execution_count": 165
        }
      ]
    },
    {
      "cell_type": "code",
      "source": [
        "# Distribution of Heart Rate in Minutes for Each User\n",
        "plt.figure(figsize=(12, 8))\n",
        "sns.boxplot(data=heart_rate, x='Id', y='MinuteAverage')\n",
        "plt.title('Distribution of Heart Rate in Minutes for Each User')\n",
        "plt.xticks(rotation=45, ha='right')\n",
        "plt.show()\n"
      ],
      "metadata": {
        "colab": {
          "base_uri": "https://localhost:8080/",
          "height": 777
        },
        "id": "y8zwwyT3i9dS",
        "outputId": "eed17f6e-0be7-4e29-b2f3-a2ba466559af"
      },
      "execution_count": null,
      "outputs": [
        {
          "output_type": "display_data",
          "data": {
            "text/plain": [
              "<Figure size 1200x800 with 1 Axes>"
            ],
            "image/png": "[encoded data removed]"
          },
          "metadata": {}
        }
      ]
    },
    {
      "cell_type": "markdown",
      "source": [
        "# A summary of the analysis"
      ],
      "metadata": {
        "id": "2U-qlKtAkeQj"
      }
    },
    {
      "cell_type": "markdown",
      "source": [
        "## Trends in Smart Device Usage:\n",
        "\n",
        "**Exercise Patterns:** Users are most active on weekdays, with Tuesday being the peak exercise day.\n",
        "Weekends (Saturday and Sunday) show lower exercise counts, suggesting potential variations in structured exercise routines during the weekend.\n",
        "\n",
        "**Active Minutes and Distances:** Monday and Tuesday consistently have higher total active minutes and very active minutes.\n",
        "Saturday stands out for longer total activity distances.\n",
        "Lightly active minutes and distances alomst remains consistent across weekdays.\n",
        "\n",
        "**Sleep Duration:**The average sleep duration is around 6.98 hours per night, with variability among users.\n",
        "Users spend approximately 7.64 hours in bed, suggesting some time spent in bed without actual sleep.\n",
        "\n",
        " **Weight and BMI:**The average weight is around 72.035 kg, with an average BMI of 25.185, falling into the 'Pre-obesity' category on average.\n",
        "\n",
        "**Heart Rate Averages:**Users have an average minute heart rate of 74.078 and an average hourly heart rate of 73.42,\n",
        "variability in heart rate values indicates potential fluctuations during different activities."
      ],
      "metadata": {
        "id": "SB1sjOENkf4c"
      }
    },
    {
      "cell_type": "markdown",
      "source": [
        "## Application to Fitbit Customers:\n",
        "\n",
        "**Tailored Exercise Plans:**Fitbit can tailor exercise plans to align with observed trends, emphasizing peak exercise days and adjusting recommendations for weekends.\n",
        "\n",
        "**Sleep and Recovery Recommendations:**Fitbit could provide insights and recommendations to improve sleep quality, considering the average sleep duration and time spent in bed without sleep.\n",
        "\n",
        "**Weight Management Support:**Fitbit can offer personalized weight management support based on observed weight and BMI trends, providing targeted advice and goals.\n",
        "\n",
        "**Heart Rate Monitoring Optimization:**Fitbit could optimize heart rate monitoring features by considering variability during different activities, providing more accurate insights into users' cardiovascular health."
      ],
      "metadata": {
        "id": "h7aRz-YZln3z"
      }
    },
    {
      "cell_type": "markdown",
      "source": [
        "## Influence on Fitbit Marketing Strategy:\n",
        "\n",
        "**Promotion of Weekday Engagement:**Fitbit could strategically promote features, challenges, or rewards that encourage weekday engagement, leveraging the observed peak exercise days.\n",
        "\n",
        "**Sleep Improvement Features:**Marketing efforts could highlight features aimed at improving sleep quality, addressing the observed average sleep duration and time spent in bed without sleep.\n",
        "\n",
        "**Weight Management Campaigns:**Fitbit could run targeted campaigns focusing on weight management, leveraging insights into average weight and BMI categories.\n",
        "\n",
        "**Heart Health Awareness:**Marketing messages could emphasize the importance of heart health, showcasing how Fitbit's heart rate monitoring features adapt to various activities.\n",
        "\n",
        "**Customized Recommendations:**Fitbit's marketing strategy can highlight the platform's ability to provide personalized recommendations based on observed trends, enhancing the user experience."
      ],
      "metadata": {
        "id": "7W6Z-K0_lymV"
      }
    },
    {
      "cell_type": "markdown",
      "source": [
        "# Conclusion:\n",
        "\n",
        "\n"
      ],
      "metadata": {
        "id": "oYnMrmU5m2I2"
      }
    },
    {
      "cell_type": "markdown",
      "source": [
        "### Key Takeaways:\n",
        "\n",
        "**Exercise Patterns**:Users showcase a strong inclination towards exercise on weekdays, peaking on Tuesdays. Weekends exhibit a decline in structured exercise, indicating potential variations in users' routines.\n",
        "\n",
        "**Sleep Metrics:**The average sleep duration hovers around 6.99 hours, accompanied by an average of 7.64 hours spent in bed. Variability in sleep patterns emphasizes the need for personalized sleep insights.\n",
        "\n",
        "**Weight and BMI:**The average weight of approximately 72.04 kg places users in the 'Pre-obesity' category, emphasizing the importance of weight management support.\n",
        "\n",
        "**Heart Rate Averages:**Users demonstrate diverse heart rate averages during different activities, showcasing the potential for enhanced heart health monitoring and insights.\n",
        "\n",
        "### Recommendations for Fitbit:\n",
        "\n",
        "**Tailored Exercise Plans:**Fitbit can capitalize on observed exercise trends to provide tailored plans, optimizing engagement on peak exercise days and adapting recommendations for weekends.\n",
        "\n",
        "**Sleep Improvement Features:**Enhancements to sleep tracking features can address average sleep duration, offering personalized insights for improved sleep quality and overall well-being.\n",
        "\n",
        "**Weight Management Support:**Fitbit can offer targeted weight management support, aligning with average weight and BMI trends to guide users towards healthier lifestyles.\n",
        "\n",
        "**Heart Health Optimization:**Further optimization of heart rate monitoring features will enhance Fitbit's ability to deliver accurate insights into users' cardiovascular health during various activities.\n",
        "Marketing Strategy Implications:\n",
        "\n",
        "### Strategic Promotions:\n",
        "\n",
        "**Sleep Optimization Campaigns:Marketing efforts can focus on sleep improvement features, emphasizing Fitbit's role in enhancing sleep quality and overall well-being.\n",
        "\n",
        "**Weight Management Initiatives:**Targeted campaigns can highlight Fitbit's role in weight management, offering users personalized strategies to achieve their health goals.\n",
        "\n",
        "**Heart Health Awareness:**Fitbit can run awareness campaigns emphasizing the importance of heart health and how the platform adapts to users' cardiovascular activities.\n",
        "In essence, this analysis equips Fitbit with the knowledge needed to refine its offerings, providing users with more personalized and effective tools for their health and wellness journeys. The insights gained are instrumental in shaping Fitbit's future strategies, ensuring continued empowerment of users in their pursuit of healthier lifestyles."
      ],
      "metadata": {
        "id": "ihqa1i0jGWdk"
      }
    },
    {
      "cell_type": "code",
      "source": [
        "sleepday.describe()"
      ],
      "metadata": {
        "colab": {
          "base_uri": "https://localhost:8080/",
          "height": 300
        },
        "id": "a13zcYRb3MF3",
        "outputId": "c94a72d0-f158-446f-a936-25d9b847363c"
      },
      "execution_count": null,
      "outputs": [
        {
          "output_type": "execute_result",
          "data": {
            "text/plain": [
              "                 Id  TotalMinutesAsleep  TotalTimeInBedMin  TotalHoursAsleep  \\\n",
              "count  4.100000e+02          410.000000         410.000000        410.000000   \n",
              "mean   4.994963e+09          419.173171         458.482927          6.986220   \n",
              "std    2.060863e+09          118.635918         127.455140          1.977265   \n",
              "min    1.503960e+09           58.000000          61.000000          0.966667   \n",
              "25%    3.977334e+09          361.000000         403.750000          6.016667   \n",
              "50%    4.702922e+09          432.500000         463.000000          7.208333   \n",
              "75%    6.962181e+09          490.000000         526.000000          8.166667   \n",
              "max    8.792010e+09          796.000000         961.000000         13.266667   \n",
              "\n",
              "       TotalTimeInBedHour  \n",
              "count          410.000000  \n",
              "mean             7.641382  \n",
              "std              2.124252  \n",
              "min              1.016667  \n",
              "25%              6.729167  \n",
              "50%              7.716667  \n",
              "75%              8.766667  \n",
              "max             16.016667  "
            ],
            "text/html": [
              "\n",
              "  <div id=\"df-2176cb3e-066b-4a07-b709-b31b01d9228d\" class=\"colab-df-container\">\n",
              "    <div>\n",
              "<style scoped>\n",
              "    .dataframe tbody tr th:only-of-type {\n",
              "        vertical-align: middle;\n",
              "    }\n",
              "\n",
              "    .dataframe tbody tr th {\n",
              "        vertical-align: top;\n",
              "    }\n",
              "\n",
              "    .dataframe thead th {\n",
              "        text-align: right;\n",
              "    }\n",
              "</style>\n",
              "<table border=\"1\" class=\"dataframe\">\n",
              "  <thead>\n",
              "    <tr style=\"text-align: right;\">\n",
              "      <th></th>\n",
              "      <th>Id</th>\n",
              "      <th>TotalMinutesAsleep</th>\n",
              "      <th>TotalTimeInBedMin</th>\n",
              "      <th>TotalHoursAsleep</th>\n",
              "      <th>TotalTimeInBedHour</th>\n",
              "    </tr>\n",
              "  </thead>\n",
              "  <tbody>\n",
              "    <tr>\n",
              "      <th>count</th>\n",
              "      <td>4.100000e+02</td>\n",
              "      <td>410.000000</td>\n",
              "      <td>410.000000</td>\n",
              "      <td>410.000000</td>\n",
              "      <td>410.000000</td>\n",
              "    </tr>\n",
              "    <tr>\n",
              "      <th>mean</th>\n",
              "      <td>4.994963e+09</td>\n",
              "      <td>419.173171</td>\n",
              "      <td>458.482927</td>\n",
              "      <td>6.986220</td>\n",
              "      <td>7.641382</td>\n",
              "    </tr>\n",
              "    <tr>\n",
              "      <th>std</th>\n",
              "      <td>2.060863e+09</td>\n",
              "      <td>118.635918</td>\n",
              "      <td>127.455140</td>\n",
              "      <td>1.977265</td>\n",
              "      <td>2.124252</td>\n",
              "    </tr>\n",
              "    <tr>\n",
              "      <th>min</th>\n",
              "      <td>1.503960e+09</td>\n",
              "      <td>58.000000</td>\n",
              "      <td>61.000000</td>\n",
              "      <td>0.966667</td>\n",
              "      <td>1.016667</td>\n",
              "    </tr>\n",
              "    <tr>\n",
              "      <th>25%</th>\n",
              "      <td>3.977334e+09</td>\n",
              "      <td>361.000000</td>\n",
              "      <td>403.750000</td>\n",
              "      <td>6.016667</td>\n",
              "      <td>6.729167</td>\n",
              "    </tr>\n",
              "    <tr>\n",
              "      <th>50%</th>\n",
              "      <td>4.702922e+09</td>\n",
              "      <td>432.500000</td>\n",
              "      <td>463.000000</td>\n",
              "      <td>7.208333</td>\n",
              "      <td>7.716667</td>\n",
              "    </tr>\n",
              "    <tr>\n",
              "      <th>75%</th>\n",
              "      <td>6.962181e+09</td>\n",
              "      <td>490.000000</td>\n",
              "      <td>526.000000</td>\n",
              "      <td>8.166667</td>\n",
              "      <td>8.766667</td>\n",
              "    </tr>\n",
              "    <tr>\n",
              "      <th>max</th>\n",
              "      <td>8.792010e+09</td>\n",
              "      <td>796.000000</td>\n",
              "      <td>961.000000</td>\n",
              "      <td>13.266667</td>\n",
              "      <td>16.016667</td>\n",
              "    </tr>\n",
              "  </tbody>\n",
              "</table>\n",
              "</div>\n",
              "    <div class=\"colab-df-buttons\">\n",
              "\n",
              "  <div class=\"colab-df-container\">\n",
              "    <button class=\"colab-df-convert\" onclick=\"convertToInteractive('df-2176cb3e-066b-4a07-b709-b31b01d9228d')\"\n",
              "            title=\"Convert this dataframe to an interactive table.\"\n",
              "            style=\"display:none;\">\n",
              "\n",
              "  <svg xmlns=\"http://www.w3.org/2000/svg\" height=\"24px\" viewBox=\"0 -960 960 960\">\n",
              "    <path d=\"M120-120v-720h720v720H120Zm60-500h600v-160H180v160Zm220 220h160v-160H400v160Zm0 220h160v-160H400v160ZM180-400h160v-160H180v160Zm440 0h160v-160H620v160ZM180-180h160v-160H180v160Zm440 0h160v-160H620v160Z\"/>\n",
              "  </svg>\n",
              "    </button>\n",
              "\n",
              "  <style>\n",
              "    .colab-df-container {\n",
              "      display:flex;\n",
              "      gap: 12px;\n",
              "    }\n",
              "\n",
              "    .colab-df-convert {\n",
              "      background-color: #E8F0FE;\n",
              "      border: none;\n",
              "      border-radius: 50%;\n",
              "      cursor: pointer;\n",
              "      display: none;\n",
              "      fill: #1967D2;\n",
              "      height: 32px;\n",
              "      padding: 0 0 0 0;\n",
              "      width: 32px;\n",
              "    }\n",
              "\n",
              "    .colab-df-convert:hover {\n",
              "      background-color: #E2EBFA;\n",
              "      box-shadow: 0px 1px 2px rgba(60, 64, 67, 0.3), 0px 1px 3px 1px rgba(60, 64, 67, 0.15);\n",
              "      fill: #174EA6;\n",
              "    }\n",
              "\n",
              "    .colab-df-buttons div {\n",
              "      margin-bottom: 4px;\n",
              "    }\n",
              "\n",
              "    [theme=dark] .colab-df-convert {\n",
              "      background-color: #3B4455;\n",
              "      fill: #D2E3FC;\n",
              "    }\n",
              "\n",
              "    [theme=dark] .colab-df-convert:hover {\n",
              "      background-color: #434B5C;\n",
              "      box-shadow: 0px 1px 3px 1px rgba(0, 0, 0, 0.15);\n",
              "      filter: drop-shadow(0px 1px 2px rgba(0, 0, 0, 0.3));\n",
              "      fill: #FFFFFF;\n",
              "    }\n",
              "  </style>\n",
              "\n",
              "    <script>\n",
              "      const buttonEl =\n",
              "        document.querySelector('#df-2176cb3e-066b-4a07-b709-b31b01d9228d button.colab-df-convert');\n",
              "      buttonEl.style.display =\n",
              "        google.colab.kernel.accessAllowed ? 'block' : 'none';\n",
              "\n",
              "      async function convertToInteractive(key) {\n",
              "        const element = document.querySelector('#df-2176cb3e-066b-4a07-b709-b31b01d9228d');\n",
              "        const dataTable =\n",
              "          await google.colab.kernel.invokeFunction('convertToInteractive',\n",
              "                                                    [key], {});\n",
              "        if (!dataTable) return;\n",
              "\n",
              "        const docLinkHtml = 'Like what you see? Visit the ' +\n",
              "          '<a target=\"_blank\" href=https://colab.research.google.com/notebooks/data_table.ipynb>data table notebook</a>'\n",
              "          + ' to learn more about interactive tables.';\n",
              "        element.innerHTML = '';\n",
              "        dataTable['output_type'] = 'display_data';\n",
              "        await google.colab.output.renderOutput(dataTable, element);\n",
              "        const docLink = document.createElement('div');\n",
              "        docLink.innerHTML = docLinkHtml;\n",
              "        element.appendChild(docLink);\n",
              "      }\n",
              "    </script>\n",
              "  </div>\n",
              "\n",
              "\n",
              "<div id=\"df-cc33463d-e13b-4c48-ba21-66ff8602761b\">\n",
              "  <button class=\"colab-df-quickchart\" onclick=\"quickchart('df-cc33463d-e13b-4c48-ba21-66ff8602761b')\"\n",
              "            title=\"Suggest charts\"\n",
              "            style=\"display:none;\">\n",
              "\n",
              "<svg xmlns=\"http://www.w3.org/2000/svg\" height=\"24px\"viewBox=\"0 0 24 24\"\n",
              "     width=\"24px\">\n",
              "    <g>\n",
              "        <path d=\"M19 3H5c-1.1 0-2 .9-2 2v14c0 1.1.9 2 2 2h14c1.1 0 2-.9 2-2V5c0-1.1-.9-2-2-2zM9 17H7v-7h2v7zm4 0h-2V7h2v10zm4 0h-2v-4h2v4z\"/>\n",
              "    </g>\n",
              "</svg>\n",
              "  </button>\n",
              "\n",
              "<style>\n",
              "  .colab-df-quickchart {\n",
              "      --bg-color: #E8F0FE;\n",
              "      --fill-color: #1967D2;\n",
              "      --hover-bg-color: #E2EBFA;\n",
              "      --hover-fill-color: #174EA6;\n",
              "      --disabled-fill-color: #AAA;\n",
              "      --disabled-bg-color: #DDD;\n",
              "  }\n",
              "\n",
              "  [theme=dark] .colab-df-quickchart {\n",
              "      --bg-color: #3B4455;\n",
              "      --fill-color: #D2E3FC;\n",
              "      --hover-bg-color: #434B5C;\n",
              "      --hover-fill-color: #FFFFFF;\n",
              "      --disabled-bg-color: #3B4455;\n",
              "      --disabled-fill-color: #666;\n",
              "  }\n",
              "\n",
              "  .colab-df-quickchart {\n",
              "    background-color: var(--bg-color);\n",
              "    border: none;\n",
              "    border-radius: 50%;\n",
              "    cursor: pointer;\n",
              "    display: none;\n",
              "    fill: var(--fill-color);\n",
              "    height: 32px;\n",
              "    padding: 0;\n",
              "    width: 32px;\n",
              "  }\n",
              "\n",
              "  .colab-df-quickchart:hover {\n",
              "    background-color: var(--hover-bg-color);\n",
              "    box-shadow: 0 1px 2px rgba(60, 64, 67, 0.3), 0 1px 3px 1px rgba(60, 64, 67, 0.15);\n",
              "    fill: var(--button-hover-fill-color);\n",
              "  }\n",
              "\n",
              "  .colab-df-quickchart-complete:disabled,\n",
              "  .colab-df-quickchart-complete:disabled:hover {\n",
              "    background-color: var(--disabled-bg-color);\n",
              "    fill: var(--disabled-fill-color);\n",
              "    box-shadow: none;\n",
              "  }\n",
              "\n",
              "  .colab-df-spinner {\n",
              "    border: 2px solid var(--fill-color);\n",
              "    border-color: transparent;\n",
              "    border-bottom-color: var(--fill-color);\n",
              "    animation:\n",
              "      spin 1s steps(1) infinite;\n",
              "  }\n",
              "\n",
              "  @keyframes spin {\n",
              "    0% {\n",
              "      border-color: transparent;\n",
              "      border-bottom-color: var(--fill-color);\n",
              "      border-left-color: var(--fill-color);\n",
              "    }\n",
              "    20% {\n",
              "      border-color: transparent;\n",
              "      border-left-color: var(--fill-color);\n",
              "      border-top-color: var(--fill-color);\n",
              "    }\n",
              "    30% {\n",
              "      border-color: transparent;\n",
              "      border-left-color: var(--fill-color);\n",
              "      border-top-color: var(--fill-color);\n",
              "      border-right-color: var(--fill-color);\n",
              "    }\n",
              "    40% {\n",
              "      border-color: transparent;\n",
              "      border-right-color: var(--fill-color);\n",
              "      border-top-color: var(--fill-color);\n",
              "    }\n",
              "    60% {\n",
              "      border-color: transparent;\n",
              "      border-right-color: var(--fill-color);\n",
              "    }\n",
              "    80% {\n",
              "      border-color: transparent;\n",
              "      border-right-color: var(--fill-color);\n",
              "      border-bottom-color: var(--fill-color);\n",
              "    }\n",
              "    90% {\n",
              "      border-color: transparent;\n",
              "      border-bottom-color: var(--fill-color);\n",
              "    }\n",
              "  }\n",
              "</style>\n",
              "\n",
              "  <script>\n",
              "    async function quickchart(key) {\n",
              "      const quickchartButtonEl =\n",
              "        document.querySelector('#' + key + ' button');\n",
              "      quickchartButtonEl.disabled = true;  // To prevent multiple clicks.\n",
              "      quickchartButtonEl.classList.add('colab-df-spinner');\n",
              "      try {\n",
              "        const charts = await google.colab.kernel.invokeFunction(\n",
              "            'suggestCharts', [key], {});\n",
              "      } catch (error) {\n",
              "        console.error('Error during call to suggestCharts:', error);\n",
              "      }\n",
              "      quickchartButtonEl.classList.remove('colab-df-spinner');\n",
              "      quickchartButtonEl.classList.add('colab-df-quickchart-complete');\n",
              "    }\n",
              "    (() => {\n",
              "      let quickchartButtonEl =\n",
              "        document.querySelector('#df-cc33463d-e13b-4c48-ba21-66ff8602761b button');\n",
              "      quickchartButtonEl.style.display =\n",
              "        google.colab.kernel.accessAllowed ? 'block' : 'none';\n",
              "    })();\n",
              "  </script>\n",
              "</div>\n",
              "\n",
              "    </div>\n",
              "  </div>\n"
            ]
          },
          "metadata": {},
          "execution_count": 175
        }
      ]
    },
    {
      "cell_type": "code",
      "source": [
        "weight_log.describe()"
      ],
      "metadata": {
        "colab": {
          "base_uri": "https://localhost:8080/",
          "height": 300
        },
        "id": "qaSPaReH3NUH",
        "outputId": "77039eef-d730-4b9e-aa2e-98908ea10033"
      },
      "execution_count": null,
      "outputs": [
        {
          "output_type": "execute_result",
          "data": {
            "text/plain": [
              "                 Id    WeightKg  WeightPounds        BMI\n",
              "count  6.700000e+01   67.000000     67.000000  67.000000\n",
              "mean   7.009282e+09   72.035821    158.811801  25.185224\n",
              "std    1.950322e+09   13.923206     30.695415   3.066963\n",
              "min    1.503960e+09   52.599998    115.963147  21.450001\n",
              "25%    6.962181e+09   61.400002    135.363832  23.959999\n",
              "50%    6.962181e+09   62.500000    137.788914  24.389999\n",
              "75%    8.877689e+09   85.049999    187.503152  25.559999\n",
              "max    8.877689e+09  133.500000    294.317120  47.540001"
            ],
            "text/html": [
              "\n",
              "  <div id=\"df-e0fa491e-7bdc-4ee5-92fb-d5ccd4f59777\" class=\"colab-df-container\">\n",
              "    <div>\n",
              "<style scoped>\n",
              "    .dataframe tbody tr th:only-of-type {\n",
              "        vertical-align: middle;\n",
              "    }\n",
              "\n",
              "    .dataframe tbody tr th {\n",
              "        vertical-align: top;\n",
              "    }\n",
              "\n",
              "    .dataframe thead th {\n",
              "        text-align: right;\n",
              "    }\n",
              "</style>\n",
              "<table border=\"1\" class=\"dataframe\">\n",
              "  <thead>\n",
              "    <tr style=\"text-align: right;\">\n",
              "      <th></th>\n",
              "      <th>Id</th>\n",
              "      <th>WeightKg</th>\n",
              "      <th>WeightPounds</th>\n",
              "      <th>BMI</th>\n",
              "    </tr>\n",
              "  </thead>\n",
              "  <tbody>\n",
              "    <tr>\n",
              "      <th>count</th>\n",
              "      <td>6.700000e+01</td>\n",
              "      <td>67.000000</td>\n",
              "      <td>67.000000</td>\n",
              "      <td>67.000000</td>\n",
              "    </tr>\n",
              "    <tr>\n",
              "      <th>mean</th>\n",
              "      <td>7.009282e+09</td>\n",
              "      <td>72.035821</td>\n",
              "      <td>158.811801</td>\n",
              "      <td>25.185224</td>\n",
              "    </tr>\n",
              "    <tr>\n",
              "      <th>std</th>\n",
              "      <td>1.950322e+09</td>\n",
              "      <td>13.923206</td>\n",
              "      <td>30.695415</td>\n",
              "      <td>3.066963</td>\n",
              "    </tr>\n",
              "    <tr>\n",
              "      <th>min</th>\n",
              "      <td>1.503960e+09</td>\n",
              "      <td>52.599998</td>\n",
              "      <td>115.963147</td>\n",
              "      <td>21.450001</td>\n",
              "    </tr>\n",
              "    <tr>\n",
              "      <th>25%</th>\n",
              "      <td>6.962181e+09</td>\n",
              "      <td>61.400002</td>\n",
              "      <td>135.363832</td>\n",
              "      <td>23.959999</td>\n",
              "    </tr>\n",
              "    <tr>\n",
              "      <th>50%</th>\n",
              "      <td>6.962181e+09</td>\n",
              "      <td>62.500000</td>\n",
              "      <td>137.788914</td>\n",
              "      <td>24.389999</td>\n",
              "    </tr>\n",
              "    <tr>\n",
              "      <th>75%</th>\n",
              "      <td>8.877689e+09</td>\n",
              "      <td>85.049999</td>\n",
              "      <td>187.503152</td>\n",
              "      <td>25.559999</td>\n",
              "    </tr>\n",
              "    <tr>\n",
              "      <th>max</th>\n",
              "      <td>8.877689e+09</td>\n",
              "      <td>133.500000</td>\n",
              "      <td>294.317120</td>\n",
              "      <td>47.540001</td>\n",
              "    </tr>\n",
              "  </tbody>\n",
              "</table>\n",
              "</div>\n",
              "    <div class=\"colab-df-buttons\">\n",
              "\n",
              "  <div class=\"colab-df-container\">\n",
              "    <button class=\"colab-df-convert\" onclick=\"convertToInteractive('df-e0fa491e-7bdc-4ee5-92fb-d5ccd4f59777')\"\n",
              "            title=\"Convert this dataframe to an interactive table.\"\n",
              "            style=\"display:none;\">\n",
              "\n",
              "  <svg xmlns=\"http://www.w3.org/2000/svg\" height=\"24px\" viewBox=\"0 -960 960 960\">\n",
              "    <path d=\"M120-120v-720h720v720H120Zm60-500h600v-160H180v160Zm220 220h160v-160H400v160Zm0 220h160v-160H400v160ZM180-400h160v-160H180v160Zm440 0h160v-160H620v160ZM180-180h160v-160H180v160Zm440 0h160v-160H620v160Z\"/>\n",
              "  </svg>\n",
              "    </button>\n",
              "\n",
              "  <style>\n",
              "    .colab-df-container {\n",
              "      display:flex;\n",
              "      gap: 12px;\n",
              "    }\n",
              "\n",
              "    .colab-df-convert {\n",
              "      background-color: #E8F0FE;\n",
              "      border: none;\n",
              "      border-radius: 50%;\n",
              "      cursor: pointer;\n",
              "      display: none;\n",
              "      fill: #1967D2;\n",
              "      height: 32px;\n",
              "      padding: 0 0 0 0;\n",
              "      width: 32px;\n",
              "    }\n",
              "\n",
              "    .colab-df-convert:hover {\n",
              "      background-color: #E2EBFA;\n",
              "      box-shadow: 0px 1px 2px rgba(60, 64, 67, 0.3), 0px 1px 3px 1px rgba(60, 64, 67, 0.15);\n",
              "      fill: #174EA6;\n",
              "    }\n",
              "\n",
              "    .colab-df-buttons div {\n",
              "      margin-bottom: 4px;\n",
              "    }\n",
              "\n",
              "    [theme=dark] .colab-df-convert {\n",
              "      background-color: #3B4455;\n",
              "      fill: #D2E3FC;\n",
              "    }\n",
              "\n",
              "    [theme=dark] .colab-df-convert:hover {\n",
              "      background-color: #434B5C;\n",
              "      box-shadow: 0px 1px 3px 1px rgba(0, 0, 0, 0.15);\n",
              "      filter: drop-shadow(0px 1px 2px rgba(0, 0, 0, 0.3));\n",
              "      fill: #FFFFFF;\n",
              "    }\n",
              "  </style>\n",
              "\n",
              "    <script>\n",
              "      const buttonEl =\n",
              "        document.querySelector('#df-e0fa491e-7bdc-4ee5-92fb-d5ccd4f59777 button.colab-df-convert');\n",
              "      buttonEl.style.display =\n",
              "        google.colab.kernel.accessAllowed ? 'block' : 'none';\n",
              "\n",
              "      async function convertToInteractive(key) {\n",
              "        const element = document.querySelector('#df-e0fa491e-7bdc-4ee5-92fb-d5ccd4f59777');\n",
              "        const dataTable =\n",
              "          await google.colab.kernel.invokeFunction('convertToInteractive',\n",
              "                                                    [key], {});\n",
              "        if (!dataTable) return;\n",
              "\n",
              "        const docLinkHtml = 'Like what you see? Visit the ' +\n",
              "          '<a target=\"_blank\" href=https://colab.research.google.com/notebooks/data_table.ipynb>data table notebook</a>'\n",
              "          + ' to learn more about interactive tables.';\n",
              "        element.innerHTML = '';\n",
              "        dataTable['output_type'] = 'display_data';\n",
              "        await google.colab.output.renderOutput(dataTable, element);\n",
              "        const docLink = document.createElement('div');\n",
              "        docLink.innerHTML = docLinkHtml;\n",
              "        element.appendChild(docLink);\n",
              "      }\n",
              "    </script>\n",
              "  </div>\n",
              "\n",
              "\n",
              "<div id=\"df-7507daa0-0466-4c8f-889f-d07c07546893\">\n",
              "  <button class=\"colab-df-quickchart\" onclick=\"quickchart('df-7507daa0-0466-4c8f-889f-d07c07546893')\"\n",
              "            title=\"Suggest charts\"\n",
              "            style=\"display:none;\">\n",
              "\n",
              "<svg xmlns=\"http://www.w3.org/2000/svg\" height=\"24px\"viewBox=\"0 0 24 24\"\n",
              "     width=\"24px\">\n",
              "    <g>\n",
              "        <path d=\"M19 3H5c-1.1 0-2 .9-2 2v14c0 1.1.9 2 2 2h14c1.1 0 2-.9 2-2V5c0-1.1-.9-2-2-2zM9 17H7v-7h2v7zm4 0h-2V7h2v10zm4 0h-2v-4h2v4z\"/>\n",
              "    </g>\n",
              "</svg>\n",
              "  </button>\n",
              "\n",
              "<style>\n",
              "  .colab-df-quickchart {\n",
              "      --bg-color: #E8F0FE;\n",
              "      --fill-color: #1967D2;\n",
              "      --hover-bg-color: #E2EBFA;\n",
              "      --hover-fill-color: #174EA6;\n",
              "      --disabled-fill-color: #AAA;\n",
              "      --disabled-bg-color: #DDD;\n",
              "  }\n",
              "\n",
              "  [theme=dark] .colab-df-quickchart {\n",
              "      --bg-color: #3B4455;\n",
              "      --fill-color: #D2E3FC;\n",
              "      --hover-bg-color: #434B5C;\n",
              "      --hover-fill-color: #FFFFFF;\n",
              "      --disabled-bg-color: #3B4455;\n",
              "      --disabled-fill-color: #666;\n",
              "  }\n",
              "\n",
              "  .colab-df-quickchart {\n",
              "    background-color: var(--bg-color);\n",
              "    border: none;\n",
              "    border-radius: 50%;\n",
              "    cursor: pointer;\n",
              "    display: none;\n",
              "    fill: var(--fill-color);\n",
              "    height: 32px;\n",
              "    padding: 0;\n",
              "    width: 32px;\n",
              "  }\n",
              "\n",
              "  .colab-df-quickchart:hover {\n",
              "    background-color: var(--hover-bg-color);\n",
              "    box-shadow: 0 1px 2px rgba(60, 64, 67, 0.3), 0 1px 3px 1px rgba(60, 64, 67, 0.15);\n",
              "    fill: var(--button-hover-fill-color);\n",
              "  }\n",
              "\n",
              "  .colab-df-quickchart-complete:disabled,\n",
              "  .colab-df-quickchart-complete:disabled:hover {\n",
              "    background-color: var(--disabled-bg-color);\n",
              "    fill: var(--disabled-fill-color);\n",
              "    box-shadow: none;\n",
              "  }\n",
              "\n",
              "  .colab-df-spinner {\n",
              "    border: 2px solid var(--fill-color);\n",
              "    border-color: transparent;\n",
              "    border-bottom-color: var(--fill-color);\n",
              "    animation:\n",
              "      spin 1s steps(1) infinite;\n",
              "  }\n",
              "\n",
              "  @keyframes spin {\n",
              "    0% {\n",
              "      border-color: transparent;\n",
              "      border-bottom-color: var(--fill-color);\n",
              "      border-left-color: var(--fill-color);\n",
              "    }\n",
              "    20% {\n",
              "      border-color: transparent;\n",
              "      border-left-color: var(--fill-color);\n",
              "      border-top-color: var(--fill-color);\n",
              "    }\n",
              "    30% {\n",
              "      border-color: transparent;\n",
              "      border-left-color: var(--fill-color);\n",
              "      border-top-color: var(--fill-color);\n",
              "      border-right-color: var(--fill-color);\n",
              "    }\n",
              "    40% {\n",
              "      border-color: transparent;\n",
              "      border-right-color: var(--fill-color);\n",
              "      border-top-color: var(--fill-color);\n",
              "    }\n",
              "    60% {\n",
              "      border-color: transparent;\n",
              "      border-right-color: var(--fill-color);\n",
              "    }\n",
              "    80% {\n",
              "      border-color: transparent;\n",
              "      border-right-color: var(--fill-color);\n",
              "      border-bottom-color: var(--fill-color);\n",
              "    }\n",
              "    90% {\n",
              "      border-color: transparent;\n",
              "      border-bottom-color: var(--fill-color);\n",
              "    }\n",
              "  }\n",
              "</style>\n",
              "\n",
              "  <script>\n",
              "    async function quickchart(key) {\n",
              "      const quickchartButtonEl =\n",
              "        document.querySelector('#' + key + ' button');\n",
              "      quickchartButtonEl.disabled = true;  // To prevent multiple clicks.\n",
              "      quickchartButtonEl.classList.add('colab-df-spinner');\n",
              "      try {\n",
              "        const charts = await google.colab.kernel.invokeFunction(\n",
              "            'suggestCharts', [key], {});\n",
              "      } catch (error) {\n",
              "        console.error('Error during call to suggestCharts:', error);\n",
              "      }\n",
              "      quickchartButtonEl.classList.remove('colab-df-spinner');\n",
              "      quickchartButtonEl.classList.add('colab-df-quickchart-complete');\n",
              "    }\n",
              "    (() => {\n",
              "      let quickchartButtonEl =\n",
              "        document.querySelector('#df-7507daa0-0466-4c8f-889f-d07c07546893 button');\n",
              "      quickchartButtonEl.style.display =\n",
              "        google.colab.kernel.accessAllowed ? 'block' : 'none';\n",
              "    })();\n",
              "  </script>\n",
              "</div>\n",
              "\n",
              "    </div>\n",
              "  </div>\n"
            ]
          },
          "metadata": {},
          "execution_count": 176
        }
      ]
    },
    {
      "cell_type": "code",
      "source": [
        "heart_rate.describe()"
      ],
      "metadata": {
        "colab": {
          "base_uri": "https://localhost:8080/",
          "height": 300
        },
        "id": "OX66KuaN3jjx",
        "outputId": "bad53f3c-0a00-48df-9774-32bcb310bdb5"
      },
      "execution_count": null,
      "outputs": [
        {
          "output_type": "execute_result",
          "data": {
            "text/plain": [
              "                 Id        Value  MinuteAverage  HourlyAverage\n",
              "count  3.332000e+03  3332.000000    3332.000000    3332.000000\n",
              "mean   5.424189e+09    74.035414      74.078908      73.421927\n",
              "std    1.795262e+09    16.838130      16.610596      13.746674\n",
              "min    2.022484e+09    38.000000      36.800000      43.294008\n",
              "25%    4.388162e+09    62.000000      62.000000      63.398097\n",
              "50%    5.553957e+09    70.000000      70.500000      71.528750\n",
              "75%    6.962181e+09    84.000000      83.435065      82.138599\n",
              "max    8.877689e+09   191.000000     191.000000     156.267686"
            ],
            "text/html": [
              "\n",
              "  <div id=\"df-35ad1db6-fcd7-4ed3-868f-3c3e9a017cce\" class=\"colab-df-container\">\n",
              "    <div>\n",
              "<style scoped>\n",
              "    .dataframe tbody tr th:only-of-type {\n",
              "        vertical-align: middle;\n",
              "    }\n",
              "\n",
              "    .dataframe tbody tr th {\n",
              "        vertical-align: top;\n",
              "    }\n",
              "\n",
              "    .dataframe thead th {\n",
              "        text-align: right;\n",
              "    }\n",
              "</style>\n",
              "<table border=\"1\" class=\"dataframe\">\n",
              "  <thead>\n",
              "    <tr style=\"text-align: right;\">\n",
              "      <th></th>\n",
              "      <th>Id</th>\n",
              "      <th>Value</th>\n",
              "      <th>MinuteAverage</th>\n",
              "      <th>HourlyAverage</th>\n",
              "    </tr>\n",
              "  </thead>\n",
              "  <tbody>\n",
              "    <tr>\n",
              "      <th>count</th>\n",
              "      <td>3.332000e+03</td>\n",
              "      <td>3332.000000</td>\n",
              "      <td>3332.000000</td>\n",
              "      <td>3332.000000</td>\n",
              "    </tr>\n",
              "    <tr>\n",
              "      <th>mean</th>\n",
              "      <td>5.424189e+09</td>\n",
              "      <td>74.035414</td>\n",
              "      <td>74.078908</td>\n",
              "      <td>73.421927</td>\n",
              "    </tr>\n",
              "    <tr>\n",
              "      <th>std</th>\n",
              "      <td>1.795262e+09</td>\n",
              "      <td>16.838130</td>\n",
              "      <td>16.610596</td>\n",
              "      <td>13.746674</td>\n",
              "    </tr>\n",
              "    <tr>\n",
              "      <th>min</th>\n",
              "      <td>2.022484e+09</td>\n",
              "      <td>38.000000</td>\n",
              "      <td>36.800000</td>\n",
              "      <td>43.294008</td>\n",
              "    </tr>\n",
              "    <tr>\n",
              "      <th>25%</th>\n",
              "      <td>4.388162e+09</td>\n",
              "      <td>62.000000</td>\n",
              "      <td>62.000000</td>\n",
              "      <td>63.398097</td>\n",
              "    </tr>\n",
              "    <tr>\n",
              "      <th>50%</th>\n",
              "      <td>5.553957e+09</td>\n",
              "      <td>70.000000</td>\n",
              "      <td>70.500000</td>\n",
              "      <td>71.528750</td>\n",
              "    </tr>\n",
              "    <tr>\n",
              "      <th>75%</th>\n",
              "      <td>6.962181e+09</td>\n",
              "      <td>84.000000</td>\n",
              "      <td>83.435065</td>\n",
              "      <td>82.138599</td>\n",
              "    </tr>\n",
              "    <tr>\n",
              "      <th>max</th>\n",
              "      <td>8.877689e+09</td>\n",
              "      <td>191.000000</td>\n",
              "      <td>191.000000</td>\n",
              "      <td>156.267686</td>\n",
              "    </tr>\n",
              "  </tbody>\n",
              "</table>\n",
              "</div>\n",
              "    <div class=\"colab-df-buttons\">\n",
              "\n",
              "  <div class=\"colab-df-container\">\n",
              "    <button class=\"colab-df-convert\" onclick=\"convertToInteractive('df-35ad1db6-fcd7-4ed3-868f-3c3e9a017cce')\"\n",
              "            title=\"Convert this dataframe to an interactive table.\"\n",
              "            style=\"display:none;\">\n",
              "\n",
              "  <svg xmlns=\"http://www.w3.org/2000/svg\" height=\"24px\" viewBox=\"0 -960 960 960\">\n",
              "    <path d=\"M120-120v-720h720v720H120Zm60-500h600v-160H180v160Zm220 220h160v-160H400v160Zm0 220h160v-160H400v160ZM180-400h160v-160H180v160Zm440 0h160v-160H620v160ZM180-180h160v-160H180v160Zm440 0h160v-160H620v160Z\"/>\n",
              "  </svg>\n",
              "    </button>\n",
              "\n",
              "  <style>\n",
              "    .colab-df-container {\n",
              "      display:flex;\n",
              "      gap: 12px;\n",
              "    }\n",
              "\n",
              "    .colab-df-convert {\n",
              "      background-color: #E8F0FE;\n",
              "      border: none;\n",
              "      border-radius: 50%;\n",
              "      cursor: pointer;\n",
              "      display: none;\n",
              "      fill: #1967D2;\n",
              "      height: 32px;\n",
              "      padding: 0 0 0 0;\n",
              "      width: 32px;\n",
              "    }\n",
              "\n",
              "    .colab-df-convert:hover {\n",
              "      background-color: #E2EBFA;\n",
              "      box-shadow: 0px 1px 2px rgba(60, 64, 67, 0.3), 0px 1px 3px 1px rgba(60, 64, 67, 0.15);\n",
              "      fill: #174EA6;\n",
              "    }\n",
              "\n",
              "    .colab-df-buttons div {\n",
              "      margin-bottom: 4px;\n",
              "    }\n",
              "\n",
              "    [theme=dark] .colab-df-convert {\n",
              "      background-color: #3B4455;\n",
              "      fill: #D2E3FC;\n",
              "    }\n",
              "\n",
              "    [theme=dark] .colab-df-convert:hover {\n",
              "      background-color: #434B5C;\n",
              "      box-shadow: 0px 1px 3px 1px rgba(0, 0, 0, 0.15);\n",
              "      filter: drop-shadow(0px 1px 2px rgba(0, 0, 0, 0.3));\n",
              "      fill: #FFFFFF;\n",
              "    }\n",
              "  </style>\n",
              "\n",
              "    <script>\n",
              "      const buttonEl =\n",
              "        document.querySelector('#df-35ad1db6-fcd7-4ed3-868f-3c3e9a017cce button.colab-df-convert');\n",
              "      buttonEl.style.display =\n",
              "        google.colab.kernel.accessAllowed ? 'block' : 'none';\n",
              "\n",
              "      async function convertToInteractive(key) {\n",
              "        const element = document.querySelector('#df-35ad1db6-fcd7-4ed3-868f-3c3e9a017cce');\n",
              "        const dataTable =\n",
              "          await google.colab.kernel.invokeFunction('convertToInteractive',\n",
              "                                                    [key], {});\n",
              "        if (!dataTable) return;\n",
              "\n",
              "        const docLinkHtml = 'Like what you see? Visit the ' +\n",
              "          '<a target=\"_blank\" href=https://colab.research.google.com/notebooks/data_table.ipynb>data table notebook</a>'\n",
              "          + ' to learn more about interactive tables.';\n",
              "        element.innerHTML = '';\n",
              "        dataTable['output_type'] = 'display_data';\n",
              "        await google.colab.output.renderOutput(dataTable, element);\n",
              "        const docLink = document.createElement('div');\n",
              "        docLink.innerHTML = docLinkHtml;\n",
              "        element.appendChild(docLink);\n",
              "      }\n",
              "    </script>\n",
              "  </div>\n",
              "\n",
              "\n",
              "<div id=\"df-609f15c5-a1cf-4a3f-b97a-64af361a7d6b\">\n",
              "  <button class=\"colab-df-quickchart\" onclick=\"quickchart('df-609f15c5-a1cf-4a3f-b97a-64af361a7d6b')\"\n",
              "            title=\"Suggest charts\"\n",
              "            style=\"display:none;\">\n",
              "\n",
              "<svg xmlns=\"http://www.w3.org/2000/svg\" height=\"24px\"viewBox=\"0 0 24 24\"\n",
              "     width=\"24px\">\n",
              "    <g>\n",
              "        <path d=\"M19 3H5c-1.1 0-2 .9-2 2v14c0 1.1.9 2 2 2h14c1.1 0 2-.9 2-2V5c0-1.1-.9-2-2-2zM9 17H7v-7h2v7zm4 0h-2V7h2v10zm4 0h-2v-4h2v4z\"/>\n",
              "    </g>\n",
              "</svg>\n",
              "  </button>\n",
              "\n",
              "<style>\n",
              "  .colab-df-quickchart {\n",
              "      --bg-color: #E8F0FE;\n",
              "      --fill-color: #1967D2;\n",
              "      --hover-bg-color: #E2EBFA;\n",
              "      --hover-fill-color: #174EA6;\n",
              "      --disabled-fill-color: #AAA;\n",
              "      --disabled-bg-color: #DDD;\n",
              "  }\n",
              "\n",
              "  [theme=dark] .colab-df-quickchart {\n",
              "      --bg-color: #3B4455;\n",
              "      --fill-color: #D2E3FC;\n",
              "      --hover-bg-color: #434B5C;\n",
              "      --hover-fill-color: #FFFFFF;\n",
              "      --disabled-bg-color: #3B4455;\n",
              "      --disabled-fill-color: #666;\n",
              "  }\n",
              "\n",
              "  .colab-df-quickchart {\n",
              "    background-color: var(--bg-color);\n",
              "    border: none;\n",
              "    border-radius: 50%;\n",
              "    cursor: pointer;\n",
              "    display: none;\n",
              "    fill: var(--fill-color);\n",
              "    height: 32px;\n",
              "    padding: 0;\n",
              "    width: 32px;\n",
              "  }\n",
              "\n",
              "  .colab-df-quickchart:hover {\n",
              "    background-color: var(--hover-bg-color);\n",
              "    box-shadow: 0 1px 2px rgba(60, 64, 67, 0.3), 0 1px 3px 1px rgba(60, 64, 67, 0.15);\n",
              "    fill: var(--button-hover-fill-color);\n",
              "  }\n",
              "\n",
              "  .colab-df-quickchart-complete:disabled,\n",
              "  .colab-df-quickchart-complete:disabled:hover {\n",
              "    background-color: var(--disabled-bg-color);\n",
              "    fill: var(--disabled-fill-color);\n",
              "    box-shadow: none;\n",
              "  }\n",
              "\n",
              "  .colab-df-spinner {\n",
              "    border: 2px solid var(--fill-color);\n",
              "    border-color: transparent;\n",
              "    border-bottom-color: var(--fill-color);\n",
              "    animation:\n",
              "      spin 1s steps(1) infinite;\n",
              "  }\n",
              "\n",
              "  @keyframes spin {\n",
              "    0% {\n",
              "      border-color: transparent;\n",
              "      border-bottom-color: var(--fill-color);\n",
              "      border-left-color: var(--fill-color);\n",
              "    }\n",
              "    20% {\n",
              "      border-color: transparent;\n",
              "      border-left-color: var(--fill-color);\n",
              "      border-top-color: var(--fill-color);\n",
              "    }\n",
              "    30% {\n",
              "      border-color: transparent;\n",
              "      border-left-color: var(--fill-color);\n",
              "      border-top-color: var(--fill-color);\n",
              "      border-right-color: var(--fill-color);\n",
              "    }\n",
              "    40% {\n",
              "      border-color: transparent;\n",
              "      border-right-color: var(--fill-color);\n",
              "      border-top-color: var(--fill-color);\n",
              "    }\n",
              "    60% {\n",
              "      border-color: transparent;\n",
              "      border-right-color: var(--fill-color);\n",
              "    }\n",
              "    80% {\n",
              "      border-color: transparent;\n",
              "      border-right-color: var(--fill-color);\n",
              "      border-bottom-color: var(--fill-color);\n",
              "    }\n",
              "    90% {\n",
              "      border-color: transparent;\n",
              "      border-bottom-color: var(--fill-color);\n",
              "    }\n",
              "  }\n",
              "</style>\n",
              "\n",
              "  <script>\n",
              "    async function quickchart(key) {\n",
              "      const quickchartButtonEl =\n",
              "        document.querySelector('#' + key + ' button');\n",
              "      quickchartButtonEl.disabled = true;  // To prevent multiple clicks.\n",
              "      quickchartButtonEl.classList.add('colab-df-spinner');\n",
              "      try {\n",
              "        const charts = await google.colab.kernel.invokeFunction(\n",
              "            'suggestCharts', [key], {});\n",
              "      } catch (error) {\n",
              "        console.error('Error during call to suggestCharts:', error);\n",
              "      }\n",
              "      quickchartButtonEl.classList.remove('colab-df-spinner');\n",
              "      quickchartButtonEl.classList.add('colab-df-quickchart-complete');\n",
              "    }\n",
              "    (() => {\n",
              "      let quickchartButtonEl =\n",
              "        document.querySelector('#df-609f15c5-a1cf-4a3f-b97a-64af361a7d6b button');\n",
              "      quickchartButtonEl.style.display =\n",
              "        google.colab.kernel.accessAllowed ? 'block' : 'none';\n",
              "    })();\n",
              "  </script>\n",
              "</div>\n",
              "\n",
              "    </div>\n",
              "  </div>\n"
            ]
          },
          "metadata": {},
          "execution_count": 177
        }
      ]
    },
    {
      "cell_type": "code",
      "source": [],
      "metadata": {
        "id": "UKpJqY1-33Ij"
      },
      "execution_count": null,
      "outputs": []
    }
  ]
}